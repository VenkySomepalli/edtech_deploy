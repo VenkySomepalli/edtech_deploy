{
  "cells": [
    {
      "cell_type": "markdown",
      "metadata": {
        "id": "view-in-github",
        "colab_type": "text"
      },
      "source": [
        "<a href=\"https://colab.research.google.com/github/VenkySomepalli/edtech_deploy/blob/main/Edtech_course_final.ipynb\" target=\"_parent\"><img src=\"https://colab.research.google.com/assets/colab-badge.svg\" alt=\"Open In Colab\"/></a>"
      ]
    },
    {
      "cell_type": "markdown",
      "id": "b1025321",
      "metadata": {
        "id": "b1025321"
      },
      "source": [
        " # EDTECH course cost prediction."
      ]
    },
    {
      "cell_type": "markdown",
      "id": "91c626b7",
      "metadata": {
        "id": "91c626b7"
      },
      "source": [
        "CRISP-ML(Q) Methodology\n",
        " * Business and Data understanding\n",
        " * Data preparation(Data Engineering)\n",
        " * Model Building(Machine Learning)\n",
        " * Model Evaluation and Tunning\n",
        " * Deployment\n",
        " * Monitoring and Maintenance"
      ]
    },
    {
      "cell_type": "markdown",
      "id": "5245220f",
      "metadata": {
        "id": "5245220f"
      },
      "source": [
        "# Stage 1: Business Understanding Project Overview"
      ]
    },
    {
      "cell_type": "markdown",
      "id": "f1fbfbda",
      "metadata": {
        "id": "f1fbfbda"
      },
      "source": [
        "* The project aims to be predict the course price of Edtech companies.\n",
        "* Collection of data respected fields(less data(real) occured these area)."
      ]
    },
    {
      "cell_type": "markdown",
      "id": "182424cc",
      "metadata": {
        "id": "182424cc"
      },
      "source": [
        "# * Business Objectives *"
      ]
    },
    {
      "cell_type": "markdown",
      "id": "b6427ed4",
      "metadata": {
        "id": "b6427ed4"
      },
      "source": [
        "* Maximize the course cost.\n",
        "* Minimize the Maintenance cost."
      ]
    },
    {
      "cell_type": "markdown",
      "id": "c0f24f53",
      "metadata": {
        "id": "c0f24f53"
      },
      "source": [
        "# * Constraints *"
      ]
    },
    {
      "cell_type": "markdown",
      "id": "b13bed8f",
      "metadata": {
        "id": "b13bed8f"
      },
      "source": [
        "* The model my be impacted by infrastructure cost, trainer cost ....\n",
        "* Students enrollments, palcements ......"
      ]
    },
    {
      "cell_type": "markdown",
      "id": "74f3927f",
      "metadata": {
        "id": "74f3927f"
      },
      "source": [
        "# Load the Edtech_course data to predict the course price."
      ]
    },
    {
      "cell_type": "markdown",
      "id": "ee798ccd",
      "metadata": {
        "id": "ee798ccd"
      },
      "source": [
        "# Loading data form MySQL server DataBase."
      ]
    },
    {
      "cell_type": "code",
      "execution_count": null,
      "id": "62d6525c",
      "metadata": {
        "id": "62d6525c",
        "outputId": "7875d704-b805-41e4-93b5-d3606294f8ae"
      },
      "outputs": [
        {
          "name": "stdout",
          "output_type": "stream",
          "text": [
            "[(1, 'Datatrain', 'ProjectManagement', 'Delhi', 'Doctorate', 'Yes', 'Yes', 'advanced', 'Yes', 'Yes', 19, 192, 5, 145, 722, 140, 205, 1419), (2, 'Datatrain', 'DataScience', 'Hyderabad', 'Graduate', 'Yes', 'no', 'advanced', 'No', 'Yes', 9, 94, 2, 68, 454, 70, 116, 746), (3, 'Guvi', 'python', 'Chennai', 'UnderGraduate', 'no', 'no', 'advanced', 'Yes', 'Yes', 15, 154, 4, 112, 641, 118, 179, 1121), (4, 'innomatics', 'DigitalTransformation', 'Ahmedabad', 'Doctorate', 'Yes', 'Yes', 'intermediate', 'No', 'Yes', 18, 182, 5, 130, 729, 132, 108, 1341), (5, 'Datatrain', 'DigitalTransformation', 'Pune', 'UnderGraduate', 'Yes', 'Yes', 'advanced', 'No', 'Yes', 6, 75, 2, 43, 349, 45, 88, 512), (6, 'Datatrain', 'python', 'Ahmedabad', 'UnderGraduate', 'no', 'Yes', 'beginer', 'Yes', 'Yes', 11, 115, 3, 84, 510, 80, 135, 879), (7, '360DigiTMG', 'BigData', 'Pune', 'UnderGraduate', 'no', 'no', 'beginer', 'Yes', 'Yes', 6, 63, 2, 37, 297, 40, 76, 429), (8, 'Edureka', 'ArtificialIntelligence', 'Kanpour', 'Doctorate', 'no', 'Yes', 'advanced', 'Yes', 'Yes', 6, 70, 2, 42, 315, 46, 80, 481), (9, 'Udemy', 'BigData', 'Bengaluru', 'Doctorate', 'no', 'no', 'beginer', 'Yes', 'Yes', 6, 78, 2, 51, 356, 51, 95, 618), (10, 'Coursera', 'Dataanalysis', 'Kanpour', 'Graduate', 'Yes', 'Yes', 'advanced', 'Yes', 'Yes', 6, 67, 2, 39, 310, 43, 78, 463), (11, 'Edvancer', 'FullstackDataScience', 'Bengaluru', 'UnderGraduate', 'Yes', 'Yes', 'beginer', 'Yes', 'Yes', 6, 77, 2, 49, 354, 50, 94, 597), (12, '360DigiTMG', 'DataScience', 'Ahmedabad', 'UnderGraduate', 'no', 'Yes', 'beginer', 'No', 'Yes', 1, 41, 1, 16, 217, 20, 53, 322), (13, 'Coursera', 'FullstackDataScience', 'Kanpour', 'UnderGraduate', 'no', 'no', 'beginer', 'No', 'Yes', 15, 160, 4, 115, 642, 115, 178, 1133), (14, 'Simple_learn', 'DigitalTransformation', 'Delhi', 'Graduate', 'Yes', 'Yes', 'beginer', 'No', 'Yes', 1, 40, 1, 16, 210, 16, 51, 320), (15, 'Great_Learn', 'ArtificialIntelligence', 'Bengaluru', 'Doctorate', 'no', 'Yes', 'beginer', 'Yes', 'Yes', 6, 85, 3, 59, 409, 58, 106, 679), (16, 'Simple_learn', 'CloudComputing', 'Chennai', 'Graduate', 'Yes', 'no', 'beginer', 'Yes', 'Yes', 1, 44, 1, 17, 211, 16, 50, 318), (17, 'innomatics', 'ProjectManagement', 'Ahmedabad', 'Doctorate', 'Yes', 'no', 'intermediate', 'No', 'Yes', 12, 126, 3, 90, 524, 93, 145, 932), (18, 'Coursera', 'BigData', 'Chennai', 'UnderGraduate', 'no', 'Yes', 'intermediate', 'Yes', 'Yes', 11, 117, 3, 83, 511, 81, 136, 871), (19, 'innomatics', 'python', 'Mumbai', 'Graduate', 'no', 'Yes', 'intermediate', 'Yes', 'Yes', 7, 87, 2, 59, 455, 63, 101, 683), (20, 'Edureka', 'DigitalTransformation', 'Bengaluru', 'Graduate', 'no', 'no', 'intermediate', 'No', 'Yes', 2, 48, 1, 16, 232, 16, 59, 324), (21, 'innomatics', 'Dataanalysis', 'Calcutta', 'Doctorate', 'no', 'Yes', 'intermediate', 'Yes', 'Yes', 4, 62, 1, 39, 286, 33, 72, 727), (22, 'Upgrad', 'FullstackDataScience', 'Kanpour', 'UnderGraduate', 'Yes', 'Yes', 'intermediate', 'No', 'Yes', 5, 69, 2, 42, 301, 37, 75, 761), (23, 'Datatrain', 'ProjectManagement', 'Pune', 'Graduate', 'Yes', 'Yes', 'intermediate', 'No', 'Yes', 12, 127, 3, 88, 520, 85, 141, 959), (24, 'Edvancer', 'DigitalTransformation', 'Ahmedabad', 'UnderGraduate', 'no', 'no', 'advanced', 'No', 'Yes', 10, 115, 3, 78, 486, 80, 135, 827), (25, 'Data_camp', 'ArtificialIntelligence', 'Chennai', 'Doctorate', 'no', 'no', 'beginer', 'No', 'Yes', 11, 118, 3, 85, 511, 83, 137, 882), (26, 'Coursera', 'ArtificialIntelligence', 'Calcutta', 'Graduate', 'Yes', 'Yes', 'beginer', 'No', 'Yes', 12, 127, 3, 93, 550, 86, 140, 916), (27, 'Edvancer', 'DataScience', 'Chennai', 'Doctorate', 'no', 'no', 'advanced', 'No', 'Yes', 5, 65, 2, 37, 298, 39, 79, 458), (28, '360DigiTMG', 'DigitalMarketing', 'Bengaluru', 'Graduate', 'Yes', 'no', 'advanced', 'Yes', 'Yes', 4, 62, 2, 34, 280, 35, 75, 428), (29, 'Guvi', 'FullstackDataScience', 'Kanpour', 'Graduate', 'no', 'no', 'beginer', 'Yes', 'Yes', 9, 104, 3, 72, 443, 74, 117, 741), (30, 'Edvancer', 'python', 'Calcutta', 'Graduate', 'Yes', 'no', 'intermediate', 'Yes', 'Yes', 15, 155, 4, 114, 640, 115, 176, 1127), (31, 'Datatrain', 'DataScience', 'Chennai', 'Graduate', 'Yes', 'Yes', 'advanced', 'Yes', 'Yes', 10, 98, 2, 43, 300, 75, 127, 799), (32, 'innomatics', 'DataScience', 'Ahmedabad', 'UnderGraduate', 'Yes', 'no', 'beginer', 'Yes', 'Yes', 12, 122, 3, 87, 535, 86, 141, 933), (33, 'ExcelR', 'CloudComputing', 'Delhi', 'Graduate', 'Yes', 'Yes', 'advanced', 'Yes', 'Yes', 13, 127, 3, 89, 540, 87, 142, 948), (34, 'Data_camp', 'DigitalTransformation', 'Delhi', 'Doctorate', 'Yes', 'Yes', 'beginer', 'Yes', 'Yes', 9, 95, 2, 61, 450, 62, 104, 707), (35, 'Udemy', 'DigitalMarketing', 'Delhi', 'Graduate', 'no', 'no', 'intermediate', 'No', 'Yes', 5, 72, 2, 47, 342, 48, 92, 557), (36, 'Coursera', 'DigitalTransformation', 'Ahmedabad', 'UnderGraduate', 'Yes', 'no', 'intermediate', 'No', 'Yes', 10, 99, 3, 72, 445, 73, 127, 790), (37, 'Edx', 'DigitalTransformation', 'Delhi', 'UnderGraduate', 'Yes', 'no', 'intermediate', 'No', 'Yes', 20, 199, 5, 146, 797, 94, 219, 1484), (38, 'Great_Learn', 'CloudComputing', 'Mumbai', 'Graduate', 'Yes', 'Yes', 'intermediate', 'No', 'Yes', 10, 97, 2, 46, 303, 95, 127, 792), (39, 'Upgrad', 'DigitalMarketing', 'Delhi', 'Doctorate', 'no', 'no', 'intermediate', 'Yes', 'Yes', 9, 93, 2, 60, 445, 96, 103, 696), (40, 'Great_Learn', 'ProjectManagement', 'Pune', 'Doctorate', 'Yes', 'Yes', 'intermediate', 'Yes', 'Yes', 5, 67, 2, 43, 305, 97, 78, 474), (41, 'Datatrain', 'FullstackDataScience', 'Chennai', 'UnderGraduate', 'Yes', 'no', 'advanced', 'Yes', 'Yes', 18, 185, 5, 134, 748, 98, 200, 1322), (42, '360DigiTMG', 'ProjectManagement', 'Delhi', 'Graduate', 'Yes', 'Yes', 'advanced', 'Yes', 'Yes', 19, 190, 5, 135, 758, 99, 205, 1373), (43, 'Edvancer', 'CloudComputing', 'Kanpour', 'Graduate', 'no', 'Yes', 'advanced', 'Yes', 'Yes', 4, 59, 2, 38, 289, 100, 75, 432), (44, 'Udemy', 'ArtificialIntelligence', 'Kanpour', 'Graduate', 'no', 'no', 'beginer', 'Yes', 'Yes', 20, 196, 5, 146, 789, 148, 225, 1465), (45, 'Datatrain', 'python', 'Pune', 'UnderGraduate', 'Yes', 'Yes', 'intermediate', 'No', 'Yes', 16, 165, 3, 81, 520, 82, 138, 905), (46, 'Datatrain', 'ProjectManagement', 'Pune', 'UnderGraduate', 'Yes', 'no', 'beginer', 'Yes', 'Yes', 12, 175, 3, 85, 535, 86, 145, 958), (47, 'Datatrain', 'FullstackDataScience', 'Bengaluru', 'UnderGraduate', 'Yes', 'no', 'intermediate', 'No', 'Yes', 16, 165, 4, 118, 650, 119, 187, 1200), (48, 'Simple_learn', 'BigData', 'Delhi', 'UnderGraduate', 'Yes', 'Yes', 'advanced', 'No', 'Yes', 11, 101, 3, 90, 580, 90, 152, 989), (49, 'innomatics', 'DataScience', 'Delhi', 'Graduate', 'Yes', 'Yes', 'intermediate', 'No', 'Yes', 14, 138, 4, 107, 580, 108, 169, 1079), (50, 'Datatrain', 'Dataanalysis', 'Pune', 'Graduate', 'no', 'no', 'intermediate', 'Yes', 'Yes', 2, 42, 1, 15, 210, 16, 52, 319), (51, 'innomatics', 'CloudComputing', 'Bengaluru', 'UnderGraduate', 'Yes', 'no', 'intermediate', 'No', 'Yes', 6, 75, 2, 48, 350, 49, 93, 587), (52, 'Edureka', 'ProjectManagement', 'Kanpour', 'Graduate', 'Yes', 'Yes', 'intermediate', 'Yes', 'Yes', 16, 165, 4, 119, 660, 122, 195, 1246), (53, 'Udemy', 'python', 'Hyderabad', 'UnderGraduate', 'Yes', 'Yes', 'advanced', 'Yes', 'Yes', 13, 130, 3, 102, 591, 106, 150, 1051), (54, 'Coursera', 'DigitalMarketing', 'Calcutta', 'UnderGraduate', 'Yes', 'no', 'beginer', 'Yes', 'Yes', 9, 98, 3, 74, 482, 75, 118, 800), (55, 'Data_camp', 'DigitalMarketing', 'Pune', 'UnderGraduate', 'no', 'Yes', 'advanced', 'No', 'Yes', 18, 182, 4, 101, 727, 135, 205, 1307), (56, 'ExcelR', 'FullstackDataScience', 'Chennai', 'Graduate', 'no', 'no', 'beginer', 'No', 'Yes', 17, 179, 4, 99, 720, 132, 202, 1257), (57, 'Simple_learn', 'DataScience', 'Bengaluru', 'Graduate', 'Yes', 'no', 'intermediate', 'Yes', 'Yes', 8, 97, 3, 65, 412, 66, 121, 767), (58, 'Udemy', 'python', 'Chennai', 'UnderGraduate', 'Yes', 'Yes', 'beginer', 'Yes', 'Yes', 19, 191, 5, 140, 760, 142, 215, 1412), (59, 'Coursera', 'DataScience', 'Calcutta', 'UnderGraduate', 'no', 'Yes', 'advanced', 'No', 'Yes', 16, 129, 4, 94, 585, 96, 148, 975), (60, 'Datatrain', 'BigData', 'Delhi', 'Doctorate', 'Yes', 'no', 'advanced', 'Yes', 'Yes', 13, 120, 3, 89, 579, 91, 142, 911), (61, 'Edureka', 'DataScience', 'Hyderabad', 'UnderGraduate', 'Yes', 'Yes', 'beginer', 'Yes', 'Yes', 6, 76, 2, 48, 353, 49, 93, 591), (62, 'innomatics', 'DigitalTransformation', 'Ahmedabad', 'Graduate', 'no', 'no', 'beginer', 'Yes', 'Yes', 14, 135, 4, 95, 595, 99, 151, 1015), (63, 'Coursera', 'python', 'Pune', 'UnderGraduate', 'no', 'no', 'intermediate', 'Yes', 'Yes', 9, 101, 3, 66, 430, 69, 128, 791), (64, 'Upgrad', 'FullstackDataScience', 'Mumbai', 'Doctorate', 'no', 'Yes', 'beginer', 'Yes', 'Yes', 13, 135, 3, 103, 593, 107, 152, 1063), (65, 'Udemy', 'ArtificialIntelligence', 'Ahmedabad', 'Doctorate', 'no', 'no', 'advanced', 'No', 'Yes', 6, 77, 2, 49, 354, 50, 94, 598), (66, 'Upgrad', 'python', 'Kanpour', 'Doctorate', 'Yes', 'no', 'advanced', 'Yes', 'Yes', 4, 53, 1, 31, 275, 33, 66, 423), (67, 'Upgrad', 'ArtificialIntelligence', 'Hyderabad', 'Doctorate', 'Yes', 'Yes', 'intermediate', 'No', 'Yes', 10, 105, 3, 73, 425, 76, 125, 777), (68, '360DigiTMG', 'FullstackDataScience', 'Delhi', 'Doctorate', 'Yes', 'no', 'beginer', 'Yes', 'Yes', 2, 46, 1, 17, 230, 18, 52, 352), (69, 'Great_Learn', 'ArtificialIntelligence', 'Kanpour', 'Doctorate', 'Yes', 'no', 'beginer', 'No', 'Yes', 13, 124, 3, 95, 588, 97, 146, 978), (70, 'Great_Learn', 'ArtificialIntelligence', 'Kanpour', 'Doctorate', 'Yes', 'no', 'intermediate', 'No', 'Yes', 13, 133, 4, 104, 591, 105, 150, 1041), (71, 'Edvancer', 'CloudComputing', 'Bengaluru', 'Doctorate', 'no', 'no', 'beginer', 'Yes', 'Yes', 15, 156, 4, 113, 636, 115, 172, 1113), (72, 'Datatrain', 'ProjectManagement', 'Chennai', 'Graduate', 'no', 'Yes', 'intermediate', 'Yes', 'Yes', 11, 115, 3, 78, 501, 81, 132, 860), (73, 'Udemy', 'ArtificialIntelligence', 'Chennai', 'Doctorate', 'no', 'no', 'advanced', 'No', 'Yes', 7, 91, 2, 61, 423, 63, 112, 705), (74, 'Data_camp', 'FullstackDataScience', 'Mumbai', 'UnderGraduate', 'Yes', 'Yes', 'advanced', 'Yes', 'Yes', 12, 131, 4, 101, 575, 103, 145, 1001), (75, 'Simple_learn', 'DataScience', 'Kanpour', 'UnderGraduate', 'no', 'no', 'intermediate', 'Yes', 'Yes', 11, 118, 3, 84, 511, 83, 137, 883), (76, 'Great_Learn', 'ProjectManagement', 'Mumbai', 'Doctorate', 'Yes', 'no', 'intermediate', 'No', 'Yes', 18, 185, 4, 132, 725, 135, 206, 1377), (77, 'innomatics', 'python', 'Calcutta', 'Doctorate', 'Yes', 'Yes', 'beginer', 'Yes', 'Yes', 14, 128, 3, 94, 572, 95, 152, 997), (78, 'Upgrad', 'DataScience', 'Mumbai', 'UnderGraduate', 'Yes', 'Yes', 'advanced', 'Yes', 'Yes', 5, 59, 2, 34, 278, 34, 67, 470), (79, 'Edvancer', 'ProjectManagement', 'Kanpour', 'Doctorate', 'Yes', 'no', 'intermediate', 'Yes', 'Yes', 10, 104, 3, 75, 425, 76, 125, 777), (80, 'innomatics', 'ArtificialIntelligence', 'Mumbai', 'Doctorate', 'no', 'no', 'intermediate', 'No', 'Yes', 10, 109, 3, 79, 432, 80, 129, 799), (81, 'Data_camp', 'python', 'Bengaluru', 'Graduate', 'no', 'Yes', 'intermediate', 'Yes', 'Yes', 5, 107, 2, 33, 281, 35, 68, 474), (82, 'Upgrad', 'CloudComputing', 'Bengaluru', 'Graduate', 'Yes', 'no', 'intermediate', 'Yes', 'Yes', 7, 83, 3, 87, 545, 89, 142, 932), (83, 'Udemy', 'BigData', 'Bengaluru', 'Graduate', 'no', 'no', 'intermediate', 'No', 'Yes', 6, 115, 3, 79, 495, 80, 134, 856), (84, 'Edureka', 'BigData', 'Ahmedabad', 'Doctorate', 'Yes', 'no', 'advanced', 'No', 'Yes', 7, 82, 2, 52, 375, 54, 99, 666), (85, 'Upgrad', 'Dataanalysis', 'Delhi', 'UnderGraduate', 'Yes', 'Yes', 'beginer', 'No', 'Yes', 9, 104, 3, 71, 416, 72, 165, 1094), (86, 'Edureka', 'BigData', 'Hyderabad', 'UnderGraduate', 'no', 'no', 'advanced', 'No', 'Yes', 5, 64, 2, 35, 300, 37, 72, 492), (87, '360DigiTMG', 'DataScience', 'Hyderabad', 'UnderGraduate', 'no', 'Yes', 'intermediate', 'Yes', 'Yes', 6, 72, 2, 46, 330, 47, 90, 562), (88, 'ExcelR', 'DataScience', 'Chennai', 'UnderGraduate', 'no', 'Yes', 'advanced', 'No', 'Yes', 11, 120, 3, 84, 521, 85, 141, 899), (89, 'ExcelR', 'python', 'Ahmedabad', 'Graduate', 'no', 'no', 'beginer', 'Yes', 'Yes', 11, 129, 3, 86, 537, 88, 147, 938), (90, 'Edureka', 'BigData', 'Kanpour', 'Doctorate', 'Yes', 'no', 'beginer', 'No', 'Yes', 11, 138, 3, 90, 562, 91, 153, 967), (91, 'Upgrad', 'BigData', 'Calcutta', 'Doctorate', 'Yes', 'no', 'intermediate', 'No', 'Yes', 1, 42, 1, 15, 210, 16, 51, 308), (92, 'innomatics', 'python', 'Mumbai', 'Doctorate', 'no', 'Yes', 'advanced', 'Yes', 'Yes', 2, 46, 1, 16, 230, 18, 57, 377), (93, 'Coursera', 'BigData', 'Chennai', 'Graduate', 'Yes', 'Yes', 'beginer', 'No', 'Yes', 20, 196, 5, 145, 789, 146, 220, 1465), (94, '360DigiTMG', 'Dataanalysis', 'Calcutta', 'Doctorate', 'no', 'Yes', 'advanced', 'Yes', 'Yes', 15, 165, 4, 117, 648, 119, 181, 1192), (95, 'Edx', 'DigitalMarketing', 'Pune', 'UnderGraduate', 'Yes', 'Yes', 'intermediate', 'Yes', 'Yes', 20, 200, 5, 149, 800, 150, 225, 1498), (96, 'Upgrad', 'CloudComputing', 'Pune', 'Graduate', 'Yes', 'no', 'intermediate', 'No', 'Yes', 11, 126, 3, 84, 534, 86, 145, 928), (97, '360DigiTMG', 'CloudComputing', 'Calcutta', 'Doctorate', 'Yes', 'Yes', 'beginer', 'No', 'Yes', 10, 109, 3, 79, 432, 80, 129, 798), (98, 'Data_camp', 'DigitalTransformation', 'Mumbai', 'UnderGraduate', 'Yes', 'Yes', 'advanced', 'Yes', 'Yes', 18, 187, 5, 137, 611, 139, 208, 1386), (99, 'Great_Learn', 'CloudComputing', 'Delhi', 'Doctorate', 'Yes', 'Yes', 'advanced', 'No', 'Yes', 18, 187, 5, 137, 611, 139, 208, 1387), (100, 'Edvancer', 'DigitalMarketing', 'Ahmedabad', 'Doctorate', 'Yes', 'Yes', 'advanced', 'Yes', 'Yes', 14, 154, 4, 113, 634, 115, 178, 1132), (101, 'Udemy', 'ArtificialIntelligence', 'Hyderabad', 'UnderGraduate', 'Yes', 'Yes', 'advanced', 'No', 'Yes', 6, 74, 2, 46, 325, 47, 91, 566), (102, '360DigiTMG', 'ProjectManagement', 'Ahmedabad', 'Graduate', 'Yes', 'Yes', 'intermediate', 'Yes', 'Yes', 11, 161, 4, 117, 648, 118, 180, 1180), (103, 'ExcelR', 'DataScience', 'Kanpour', 'Graduate', 'no', 'Yes', 'advanced', 'No', 'Yes', 7, 89, 2, 61, 396, 62, 63, 676), (104, 'Data_camp', 'ProjectManagement', 'Calcutta', 'Graduate', 'no', 'no', 'advanced', 'Yes', 'Yes', 20, 197, 5, 145, 795, 148, 222, 1482), (105, 'Datatrain', 'CloudComputing', 'Calcutta', 'Doctorate', 'no', 'Yes', 'beginer', 'Yes', 'Yes', 5, 71, 2, 44, 321, 46, 89, 557), (106, 'Edureka', 'BigData', 'Mumbai', 'UnderGraduate', 'Yes', 'Yes', 'advanced', 'No', 'Yes', 19, 190, 5, 141, 750, 142, 215, 1433), (107, 'Great_Learn', 'ProjectManagement', 'Mumbai', 'UnderGraduate', 'Yes', 'Yes', 'beginer', 'Yes', 'Yes', 6, 74, 2, 47, 327, 49, 93, 577), (108, 'Edureka', 'Dataanalysis', 'Chennai', 'Graduate', 'no', 'Yes', 'intermediate', 'No', 'Yes', 7, 91, 2, 95, 555, 96, 151, 980), (109, 'Udemy', 'ProjectManagement', 'Calcutta', 'UnderGraduate', 'no', 'no', 'intermediate', 'Yes', 'Yes', 16, 168, 4, 121, 675, 122, 187, 1227), (110, 'Coursera', 'FullstackDataScience', 'Chennai', 'UnderGraduate', 'Yes', 'Yes', 'beginer', 'Yes', 'Yes', 9, 97, 3, 69, 434, 67, 116, 739), (111, 'ExcelR', 'ArtificialIntelligence', 'Hyderabad', 'UnderGraduate', 'Yes', 'no', 'beginer', 'Yes', 'Yes', 5, 62, 2, 31, 290, 32, 77, 480), (112, 'Guvi', 'FullstackDataScience', 'Ahmedabad', 'Doctorate', 'Yes', 'Yes', 'advanced', 'No', 'Yes', 6, 79, 2, 50, 360, 52, 95, 607), (113, 'Edx', 'DataScience', 'Chennai', 'Doctorate', 'Yes', 'Yes', 'beginer', 'No', 'Yes', 17, 170, 4, 122, 677, 124, 189, 1233), (114, 'Upgrad', 'ArtificialIntelligence', 'Chennai', 'Doctorate', 'Yes', 'no', 'beginer', 'Yes', 'Yes', 11, 158, 4, 114, 636, 116, 179, 1137), (115, 'Guvi', 'Dataanalysis', 'Pune', 'Graduate', 'Yes', 'Yes', 'beginer', 'No', 'Yes', 7, 90, 2, 62, 397, 63, 65, 687), (116, 'Udemy', 'FullstackDataScience', 'Mumbai', 'Doctorate', 'no', 'no', 'intermediate', 'No', 'Yes', 2, 42, 1, 17, 215, 18, 53, 320), (117, 'Coursera', 'DigitalTransformation', 'Bengaluru', 'Doctorate', 'no', 'no', 'beginer', 'No', 'Yes', 20, 195, 5, 147, 791, 149, 224, 1495), (118, 'ExcelR', 'FullstackDataScience', 'Pune', 'Doctorate', 'no', 'Yes', 'intermediate', 'No', 'Yes', 8, 94, 2, 62, 405, 64, 67, 694), (119, 'ExcelR', 'FullstackDataScience', 'Delhi', 'UnderGraduate', 'Yes', 'no', 'intermediate', 'Yes', 'Yes', 2, 43, 1, 18, 217, 19, 54, 326), (120, 'ExcelR', 'FullstackDataScience', 'Bengaluru', 'Doctorate', 'Yes', 'no', 'beginer', 'No', 'Yes', 5, 62, 2, 31, 290, 32, 77, 481), (121, 'Udemy', 'DataScience', 'Hyderabad', 'Graduate', 'no', 'no', 'intermediate', 'No', 'Yes', 10, 109, 3, 75, 403, 76, 126, 847), (122, 'Datatrain', 'FullstackDataScience', 'Calcutta', 'Graduate', 'Yes', 'no', 'intermediate', 'Yes', 'Yes', 7, 87, 2, 59, 392, 61, 62, 667), (123, 'Great_Learn', 'DataScience', 'Calcutta', 'Doctorate', 'no', 'no', 'advanced', 'Yes', 'Yes', 18, 146, 4, 105, 605, 107, 165, 1092), (124, 'Great_Learn', 'DataScience', 'Calcutta', 'UnderGraduate', 'Yes', 'no', 'intermediate', 'No', 'Yes', 6, 73, 2, 47, 322, 48, 92, 568), (125, 'Udemy', 'DataScience', 'Hyderabad', 'UnderGraduate', 'no', 'Yes', 'advanced', 'Yes', 'Yes', 13, 132, 3, 92, 556, 95, 151, 995), (126, 'Great_Learn', 'python', 'Pune', 'Graduate', 'no', 'Yes', 'intermediate', 'No', 'Yes', 10, 109, 3, 73, 402, 75, 125, 844), (127, 'ExcelR', 'ArtificialIntelligence', 'Kanpour', 'Doctorate', 'no', 'no', 'intermediate', 'No', 'Yes', 19, 192, 5, 141, 774, 142, 117, 1443), (128, '360DigiTMG', 'python', 'Delhi', 'Doctorate', 'Yes', 'Yes', 'advanced', 'Yes', 'Yes', 19, 191, 5, 140, 773, 141, 116, 1436), (129, 'Coursera', 'python', 'Chennai', 'Graduate', 'Yes', 'Yes', 'intermediate', 'Yes', 'Yes', 13, 131, 3, 92, 555, 94, 150, 990), (130, 'Edvancer', 'CloudComputing', 'Bengaluru', 'Doctorate', 'no', 'no', 'advanced', 'Yes', 'Yes', 5, 69, 2, 45, 312, 46, 90, 530), (131, 'Udemy', 'DataScience', 'Mumbai', 'UnderGraduate', 'no', 'no', 'beginer', 'Yes', 'Yes', 11, 120, 3, 86, 513, 84, 140, 909), (132, 'Coursera', 'FullstackDataScience', 'Mumbai', 'Graduate', 'no', 'Yes', 'beginer', 'No', 'Yes', 18, 148, 4, 107, 607, 108, 166, 1100), (133, 'Simple_learn', 'Dataanalysis', 'Chennai', 'UnderGraduate', 'Yes', 'no', 'advanced', 'Yes', 'Yes', 11, 123, 3, 86, 515, 85, 142, 917), (134, 'Simple_learn', 'DigitalTransformation', 'Kanpour', 'UnderGraduate', 'Yes', 'Yes', 'intermediate', 'Yes', 'Yes', 20, 196, 5, 145, 784, 146, 221, 1460), (135, 'Great_Learn', 'python', 'Pune', 'Doctorate', 'Yes', 'no', 'intermediate', 'No', 'Yes', 5, 68, 2, 44, 310, 45, 88, 522), (136, 'innomatics', 'CloudComputing', 'Hyderabad', 'Doctorate', 'no', 'Yes', 'beginer', 'No', 'Yes', 18, 182, 4, 132, 730, 134, 202, 1360), (137, 'ExcelR', 'python', 'Kanpour', 'UnderGraduate', 'no', 'Yes', 'intermediate', 'Yes', 'Yes', 6, 79, 2, 51, 360, 53, 96, 611), (138, 'innomatics', 'BigData', 'Hyderabad', 'Doctorate', 'Yes', 'no', 'intermediate', 'No', 'Yes', 9, 98, 2, 65, 429, 67, 115, 745), (139, 'Great_Learn', 'ArtificialIntelligence', 'Mumbai', 'Graduate', 'no', 'no', 'beginer', 'Yes', 'Yes', 20, 196, 5, 146, 796, 147, 223, 1487), (140, 'Edx', 'DigitalMarketing', 'Hyderabad', 'Doctorate', 'Yes', 'Yes', 'beginer', 'No', 'Yes', 5, 68, 2, 44, 310, 45, 89, 523), (141, 'Great_Learn', 'ArtificialIntelligence', 'Hyderabad', 'Graduate', 'no', 'Yes', 'intermediate', 'No', 'Yes', 4, 58, 1, 38, 280, 39, 78, 498), (142, 'Great_Learn', 'CloudComputing', 'Bengaluru', 'Doctorate', 'no', 'Yes', 'intermediate', 'Yes', 'Yes', 6, 71, 2, 45, 315, 47, 92, 548), (143, 'Edureka', 'BigData', 'Mumbai', 'UnderGraduate', 'Yes', 'Yes', 'beginer', 'Yes', 'Yes', 1, 40, 1, 15, 200, 15, 50, 302), (144, 'Coursera', 'DigitalMarketing', 'Mumbai', 'UnderGraduate', 'Yes', 'no', 'intermediate', 'No', 'Yes', 17, 175, 4, 124, 710, 125, 192, 1302), (145, 'Great_Learn', 'BigData', 'Hyderabad', 'Graduate', 'Yes', 'Yes', 'intermediate', 'No', 'Yes', 1, 41, 1, 17, 204, 17, 52, 308), (146, 'Coursera', 'FullstackDataScience', 'Hyderabad', 'Doctorate', 'no', 'Yes', 'intermediate', 'No', 'Yes', 1, 43, 1, 16, 215, 16, 54, 329), (147, 'Guvi', 'BigData', 'Mumbai', 'UnderGraduate', 'Yes', 'no', 'intermediate', 'Yes', 'Yes', 18, 178, 4, 130, 720, 132, 200, 1351), (148, '360DigiTMG', 'python', 'Delhi', 'Doctorate', 'no', 'Yes', 'intermediate', 'Yes', 'Yes', 2, 47, 1, 21, 230, 20, 58, 354), (149, 'Upgrad', 'DigitalMarketing', 'Ahmedabad', 'UnderGraduate', 'no', 'Yes', 'advanced', 'No', 'Yes', 9, 106, 2, 68, 437, 69, 118, 762), (150, 'Upgrad', 'DigitalMarketing', 'Pune', 'Graduate', 'Yes', 'no', 'beginer', 'Yes', 'Yes', 7, 82, 2, 54, 366, 56, 101, 620), (151, 'Coursera', 'BigData', 'Kanpour', 'Graduate', 'no', 'Yes', 'advanced', 'Yes', 'Yes', 16, 170, 4, 121, 701, 122, 189, 1289), (152, 'ExcelR', 'Dataanalysis', 'Pune', 'UnderGraduate', 'Yes', 'Yes', 'beginer', 'Yes', 'Yes', 20, 200, 5, 150, 800, 150, 225, 1497), (153, 'Great_Learn', 'DigitalMarketing', 'Bengaluru', 'Doctorate', 'Yes', 'no', 'advanced', 'No', 'Yes', 12, 132, 3, 94, 554, 96, 150, 973), (154, 'Guvi', 'python', 'Delhi', 'UnderGraduate', 'Yes', 'Yes', 'advanced', 'Yes', 'Yes', 7, 79, 2, 53, 359, 54, 98, 602), (155, 'Data_camp', 'BigData', 'Calcutta', 'UnderGraduate', 'Yes', 'Yes', 'beginer', 'Yes', 'Yes', 9, 94, 2, 62, 420, 64, 111, 731), (156, 'Guvi', 'CloudComputing', 'Kanpour', 'Graduate', 'no', 'Yes', 'beginer', 'Yes', 'Yes', 12, 134, 3, 96, 555, 97, 151, 979), (157, 'Simple_learn', 'ProjectManagement', 'Delhi', 'Doctorate', 'Yes', 'Yes', 'intermediate', 'No', 'Yes', 8, 99, 2, 62, 399, 63, 107, 674), (158, 'Datatrain', 'python', 'Calcutta', 'Doctorate', 'no', 'Yes', 'intermediate', 'No', 'Yes', 14, 146, 4, 108, 601, 109, 165, 1072), (159, 'Edvancer', 'ProjectManagement', 'Pune', 'UnderGraduate', 'no', 'no', 'advanced', 'No', 'Yes', 3, 53, 1, 26, 250, 27, 64, 389), (160, 'innomatics', 'DigitalTransformation', 'Ahmedabad', 'Graduate', 'Yes', 'Yes', 'intermediate', 'No', 'Yes', 1, 42, 1, 17, 204, 17, 52, 310), (161, 'Datatrain', 'ArtificialIntelligence', 'Pune', 'UnderGraduate', 'Yes', 'no', 'beginer', 'No', 'Yes', 16, 165, 4, 119, 652, 120, 182, 1185), (162, 'Edureka', 'CloudComputing', 'Ahmedabad', 'Doctorate', 'no', 'Yes', 'beginer', 'No', 'Yes', 14, 155, 4, 111, 622, 112, 174, 1119), (163, 'Edureka', 'DataScience', 'Bengaluru', 'Doctorate', 'Yes', 'Yes', 'intermediate', 'No', 'Yes', 13, 137, 3, 97, 558, 98, 152, 984), (164, 'Guvi', 'python', 'Calcutta', 'Doctorate', 'Yes', 'no', 'advanced', 'No', 'Yes', 1, 43, 1, 16, 215, 16, 54, 327), (165, 'Edvancer', 'Dataanalysis', 'Pune', 'Graduate', 'Yes', 'no', 'intermediate', 'Yes', 'Yes', 6, 74, 2, 46, 340, 47, 89, 537), (166, 'Datatrain', 'BigData', 'Mumbai', 'UnderGraduate', 'Yes', 'Yes', 'advanced', 'Yes', 'Yes', 19, 191, 5, 141, 770, 143, 215, 1436), (167, '360DigiTMG', 'DigitalTransformation', 'Delhi', 'Doctorate', 'no', 'Yes', 'advanced', 'Yes', 'Yes', 2, 49, 1, 21, 235, 21, 62, 368), (168, 'Edx', 'ArtificialIntelligence', 'Pune', 'Doctorate', 'no', 'no', 'beginer', 'No', 'Yes', 15, 162, 4, 118, 689, 120, 186, 1231), (169, 'Guvi', 'Dataanalysis', 'Chennai', 'Graduate', 'Yes', 'Yes', 'beginer', 'No', 'Yes', 10, 107, 3, 71, 485, 72, 125, 819), (170, 'Edvancer', 'DigitalMarketing', 'Chennai', 'Doctorate', 'Yes', 'Yes', 'beginer', 'Yes', 'Yes', 12, 132, 3, 95, 554, 96, 150, 972), (171, 'Udemy', 'python', 'Pune', 'UnderGraduate', 'no', 'no', 'intermediate', 'No', 'Yes', 18, 180, 4, 130, 725, 132, 201, 1328), (172, 'Edvancer', 'CloudComputing', 'Hyderabad', 'Doctorate', 'Yes', 'no', 'intermediate', 'Yes', 'Yes', 10, 111, 3, 78, 489, 79, 131, 861), (173, 'Edx', 'ArtificialIntelligence', 'Hyderabad', 'UnderGraduate', 'no', 'Yes', 'intermediate', 'Yes', 'Yes', 7, 75, 2, 50, 349, 51, 94, 587), (174, 'Datatrain', 'FullstackDataScience', 'Delhi', 'Graduate', 'Yes', 'no', 'beginer', 'No', 'Yes', 19, 188, 5, 141, 750, 142, 209, 1383), (175, '360DigiTMG', 'ArtificialIntelligence', 'Ahmedabad', 'UnderGraduate', 'no', 'Yes', 'beginer', 'No', 'Yes', 20, 200, 5, 150, 800, 150, 225, 1499), (176, 'Data_camp', 'FullstackDataScience', 'Delhi', 'Doctorate', 'Yes', 'no', 'beginer', 'Yes', 'Yes', 19, 190, 5, 138, 762, 140, 212, 1414), (177, 'Coursera', 'CloudComputing', 'Pune', 'Doctorate', 'no', 'Yes', 'intermediate', 'Yes', 'Yes', 11, 120, 3, 85, 514, 84, 138, 888), (178, 'Datatrain', 'BigData', 'Mumbai', 'UnderGraduate', 'no', 'no', 'beginer', 'Yes', 'Yes', 12, 125, 3, 92, 545, 91, 141, 950), (179, 'Edvancer', 'ProjectManagement', 'Hyderabad', 'Doctorate', 'Yes', 'no', 'beginer', 'No', 'Yes', 19, 191, 5, 139, 742, 141, 214, 1431), (180, 'Coursera', 'python', 'Calcutta', 'UnderGraduate', 'Yes', 'no', 'beginer', 'Yes', 'Yes', 9, 99, 2, 67, 434, 66, 116, 770), (181, 'ExcelR', 'ArtificialIntelligence', 'Calcutta', 'Graduate', 'Yes', 'Yes', 'beginer', 'Yes', 'Yes', 3, 58, 1, 31, 277, 32, 71, 430), (182, 'Udemy', 'python', 'Pune', 'Graduate', 'no', 'Yes', 'beginer', 'Yes', 'Yes', 2, 42, 1, 16, 202, 16, 51, 306), (183, 'Great_Learn', 'FullstackDataScience', 'Calcutta', 'Graduate', 'Yes', 'Yes', 'beginer', 'No', 'Yes', 10, 110, 3, 75, 480, 76, 127, 826), (184, 'Great_Learn', 'Dataanalysis', 'Pune', 'Graduate', 'Yes', 'Yes', 'advanced', 'Yes', 'Yes', 5, 71, 2, 45, 330, 44, 86, 527), (185, 'Coursera', 'ArtificialIntelligence', 'Ahmedabad', 'Graduate', 'Yes', 'no', 'intermediate', 'No', 'Yes', 7, 86, 2, 55, 385, 56, 103, 660), (186, 'innomatics', 'ArtificialIntelligence', 'Bengaluru', 'Doctorate', 'Yes', 'Yes', 'advanced', 'No', 'Yes', 9, 103, 3, 71, 456, 72, 122, 794), (187, '360DigiTMG', 'DigitalTransformation', 'Bengaluru', 'Doctorate', 'Yes', 'no', 'advanced', 'Yes', 'Yes', 9, 98, 2, 66, 429, 67, 116, 743), (188, 'Datatrain', 'DigitalTransformation', 'Delhi', 'Graduate', 'no', 'Yes', 'intermediate', 'Yes', 'Yes', 16, 174, 4, 128, 690, 129, 194, 1272), (189, 'innomatics', 'DataScience', 'Delhi', 'UnderGraduate', 'Yes', 'no', 'advanced', 'No', 'Yes', 18, 179, 5, 135, 730, 135, 205, 1360), (190, 'ExcelR', 'FullstackDataScience', 'Pune', 'Graduate', 'no', 'Yes', 'advanced', 'Yes', 'Yes', 6, 74, 2, 46, 338, 47, 91, 564), (191, 'Guvi', 'DigitalTransformation', 'Delhi', 'Graduate', 'Yes', 'Yes', 'intermediate', 'No', 'Yes', 16, 168, 4, 118, 660, 121, 183, 1199), (192, 'Edureka', 'ProjectManagement', 'Ahmedabad', 'Graduate', 'no', 'no', 'intermediate', 'Yes', 'Yes', 3, 52, 1, 25, 246, 25, 63, 397), (193, 'ExcelR', 'python', 'Mumbai', 'Graduate', 'no', 'no', 'advanced', 'No', 'Yes', 17, 172, 4, 123, 670, 124, 185, 1208), (194, 'Edx', 'CloudComputing', 'Ahmedabad', 'UnderGraduate', 'Yes', 'no', 'intermediate', 'Yes', 'Yes', 16, 170, 4, 121, 665, 122, 184, 1204), (195, 'ExcelR', 'DigitalTransformation', 'Pune', 'Doctorate', 'no', 'Yes', 'beginer', 'Yes', 'Yes', 9, 101, 2, 68, 438, 67, 118, 774), (196, 'Upgrad', 'BigData', 'Pune', 'UnderGraduate', 'Yes', 'no', 'advanced', 'No', 'Yes', 10, 107, 3, 73, 462, 74, 123, 808), (197, 'Great_Learn', 'DigitalTransformation', 'Mumbai', 'UnderGraduate', 'Yes', 'Yes', 'advanced', 'Yes', 'Yes', 18, 185, 5, 137, 732, 138, 210, 1417), (198, 'Edvancer', 'python', 'Delhi', 'Doctorate', 'no', 'no', 'intermediate', 'No', 'Yes', 3, 55, 1, 30, 274, 31, 69, 420), (199, 'Edx', 'DataScience', 'Kanpour', 'UnderGraduate', 'no', 'Yes', 'intermediate', 'No', 'Yes', 11, 118, 3, 85, 511, 83, 137, 884), (200, 'Edureka', 'CloudComputing', 'Mumbai', 'Graduate', 'no', 'no', 'advanced', 'No', 'Yes', 9, 93, 2, 62, 405, 63, 101, 729), (201, 'Coursera', 'DigitalTransformation', 'Chennai', 'Doctorate', 'no', 'Yes', 'intermediate', 'No', 'Yes', 20, 195, 5, 147, 795, 148, 224, 1495), (202, 'ExcelR', 'python', 'Mumbai', 'Doctorate', 'Yes', 'no', 'intermediate', 'No', 'Yes', 6, 81, 2, 53, 370, 54, 97, 639), (203, 'Great_Learn', 'BigData', 'Ahmedabad', 'Graduate', 'no', 'no', 'beginer', 'No', 'Yes', 6, 79, 2, 50, 357, 51, 95, 604), (204, 'Upgrad', 'ArtificialIntelligence', 'Bengaluru', 'Doctorate', 'no', 'no', 'beginer', 'No', 'Yes', 13, 132, 4, 104, 607, 105, 165, 1075), (205, 'Udemy', 'BigData', 'Ahmedabad', 'Graduate', 'Yes', 'Yes', 'beginer', 'Yes', 'Yes', 11, 117, 3, 86, 526, 87, 142, 925), (206, 'Guvi', 'Dataanalysis', 'Delhi', 'Doctorate', 'Yes', 'no', 'intermediate', 'Yes', 'Yes', 11, 124, 3, 94, 546, 95, 151, 974), (207, 'innomatics', 'DigitalMarketing', 'Calcutta', 'Doctorate', 'no', 'Yes', 'advanced', 'Yes', 'Yes', 4, 62, 1, 34, 290, 35, 76, 483), (208, 'Edureka', 'ArtificialIntelligence', 'Pune', 'UnderGraduate', 'Yes', 'no', 'beginer', 'Yes', 'Yes', 2, 47, 1, 20, 227, 21, 58, 353), (209, 'Guvi', 'ArtificialIntelligence', 'Ahmedabad', 'Doctorate', 'no', 'no', 'advanced', 'No', 'Yes', 9, 105, 3, 71, 458, 72, 121, 796), (210, 'Simple_learn', 'ProjectManagement', 'Hyderabad', 'UnderGraduate', 'Yes', 'Yes', 'advanced', 'Yes', 'Yes', 18, 182, 4, 132, 726, 133, 203, 1361), (211, 'Edureka', 'FullstackDataScience', 'Bengaluru', 'Doctorate', 'Yes', 'Yes', 'advanced', 'Yes', 'Yes', 11, 122, 3, 94, 556, 95, 151, 992), (212, 'Edx', 'DigitalTransformation', 'Delhi', 'Doctorate', 'no', 'no', 'intermediate', 'Yes', 'Yes', 16, 173, 4, 124, 675, 125, 186, 1212), (213, 'Datatrain', 'ProjectManagement', 'Kanpour', 'Graduate', 'no', 'Yes', 'beginer', 'No', 'Yes', 17, 176, 4, 130, 690, 131, 191, 1250), (214, 'Guvi', 'DataScience', 'Ahmedabad', 'Doctorate', 'Yes', 'Yes', 'advanced', 'No', 'Yes', 11, 119, 3, 83, 514, 84, 138, 892), (215, 'innomatics', 'DataScience', 'Hyderabad', 'Doctorate', 'Yes', 'no', 'intermediate', 'Yes', 'Yes', 1, 47, 1, 21, 230, 22, 59, 369), (216, 'Edureka', 'ProjectManagement', 'Chennai', 'Graduate', 'Yes', 'Yes', 'intermediate', 'No', 'Yes', 20, 196, 5, 145, 785, 147, 221, 1477), (217, 'Data_camp', 'Dataanalysis', 'Hyderabad', 'UnderGraduate', 'no', 'no', 'advanced', 'Yes', 'Yes', 19, 190, 5, 140, 763, 141, 213, 1421), (218, 'innomatics', 'DigitalTransformation', 'Ahmedabad', 'Doctorate', 'Yes', 'no', 'beginer', 'No', 'Yes', 17, 182, 4, 134, 740, 134, 196, 1296), (219, '360DigiTMG', 'ProjectManagement', 'Pune', 'Graduate', 'Yes', 'Yes', 'advanced', 'Yes', 'Yes', 12, 143, 3, 99, 645, 98, 163, 1031), (220, 'Edvancer', 'ProjectManagement', 'Bengaluru', 'Graduate', 'no', 'no', 'advanced', 'Yes', 'Yes', 12, 141, 3, 97, 641, 97, 160, 1028), (221, 'innomatics', 'DigitalMarketing', 'Hyderabad', 'Graduate', 'no', 'Yes', 'advanced', 'Yes', 'Yes', 4, 63, 1, 36, 299, 37, 78, 497), (222, 'innomatics', 'CloudComputing', 'Ahmedabad', 'Graduate', 'Yes', 'Yes', 'intermediate', 'No', 'Yes', 1, 48, 1, 22, 234, 23, 60, 376), (223, 'innomatics', 'python', 'Bengaluru', 'Graduate', 'Yes', 'Yes', 'intermediate', 'No', 'Yes', 5, 70, 1, 42, 323, 43, 85, 533), (224, 'innomatics', 'BigData', 'Ahmedabad', 'Graduate', 'no', 'Yes', 'advanced', 'No', 'Yes', 8, 95, 4, 64, 424, 65, 116, 730), (225, 'Great_Learn', 'ArtificialIntelligence', 'Delhi', 'Graduate', 'no', 'Yes', 'beginer', 'No', 'Yes', 8, 107, 3, 77, 636, 78, 128, 811), (226, 'Simple_learn', 'DataScience', 'Delhi', 'UnderGraduate', 'no', 'Yes', 'beginer', 'No', 'Yes', 8, 101, 2, 68, 448, 70, 117, 768), (227, 'Guvi', 'ProjectManagement', 'Delhi', 'Doctorate', 'no', 'no', 'advanced', 'Yes', 'Yes', 13, 139, 3, 89, 569, 90, 158, 1026), (228, 'Coursera', 'DataScience', 'Hyderabad', 'Doctorate', 'Yes', 'no', 'advanced', 'Yes', 'Yes', 4, 57, 1, 32, 277, 33, 72, 453), (229, 'Great_Learn', 'DigitalMarketing', 'Bengaluru', 'Graduate', 'Yes', 'no', 'intermediate', 'No', 'Yes', 19, 192, 5, 145, 760, 146, 215, 1446), (230, 'Udemy', 'FullstackDataScience', 'Bengaluru', 'Graduate', 'no', 'no', 'beginer', 'Yes', 'Yes', 19, 189, 5, 139, 753, 140, 191, 1385), (231, 'ExcelR', 'CloudComputing', 'Hyderabad', 'UnderGraduate', 'Yes', 'no', 'intermediate', 'No', 'Yes', 14, 156, 4, 113, 633, 114, 175, 1134), (232, 'Data_camp', 'CloudComputing', 'Bengaluru', 'Doctorate', 'no', 'Yes', 'advanced', 'No', 'Yes', 11, 115, 3, 80, 503, 81, 133, 867), (233, 'Great_Learn', 'ArtificialIntelligence', 'Ahmedabad', 'UnderGraduate', 'no', 'no', 'beginer', 'No', 'Yes', 2, 51, 1, 24, 246, 25, 63, 414), (234, 'Upgrad', 'Dataanalysis', 'Pune', 'Doctorate', 'no', 'no', 'intermediate', 'No', 'Yes', 4, 62, 2, 35, 292, 36, 76, 489), (235, 'Udemy', 'DigitalMarketing', 'Calcutta', 'Graduate', 'no', 'no', 'intermediate', 'No', 'Yes', 9, 101, 2, 68, 450, 69, 119, 782), (236, 'Guvi', 'DataScience', 'Ahmedabad', 'UnderGraduate', 'Yes', 'no', 'beginer', 'Yes', 'Yes', 5, 65, 2, 38, 307, 39, 81, 512), (237, 'Coursera', 'DigitalTransformation', 'Hyderabad', 'UnderGraduate', 'no', 'Yes', 'beginer', 'Yes', 'Yes', 15, 160, 4, 117, 647, 118, 180, 1173), (238, 'Edx', 'FullstackDataScience', 'Bengaluru', 'UnderGraduate', 'Yes', 'no', 'intermediate', 'No', 'Yes', 13, 140, 3, 100, 580, 101, 159, 1022), (239, 'Edx', 'Dataanalysis', 'Kanpour', 'UnderGraduate', 'no', 'Yes', 'advanced', 'Yes', 'Yes', 3, 51, 1, 24, 246, 25, 62, 405), (240, 'Edvancer', 'python', 'Chennai', 'UnderGraduate', 'Yes', 'no', 'advanced', 'No', 'Yes', 16, 171, 4, 125, 685, 126, 191, 1256), (241, 'Edureka', 'FullstackDataScience', 'Ahmedabad', 'Doctorate', 'Yes', 'Yes', 'intermediate', 'No', 'Yes', 16, 171, 4, 125, 685, 126, 191, 1255), (242, 'innomatics', 'Dataanalysis', 'Delhi', 'Graduate', 'Yes', 'no', 'beginer', 'Yes', 'Yes', 13, 141, 3, 101, 586, 102, 160, 1043), (243, 'Simple_learn', 'BigData', 'Kanpour', 'UnderGraduate', 'Yes', 'Yes', 'advanced', 'No', 'Yes', 12, 124, 3, 88, 531, 89, 143, 928), (244, 'Upgrad', 'DigitalMarketing', 'Chennai', 'Doctorate', 'Yes', 'Yes', 'advanced', 'Yes', 'Yes', 13, 135, 3, 96, 565, 97, 154, 1006), (245, 'Udemy', 'python', 'Mumbai', 'UnderGraduate', 'Yes', 'no', 'beginer', 'No', 'Yes', 3, 57, 1, 32, 277, 33, 72, 453), (246, 'Edx', 'BigData', 'Bengaluru', 'UnderGraduate', 'no', 'no', 'intermediate', 'Yes', 'Yes', 18, 187, 5, 139, 747, 142, 210, 1409), (247, 'Data_camp', 'BigData', 'Pune', 'Doctorate', 'no', 'no', 'beginer', 'No', 'Yes', 17, 174, 4, 128, 700, 129, 195, 1289), (248, 'Simple_learn', 'FullstackDataScience', 'Mumbai', 'Doctorate', 'Yes', 'Yes', 'intermediate', 'No', 'Yes', 14, 147, 4, 106, 605, 107, 166, 1083), (249, 'Great_Learn', 'python', 'Bengaluru', 'UnderGraduate', 'Yes', 'no', 'intermediate', 'No', 'Yes', 3, 61, 2, 34, 289, 35, 75, 474), (250, 'Coursera', 'Dataanalysis', 'Pune', 'UnderGraduate', 'no', 'no', 'advanced', 'Yes', 'Yes', 18, 184, 4, 136, 738, 137, 207, 1367), (251, 'ExcelR', 'DigitalTransformation', 'Pune', 'UnderGraduate', 'no', 'no', 'beginer', 'No', 'Yes', 16, 172, 4, 126, 692, 127, 193, 1264), (252, '360DigiTMG', 'DataScience', 'Calcutta', 'Graduate', 'Yes', 'no', 'advanced', 'No', 'Yes', 3, 53, 2, 39, 253, 40, 81, 515), (253, 'Coursera', 'DataScience', 'Ahmedabad', 'UnderGraduate', 'no', 'no', 'beginer', 'Yes', 'Yes', 11, 117, 3, 81, 510, 82, 136, 881), (254, 'Simple_learn', 'DigitalMarketing', 'Chennai', 'Doctorate', 'no', 'Yes', 'advanced', 'No', 'Yes', 18, 181, 4, 134, 727, 135, 203, 1346), (255, 'Great_Learn', 'DigitalMarketing', 'Chennai', 'Graduate', 'no', 'no', 'intermediate', 'No', 'Yes', 8, 88, 2, 58, 396, 59, 105, 674), (256, 'Datatrain', 'DigitalMarketing', 'Bengaluru', 'Graduate', 'Yes', 'Yes', 'intermediate', 'Yes', 'Yes', 15, 161, 4, 116, 647, 118, 180, 1164), (257, 'Edvancer', 'Dataanalysis', 'Ahmedabad', 'Doctorate', 'no', 'no', 'beginer', 'No', 'Yes', 15, 161, 4, 116, 648, 118, 180, 1167), (258, 'Simple_learn', 'FullstackDataScience', 'Pune', 'Graduate', 'Yes', 'no', 'beginer', 'Yes', 'Yes', 10, 107, 3, 73, 471, 74, 126, 811), (259, 'Edx', 'CloudComputing', 'Bengaluru', 'UnderGraduate', 'no', 'Yes', 'beginer', 'No', 'Yes', 16, 167, 4, 122, 671, 123, 187, 1225), (260, 'innomatics', 'DigitalTransformation', 'Ahmedabad', 'Graduate', 'Yes', 'no', 'beginer', 'No', 'Yes', 13, 141, 3, 101, 586, 102, 160, 1043), (261, 'innomatics', 'BigData', 'Calcutta', 'UnderGraduate', 'no', 'Yes', 'intermediate', 'Yes', 'Yes', 4, 61, 1, 34, 290, 35, 79, 475), (262, 'Simple_learn', 'FullstackDataScience', 'Ahmedabad', 'Graduate', 'no', 'no', 'beginer', 'Yes', 'Yes', 18, 182, 4, 133, 712, 135, 205, 1356), (263, 'Data_camp', 'Dataanalysis', 'Kanpour', 'Doctorate', 'Yes', 'Yes', 'intermediate', 'Yes', 'Yes', 15, 165, 4, 119, 663, 121, 185, 1208), (264, 'Data_camp', 'FullstackDataScience', 'Chennai', 'UnderGraduate', 'Yes', 'Yes', 'advanced', 'Yes', 'Yes', 3, 56, 1, 29, 267, 30, 70, 438), (265, 'Simple_learn', 'python', 'Pune', 'Graduate', 'no', 'Yes', 'advanced', 'Yes', 'Yes', 15, 153, 4, 111, 624, 112, 172, 1124), (266, 'Udemy', 'Dataanalysis', 'Hyderabad', 'Graduate', 'no', 'no', 'beginer', 'Yes', 'Yes', 1, 46, 1, 20, 227, 21, 57, 355), (267, '360DigiTMG', 'DataScience', 'Delhi', 'UnderGraduate', 'Yes', 'Yes', 'intermediate', 'No', 'Yes', 3, 58, 1, 31, 278, 32, 72, 452), (268, 'Edx', 'python', 'Kanpour', 'Graduate', 'no', 'Yes', 'beginer', 'No', 'Yes', 1, 47, 1, 21, 232, 22, 59, 364), (269, 'Simple_learn', 'Dataanalysis', 'Delhi', 'Doctorate', 'no', 'Yes', 'beginer', 'No', 'Yes', 10, 105, 2, 70, 462, 72, 123, 796), (270, 'Guvi', 'python', 'Pune', 'UnderGraduate', 'no', 'no', 'beginer', 'Yes', 'Yes', 6, 75, 2, 47, 347, 48, 92, 585), (271, 'ExcelR', 'DigitalTransformation', 'Ahmedabad', 'Graduate', 'no', 'no', 'intermediate', 'Yes', 'Yes', 11, 111, 3, 75, 484, 77, 129, 836), (272, '360DigiTMG', 'DataScience', 'Bengaluru', 'Graduate', 'no', 'Yes', 'beginer', 'No', 'Yes', 6, 78, 2, 51, 356, 52, 95, 602), (273, 'innomatics', 'ArtificialIntelligence', 'Calcutta', 'Graduate', 'no', 'no', 'intermediate', 'No', 'Yes', 11, 114, 3, 79, 498, 80, 133, 863), (274, 'Coursera', 'FullstackDataScience', 'Calcutta', 'UnderGraduate', 'Yes', 'no', 'intermediate', 'No', 'Yes', 8, 97, 2, 65, 431, 67, 105, 743), (275, 'ExcelR', 'DigitalTransformation', 'Delhi', 'Doctorate', 'Yes', 'Yes', 'intermediate', 'No', 'Yes', 1, 42, 1, 16, 209, 17, 52, 320), (276, '360DigiTMG', 'CloudComputing', 'Bengaluru', 'UnderGraduate', 'Yes', 'Yes', 'intermediate', 'No', 'Yes', 20, 198, 5, 148, 798, 149, 224, 1495), (277, 'Edx', 'CloudComputing', 'Calcutta', 'Graduate', 'no', 'Yes', 'advanced', 'No', 'Yes', 15, 160, 4, 115, 645, 117, 179, 1167), (278, '360DigiTMG', 'ProjectManagement', 'Mumbai', 'UnderGraduate', 'Yes', 'Yes', 'intermediate', 'No', 'Yes', 14, 147, 4, 105, 603, 106, 166, 1082), (279, 'Data_camp', 'python', 'Mumbai', 'UnderGraduate', 'Yes', 'no', 'intermediate', 'No', 'Yes', 10, 96, 2, 63, 429, 65, 114, 735), (280, 'innomatics', 'DataScience', 'Ahmedabad', 'Graduate', 'no', 'no', 'beginer', 'Yes', 'Yes', 16, 172, 4, 125, 692, 127, 193, 1271), (281, '360DigiTMG', 'BigData', 'Chennai', 'UnderGraduate', 'Yes', 'Yes', 'advanced', 'No', 'Yes', 11, 121, 3, 84, 520, 85, 140, 905), (282, 'ExcelR', 'CloudComputing', 'Kanpour', 'UnderGraduate', 'Yes', 'Yes', 'advanced', 'No', 'Yes', 8, 90, 2, 58, 404, 60, 107, 690), (283, 'ExcelR', 'Dataanalysis', 'Calcutta', 'UnderGraduate', 'no', 'no', 'intermediate', 'Yes', 'Yes', 19, 188, 5, 139, 755, 140, 211, 1405), (284, 'Coursera', 'Dataanalysis', 'Delhi', 'Graduate', 'Yes', 'Yes', 'advanced', 'Yes', 'Yes', 18, 185, 5, 135, 741, 137, 207, 1378), (285, 'Datatrain', 'DigitalTransformation', 'Bengaluru', 'UnderGraduate', 'no', 'Yes', 'advanced', 'Yes', 'Yes', 6, 74, 2, 45, 341, 47, 90, 574), (286, 'Edx', 'BigData', 'Pune', 'Graduate', 'no', 'no', 'beginer', 'No', 'Yes', 17, 178, 4, 131, 715, 132, 200, 1322), (287, 'Edvancer', 'ArtificialIntelligence', 'Hyderabad', 'Graduate', 'Yes', 'Yes', 'beginer', 'No', 'Yes', 9, 106, 3, 71, 467, 73, 124, 804), (288, '360DigiTMG', 'BigData', 'Chennai', 'UnderGraduate', 'Yes', 'no', 'beginer', 'Yes', 'Yes', 17, 175, 4, 128, 703, 129, 196, 1294), (289, 'Great_Learn', 'ProjectManagement', 'Mumbai', 'Graduate', 'Yes', 'Yes', 'intermediate', 'No', 'Yes', 8, 98, 2, 65, 437, 67, 112, 749), (290, 'Coursera', 'DataScience', 'Pune', 'Graduate', 'Yes', 'Yes', 'advanced', 'Yes', 'Yes', 9, 101, 2, 68, 448, 69, 119, 769), (291, 'Upgrad', 'ArtificialIntelligence', 'Bengaluru', 'Doctorate', 'Yes', 'no', 'beginer', 'No', 'Yes', 6, 72, 2, 44, 335, 45, 88, 563), (292, 'Coursera', 'CloudComputing', 'Delhi', 'Doctorate', 'Yes', 'no', 'intermediate', 'No', 'Yes', 17, 178, 4, 131, 715, 132, 200, 1322), (293, 'ExcelR', 'ArtificialIntelligence', 'Bengaluru', 'Graduate', 'Yes', 'Yes', 'advanced', 'No', 'Yes', 14, 145, 4, 104, 599, 105, 164, 1073), (294, 'Edvancer', 'python', 'Chennai', 'Doctorate', 'Yes', 'Yes', 'intermediate', 'No', 'Yes', 2, 49, 1, 22, 238, 23, 61, 376), (295, 'Data_camp', 'DataScience', 'Hyderabad', 'Doctorate', 'no', 'no', 'beginer', 'No', 'Yes', 1, 44, 1, 18, 220, 19, 55, 339), (296, 'Great_Learn', 'ProjectManagement', 'Mumbai', 'Doctorate', 'Yes', 'Yes', 'advanced', 'Yes', 'Yes', 4, 64, 2, 35, 300, 37, 78, 495), (297, 'Simple_learn', 'BigData', 'Bengaluru', 'Doctorate', 'Yes', 'Yes', 'advanced', 'No', 'Yes', 18, 186, 5, 138, 747, 139, 209, 1390), (298, 'Datatrain', 'DigitalTransformation', 'Chennai', 'Doctorate', 'Yes', 'Yes', 'intermediate', 'Yes', 'Yes', 13, 139, 3, 98, 579, 100, 158, 1028), (299, 'Edvancer', 'ArtificialIntelligence', 'Chennai', 'UnderGraduate', 'no', 'Yes', 'intermediate', 'Yes', 'Yes', 16, 171, 4, 125, 689, 126, 192, 1264), (300, 'Edureka', 'DigitalMarketing', 'Chennai', 'Graduate', 'no', 'no', 'intermediate', 'Yes', 'Yes', 16, 174, 4, 127, 700, 129, 195, 1287), (301, 'Great_Learn', 'ArtificialIntelligence', 'Delhi', 'Graduate', 'no', 'no', 'advanced', 'No', 'Yes', 17, 182, 5, 134, 730, 135, 204, 1353), (302, 'innomatics', 'CloudComputing', 'Kanpour', 'Graduate', 'no', 'Yes', 'advanced', 'No', 'Yes', 1, 45, 1, 19, 221, 20, 56, 342), (303, 'Upgrad', 'ProjectManagement', 'Calcutta', 'Graduate', 'no', 'Yes', 'advanced', 'Yes', 'Yes', 8, 97, 2, 65, 434, 66, 115, 745), (304, 'Udemy', 'FullstackDataScience', 'Chennai', 'Doctorate', 'Yes', 'Yes', 'intermediate', 'Yes', 'Yes', 17, 176, 4, 120, 709, 121, 198, 1307), (305, 'Guvi', 'ProjectManagement', 'Pune', 'Graduate', 'no', 'no', 'advanced', 'Yes', 'Yes', 3, 55, 1, 27, 263, 29, 68, 424), (306, 'Simple_learn', 'BigData', 'Bengaluru', 'UnderGraduate', 'no', 'no', 'intermediate', 'No', 'Yes', 1, 42, 1, 16, 205, 17, 51, 311), (307, '360DigiTMG', 'DigitalMarketing', 'Hyderabad', 'UnderGraduate', 'no', 'no', 'intermediate', 'No', 'Yes', 6, 83, 2, 54, 377, 55, 100, 641), (308, 'Coursera', 'ArtificialIntelligence', 'Chennai', 'Graduate', 'Yes', 'Yes', 'intermediate', 'Yes', 'Yes', 7, 92, 2, 61, 415, 62, 110, 710), (309, 'Simple_learn', 'CloudComputing', 'Bengaluru', 'Graduate', 'no', 'Yes', 'advanced', 'Yes', 'Yes', 19, 189, 4, 129, 754, 131, 212, 1379), (310, 'ExcelR', 'python', 'Ahmedabad', 'Doctorate', 'Yes', 'no', 'intermediate', 'No', 'Yes', 18, 187, 4, 128, 752, 130, 211, 1370), (311, 'Udemy', 'FullstackDataScience', 'Bengaluru', 'UnderGraduate', 'Yes', 'Yes', 'intermediate', 'Yes', 'Yes', 3, 55, 1, 28, 264, 29, 68, 425), (312, 'Great_Learn', 'Dataanalysis', 'Pune', 'UnderGraduate', 'Yes', 'Yes', 'advanced', 'No', 'Yes', 4, 61, 1, 33, 289, 35, 75, 473), (313, 'Upgrad', 'ProjectManagement', 'Bengaluru', 'Doctorate', 'Yes', 'no', 'intermediate', 'No', 'Yes', 15, 156, 4, 112, 769, 114, 175, 1143), (314, 'Udemy', 'python', 'Hyderabad', 'Doctorate', 'Yes', 'no', 'intermediate', 'Yes', 'Yes', 15, 163, 4, 118, 650, 119, 182, 1197), (315, 'Udemy', 'BigData', 'Kanpour', 'Doctorate', 'no', 'no', 'beginer', 'Yes', 'Yes', 12, 127, 3, 90, 542, 91, 146, 952), (316, 'ExcelR', 'DataScience', 'Hyderabad', 'Graduate', 'Yes', 'no', 'beginer', 'No', 'Yes', 7, 90, 2, 59, 407, 61, 108, 695), (317, 'innomatics', 'FullstackDataScience', 'Mumbai', 'UnderGraduate', 'no', 'no', 'advanced', 'Yes', 'Yes', 3, 54, 1, 27, 258, 28, 66, 413), (318, 'Udemy', 'DigitalMarketing', 'Calcutta', 'Doctorate', 'Yes', 'Yes', 'beginer', 'No', 'Yes', 8, 92, 4, 60, 412, 62, 109, 704), (319, 'Datatrain', 'DigitalMarketing', 'Chennai', 'UnderGraduate', 'no', 'no', 'advanced', 'No', 'Yes', 19, 191, 5, 141, 767, 143, 215, 1433), (320, 'Udemy', 'DigitalMarketing', 'Hyderabad', 'Graduate', 'no', 'no', 'beginer', 'Yes', 'Yes', 12, 130, 3, 92, 550, 93, 149, 969), (321, 'Edvancer', 'ProjectManagement', 'Chennai', 'Graduate', 'Yes', 'no', 'intermediate', 'Yes', 'Yes', 11, 115, 3, 80, 503, 81, 134, 870), (322, 'innomatics', 'python', 'Bengaluru', 'UnderGraduate', 'no', 'Yes', 'beginer', 'Yes', 'Yes', 11, 114, 3, 79, 502, 80, 133, 860), (323, 'Edureka', 'python', 'Bengaluru', 'Doctorate', 'no', 'no', 'beginer', 'No', 'Yes', 19, 191, 5, 141, 764, 142, 214, 1427), (324, 'Edureka', 'Dataanalysis', 'Ahmedabad', 'Doctorate', 'Yes', 'no', 'advanced', 'No', 'Yes', 8, 93, 2, 62, 418, 63, 111, 714), (325, 'Simple_learn', 'BigData', 'Hyderabad', 'Graduate', 'Yes', 'no', 'intermediate', 'No', 'Yes', 17, 182, 4, 133, 729, 135, 204, 1352), (326, 'Datatrain', 'DigitalTransformation', 'Ahmedabad', 'Graduate', 'Yes', 'Yes', 'beginer', 'Yes', 'Yes', 13, 134, 3, 95, 564, 96, 153, 997), (327, 'Coursera', 'BigData', 'Hyderabad', 'Doctorate', 'no', 'no', 'beginer', 'No', 'Yes', 11, 114, 3, 78, 496, 80, 133, 859), (328, 'Guvi', 'python', 'Hyderabad', 'Doctorate', 'no', 'Yes', 'advanced', 'Yes', 'Yes', 13, 133, 3, 94, 558, 95, 152, 987), (329, 'Simple_learn', 'FullstackDataScience', 'Bengaluru', 'Doctorate', 'Yes', 'Yes', 'advanced', 'Yes', 'Yes', 13, 129, 3, 91, 547, 92, 148, 962), (330, 'Upgrad', 'BigData', 'Pune', 'Doctorate', 'no', 'no', 'beginer', 'No', 'Yes', 13, 127, 3, 88, 539, 90, 146, 946), (331, 'Datatrain', 'BigData', 'Bengaluru', 'Graduate', 'no', 'Yes', 'beginer', 'No', 'Yes', 17, 173, 4, 127, 697, 128, 194, 1282), (332, 'Upgrad', 'ProjectManagement', 'Hyderabad', 'Doctorate', 'Yes', 'no', 'intermediate', 'Yes', 'Yes', 17, 178, 4, 131, 715, 132, 200, 1321), (333, 'Upgrad', 'DataScience', 'Mumbai', 'UnderGraduate', 'Yes', 'Yes', 'intermediate', 'No', 'Yes', 5, 67, 2, 39, 313, 40, 82, 551), (334, 'Upgrad', 'FullstackDataScience', 'Chennai', 'Graduate', 'Yes', 'no', 'intermediate', 'Yes', 'Yes', 19, 193, 5, 142, 775, 144, 217, 1448), (335, 'Datatrain', 'ArtificialIntelligence', 'Ahmedabad', 'Graduate', 'no', 'Yes', 'beginer', 'Yes', 'Yes', 16, 167, 4, 122, 674, 123, 188, 1233), (336, 'Great_Learn', 'DataScience', 'Hyderabad', 'UnderGraduate', 'Yes', 'no', 'intermediate', 'No', 'Yes', 13, 145, 4, 107, 612, 108, 168, 1098), (337, 'ExcelR', 'python', 'Calcutta', 'Graduate', 'no', 'Yes', 'advanced', 'No', 'Yes', 12, 142, 3, 101, 588, 102, 161, 1050), (338, 'Edvancer', 'ArtificialIntelligence', 'Hyderabad', 'Doctorate', 'no', 'Yes', 'beginer', 'No', 'Yes', 15, 169, 4, 123, 679, 124, 189, 1243), (339, 'Coursera', 'CloudComputing', 'Ahmedabad', 'UnderGraduate', 'Yes', 'Yes', 'beginer', 'Yes', 'Yes', 12, 124, 3, 87, 532, 88, 143, 923), (340, 'innomatics', 'BigData', 'Calcutta', 'Doctorate', 'Yes', 'Yes', 'intermediate', 'No', 'Yes', 6, 82, 2, 53, 372, 54, 99, 631), (341, 'Guvi', 'python', 'Mumbai', 'Graduate', 'Yes', 'no', 'advanced', 'No', 'Yes', 17, 177, 4, 131, 712, 131, 199, 1316), (342, 'Upgrad', 'ProjectManagement', 'Mumbai', 'Doctorate', 'Yes', 'Yes', 'beginer', 'No', 'Yes', 6, 82, 2, 52, 372, 54, 99, 631), (343, 'Data_camp', 'ArtificialIntelligence', 'Pune', 'UnderGraduate', 'no', 'Yes', 'beginer', 'No', 'Yes', 6, 83, 2, 54, 379, 55, 100, 643), (344, 'Great_Learn', 'DigitalTransformation', 'Delhi', 'Doctorate', 'no', 'Yes', 'beginer', 'No', 'Yes', 9, 106, 3, 72, 467, 73, 124, 806), (345, 'Great_Learn', 'Dataanalysis', 'Chennai', 'Doctorate', 'no', 'Yes', 'advanced', 'Yes', 'Yes', 13, 133, 3, 94, 558, 95, 152, 986), (346, 'Upgrad', 'DigitalTransformation', 'Calcutta', 'Graduate', 'no', 'Yes', 'beginer', 'Yes', 'Yes', 19, 190, 5, 141, 761, 142, 213, 1419), (347, 'ExcelR', 'DigitalTransformation', 'Bengaluru', 'Doctorate', 'Yes', 'Yes', 'beginer', 'No', 'Yes', 13, 143, 3, 102, 591, 103, 162, 1055), (348, 'innomatics', 'ProjectManagement', 'Hyderabad', 'Doctorate', 'Yes', 'no', 'advanced', 'No', 'Yes', 6, 78, 2, 50, 360, 51, 95, 610), (349, 'Edvancer', 'ProjectManagement', 'Chennai', 'Graduate', 'Yes', 'Yes', 'intermediate', 'Yes', 'Yes', 13, 140, 3, 100, 581, 101, 159, 1034), (350, 'Simple_learn', 'python', 'Mumbai', 'Graduate', 'Yes', 'Yes', 'intermediate', 'Yes', 'Yes', 6, 77, 2, 49, 354, 50, 94, 598), (351, 'Simple_learn', 'ProjectManagement', 'Delhi', 'Doctorate', 'Yes', 'no', 'intermediate', 'Yes', 'Yes', 12, 127, 3, 89, 539, 90, 146, 945), (352, 'Upgrad', 'CloudComputing', 'Mumbai', 'Graduate', 'Yes', 'no', 'intermediate', 'No', 'Yes', 20, 199, 5, 148, 799, 149, 224, 1495), (353, 'Datatrain', 'DataScience', 'Hyderabad', 'Doctorate', 'Yes', 'no', 'beginer', 'No', 'Yes', 3, 59, 1, 32, 280, 33, 72, 456), (354, 'innomatics', 'DataScience', 'Bengaluru', 'Doctorate', 'Yes', 'Yes', 'beginer', 'Yes', 'Yes', 11, 111, 3, 76, 485, 77, 130, 840), (355, 'Great_Learn', 'DigitalTransformation', 'Hyderabad', 'Doctorate', 'Yes', 'Yes', 'intermediate', 'Yes', 'Yes', 20, 199, 5, 149, 799, 149, 224, 1496), (356, 'ExcelR', 'Dataanalysis', 'Kanpour', 'Graduate', 'Yes', 'no', 'intermediate', 'No', 'Yes', 11, 113, 3, 78, 495, 79, 132, 857), (357, 'innomatics', 'CloudComputing', 'Pune', 'UnderGraduate', 'Yes', 'Yes', 'beginer', 'No', 'Yes', 5, 72, 2, 44, 335, 45, 88, 561), (358, 'Datatrain', 'DataScience', 'Chennai', 'UnderGraduate', 'Yes', 'no', 'beginer', 'No', 'Yes', 2, 50, 1, 24, 244, 25, 62, 388), (359, 'Great_Learn', 'python', 'Calcutta', 'Doctorate', 'Yes', 'no', 'intermediate', 'No', 'Yes', 13, 142, 3, 101, 588, 102, 161, 1049), (360, 'Upgrad', 'BigData', 'Calcutta', 'Doctorate', 'Yes', 'Yes', 'advanced', 'No', 'Yes', 13, 136, 3, 97, 570, 98, 155, 1011), (361, 'ExcelR', 'DigitalTransformation', 'Calcutta', 'UnderGraduate', 'no', 'no', 'advanced', 'No', 'Yes', 13, 140, 3, 100, 581, 101, 159, 1036), (362, 'Edureka', 'ArtificialIntelligence', 'Bengaluru', 'UnderGraduate', 'Yes', 'no', 'intermediate', 'No', 'Yes', 19, 187, 4, 137, 750, 139, 210, 1396), (363, 'Edureka', 'FullstackDataScience', 'Chennai', 'Graduate', 'no', 'no', 'beginer', 'No', 'Yes', 8, 94, 2, 62, 419, 63, 112, 718), (364, 'Edvancer', 'FullstackDataScience', 'Bengaluru', 'UnderGraduate', 'Yes', 'Yes', 'advanced', 'No', 'Yes', 9, 99, 2, 67, 440, 68, 117, 755), (365, 'Edureka', 'ProjectManagement', 'Hyderabad', 'Doctorate', 'Yes', 'no', 'beginer', 'Yes', 'Yes', 10, 108, 3, 74, 474, 75, 127, 818), (366, '360DigiTMG', 'Dataanalysis', 'Ahmedabad', 'Doctorate', 'Yes', 'Yes', 'intermediate', 'No', 'Yes', 15, 158, 4, 114, 639, 115, 177, 1156), (367, 'Datatrain', 'ProjectManagement', 'Mumbai', 'UnderGraduate', 'Yes', 'Yes', 'intermediate', 'No', 'Yes', 8, 92, 2, 61, 413, 62, 110, 706), (368, 'Great_Learn', 'python', 'Delhi', 'Graduate', 'Yes', 'no', 'intermediate', 'Yes', 'Yes', 10, 110, 3, 75, 481, 76, 128, 832), (369, 'Guvi', 'ArtificialIntelligence', 'Chennai', 'Graduate', 'Yes', 'no', 'beginer', 'No', 'Yes', 9, 97, 2, 65, 432, 66, 115, 740), (370, 'Edx', 'ArtificialIntelligence', 'Mumbai', 'Graduate', 'Yes', 'Yes', 'advanced', 'Yes', 'Yes', 1, 43, 1, 17, 208, 18, 54, 331), (371, 'Coursera', 'ProjectManagement', 'Pune', 'Doctorate', 'Yes', 'Yes', 'beginer', 'Yes', 'Yes', 19, 186, 5, 136, 746, 138, 209, 1386), (372, 'Udemy', 'python', 'Pune', 'Graduate', 'no', 'Yes', 'beginer', 'No', 'Yes', 7, 85, 2, 55, 386, 56, 103, 657), (373, 'Udemy', 'FullstackDataScience', 'Pune', 'UnderGraduate', 'no', 'no', 'advanced', 'Yes', 'Yes', 3, 57, 1, 30, 270, 31, 70, 437), (374, 'Udemy', 'Dataanalysis', 'Ahmedabad', 'Graduate', 'no', 'Yes', 'advanced', 'No', 'Yes', 7, 87, 2, 57, 393, 58, 104, 670), (375, 'Data_camp', 'CloudComputing', 'Mumbai', 'UnderGraduate', 'Yes', 'no', 'beginer', 'No', 'Yes', 13, 129, 3, 91, 547, 92, 148, 963), (376, 'Coursera', 'DigitalTransformation', 'Kanpour', 'Doctorate', 'Yes', 'Yes', 'advanced', 'Yes', 'Yes', 13, 131, 3, 92, 549, 93, 149, 967), (377, 'Simple_learn', 'DigitalMarketing', 'Mumbai', 'Doctorate', 'Yes', 'no', 'beginer', 'No', 'Yes', 2, 49, 1, 23, 241, 24, 61, 383), (378, 'Edx', 'BigData', 'Chennai', 'Doctorate', 'no', 'Yes', 'advanced', 'No', 'Yes', 4, 61, 1, 34, 289, 35, 75, 474), (379, 'Edvancer', 'BigData', 'Bengaluru', 'UnderGraduate', 'Yes', 'Yes', 'intermediate', 'Yes', 'Yes', 12, 128, 3, 90, 543, 91, 147, 953), (380, 'Edureka', 'DataScience', 'Hyderabad', 'Doctorate', 'no', 'no', 'intermediate', 'Yes', 'Yes', 2, 49, 1, 22, 238, 23, 61, 376), (381, 'ExcelR', 'Dataanalysis', 'Pune', 'Graduate', 'Yes', 'Yes', 'advanced', 'No', 'Yes', 11, 121, 3, 84, 519, 85, 139, 897), (382, 'Guvi', 'CloudComputing', 'Bengaluru', 'Doctorate', 'no', 'no', 'intermediate', 'Yes', 'Yes', 18, 178, 4, 131, 705, 132, 199, 1318), (383, 'Data_camp', 'DigitalTransformation', 'Chennai', 'Graduate', 'Yes', 'Yes', 'intermediate', 'No', 'Yes', 13, 136, 3, 97, 571, 98, 155, 1012), (384, 'Great_Learn', 'DigitalMarketing', 'Kanpour', 'UnderGraduate', 'no', 'no', 'intermediate', 'Yes', 'Yes', 17, 173, 4, 126, 697, 128, 194, 1281), (385, 'Coursera', 'FullstackDataScience', 'Hyderabad', 'Graduate', 'no', 'Yes', 'beginer', 'Yes', 'Yes', 13, 135, 3, 95, 565, 97, 154, 999), (386, 'Data_camp', 'Dataanalysis', 'Bengaluru', 'UnderGraduate', 'no', 'Yes', 'beginer', 'No', 'Yes', 14, 154, 3, 78, 492, 79, 131, 852), (387, 'Edureka', 'CloudComputing', 'Hyderabad', 'Graduate', 'Yes', 'no', 'advanced', 'Yes', 'Yes', 16, 169, 4, 124, 680, 125, 189, 1246), (388, 'Edvancer', 'CloudComputing', 'Mumbai', 'Doctorate', 'Yes', 'no', 'beginer', 'Yes', 'Yes', 19, 192, 5, 144, 787, 145, 221, 1475), (389, 'Data_camp', 'Dataanalysis', 'Delhi', 'Doctorate', 'no', 'no', 'intermediate', 'Yes', 'Yes', 7, 83, 2, 54, 377, 55, 100, 640), (390, 'Coursera', 'python', 'Chennai', 'UnderGraduate', 'Yes', 'Yes', 'beginer', 'Yes', 'Yes', 2, 51, 1, 24, 246, 25, 63, 389), (391, 'Edx', 'ArtificialIntelligence', 'Hyderabad', 'Graduate', 'no', 'Yes', 'beginer', 'No', 'Yes', 16, 167, 4, 122, 671, 123, 187, 1225), (392, 'ExcelR', 'DataScience', 'Kanpour', 'UnderGraduate', 'no', 'no', 'advanced', 'No', 'Yes', 12, 124, 3, 87, 531, 88, 143, 928), (393, 'innomatics', 'ArtificialIntelligence', 'Chennai', 'Graduate', 'no', 'no', 'beginer', 'No', 'Yes', 10, 110, 3, 75, 481, 76, 128, 831), (394, 'Great_Learn', 'BigData', 'Ahmedabad', 'Graduate', 'Yes', 'no', 'beginer', 'No', 'Yes', 17, 178, 4, 131, 714, 132, 199, 1317), (395, 'ExcelR', 'ProjectManagement', 'Chennai', 'Graduate', 'no', 'Yes', 'intermediate', 'No', 'Yes', 3, 57, 1, 30, 270, 31, 70, 439), (396, 'Data_camp', 'python', 'Mumbai', 'Graduate', 'Yes', 'Yes', 'intermediate', 'No', 'Yes', 3, 54, 1, 27, 258, 28, 66, 413), (397, 'Coursera', 'python', 'Kanpour', 'Doctorate', 'no', 'Yes', 'beginer', 'No', 'Yes', 15, 166, 4, 121, 666, 122, 185, 1215), (398, 'Great_Learn', 'ProjectManagement', 'Bengaluru', 'Graduate', 'Yes', 'no', 'intermediate', 'Yes', 'Yes', 11, 115, 3, 80, 475, 81, 132, 853), (399, 'Edx', 'FullstackDataScience', 'Ahmedabad', 'Graduate', 'no', 'Yes', 'intermediate', 'No', 'Yes', 2, 51, 1, 24, 246, 25, 63, 384), (400, 'Edx', 'Dataanalysis', 'Pune', 'UnderGraduate', 'no', 'Yes', 'advanced', 'Yes', 'Yes', 2, 48, 1, 17, 231, 18, 59, 363), (401, 'innomatics', 'ProjectManagement', 'Hyderabad', 'Doctorate', 'no', 'no', 'advanced', 'Yes', 'Yes', 16, 172, 4, 126, 692, 127, 193, 1272), (402, 'Upgrad', 'FullstackDataScience', 'Delhi', 'Graduate', 'no', 'no', 'beginer', 'No', 'Yes', 13, 143, 3, 103, 592, 104, 161, 1057), (403, 'Simple_learn', 'python', 'Bengaluru', 'Graduate', 'Yes', 'Yes', 'beginer', 'No', 'Yes', 12, 125, 3, 88, 525, 89, 144, 936), (404, 'Datatrain', 'DigitalMarketing', 'Kanpour', 'UnderGraduate', 'Yes', 'no', 'intermediate', 'Yes', 'Yes', 17, 176, 4, 131, 720, 133, 201, 1329), (405, 'Guvi', 'CloudComputing', 'Chennai', 'Graduate', 'no', 'no', 'beginer', 'Yes', 'Yes', 13, 139, 3, 99, 579, 100, 158, 1030), (406, 'Coursera', 'CloudComputing', 'Bengaluru', 'Graduate', 'Yes', 'Yes', 'beginer', 'Yes', 'Yes', 3, 57, 1, 30, 273, 31, 71, 444), (407, 'Edvancer', 'ArtificialIntelligence', 'Pune', 'Graduate', 'no', 'Yes', 'advanced', 'No', 'Yes', 5, 65, 2, 38, 306, 39, 80, 506), (408, 'Upgrad', 'DigitalMarketing', 'Ahmedabad', 'UnderGraduate', 'Yes', 'no', 'intermediate', 'No', 'Yes', 6, 74, 2, 46, 341, 47, 90, 574), (409, 'Edureka', 'Dataanalysis', 'Bengaluru', 'Graduate', 'no', 'no', 'beginer', 'Yes', 'Yes', 10, 109, 3, 75, 478, 76, 127, 826), (410, 'Data_camp', 'python', 'Mumbai', 'Graduate', 'Yes', 'Yes', 'beginer', 'Yes', 'Yes', 5, 67, 2, 40, 315, 41, 83, 524), (411, 'Edx', 'ArtificialIntelligence', 'Bengaluru', 'Graduate', 'Yes', 'no', 'beginer', 'No', 'Yes', 19, 194, 5, 143, 779, 145, 219, 1458), (412, 'Edx', 'BigData', 'Chennai', 'UnderGraduate', 'no', 'no', 'advanced', 'Yes', 'Yes', 20, 196, 5, 145, 787, 147, 221, 1474), (413, 'Great_Learn', 'ProjectManagement', 'Hyderabad', 'Doctorate', 'Yes', 'Yes', 'beginer', 'Yes', 'Yes', 18, 175, 4, 128, 692, 129, 151, 979), (414, 'Simple_learn', 'DataScience', 'Delhi', 'Doctorate', 'no', 'Yes', 'beginer', 'Yes', 'Yes', 6, 79, 2, 51, 363, 52, 96, 616), (415, 'Simple_learn', 'ArtificialIntelligence', 'Hyderabad', 'UnderGraduate', 'no', 'no', 'beginer', 'Yes', 'Yes', 16, 169, 4, 123, 680, 125, 189, 1247), (416, 'Guvi', 'ProjectManagement', 'Mumbai', 'Graduate', 'no', 'no', 'beginer', 'Yes', 'Yes', 7, 84, 2, 55, 382, 56, 68, 649), (417, 'Edvancer', 'ProjectManagement', 'Ahmedabad', 'Doctorate', 'no', 'Yes', 'intermediate', 'No', 'Yes', 5, 62, 1, 30, 406, 31, 65, 401), (418, 'Upgrad', 'ProjectManagement', 'Bengaluru', 'Graduate', 'no', 'Yes', 'advanced', 'No', 'Yes', 5, 61, 1, 34, 290, 35, 75, 475), (419, 'ExcelR', 'DigitalMarketing', 'Calcutta', 'Graduate', 'no', 'Yes', 'beginer', 'Yes', 'Yes', 13, 142, 3, 101, 724, 102, 161, 1049), (420, 'Udemy', 'ProjectManagement', 'Kanpour', 'Doctorate', 'no', 'Yes', 'beginer', 'Yes', 'Yes', 19, 192, 4, 141, 770, 143, 216, 1440), (421, 'Edureka', 'CloudComputing', 'Kanpour', 'Graduate', 'Yes', 'no', 'beginer', 'Yes', 'Yes', 14, 152, 4, 110, 620, 111, 181, 1114), (422, 'Edx', 'DataScience', 'Chennai', 'UnderGraduate', 'Yes', 'Yes', 'intermediate', 'No', 'Yes', 11, 120, 3, 84, 524, 85, 140, 908), (423, 'innomatics', 'DataScience', 'Pune', 'Graduate', 'no', 'Yes', 'intermediate', 'No', 'Yes', 17, 174, 4, 128, 700, 129, 195, 1287), (424, 'innomatics', 'ProjectManagement', 'Pune', 'UnderGraduate', 'Yes', 'Yes', 'intermediate', 'No', 'Yes', 2, 50, 1, 24, 244, 25, 62, 388), (425, 'Edx', 'DigitalTransformation', 'Delhi', 'UnderGraduate', 'Yes', 'no', 'advanced', 'Yes', 'Yes', 8, 94, 2, 63, 421, 64, 112, 722), (426, 'ExcelR', 'DataScience', 'Delhi', 'Graduate', 'Yes', 'Yes', 'beginer', 'No', 'Yes', 5, 67, 2, 38, 312, 40, 82, 517), (427, 'Simple_learn', 'ProjectManagement', 'Pune', 'Graduate', 'Yes', 'Yes', 'intermediate', 'Yes', 'Yes', 17, 176, 4, 129, 708, 130, 198, 1303), (428, 'Edureka', 'Dataanalysis', 'Hyderabad', 'UnderGraduate', 'Yes', 'no', 'advanced', 'Yes', 'Yes', 7, 88, 2, 58, 397, 59, 106, 679), (429, 'Simple_learn', 'python', 'Bengaluru', 'Doctorate', 'no', 'Yes', 'advanced', 'No', 'Yes', 20, 196, 5, 148, 796, 149, 224, 1495), (430, 'Data_camp', 'DigitalTransformation', 'Calcutta', 'Graduate', 'Yes', 'Yes', 'beginer', 'No', 'Yes', 19, 193, 5, 143, 775, 144, 217, 1443), (431, 'innomatics', 'ProjectManagement', 'Calcutta', 'Graduate', 'Yes', 'no', 'advanced', 'Yes', 'Yes', 8, 92, 2, 61, 412, 62, 109, 705), (432, 'Data_camp', 'Dataanalysis', 'Calcutta', 'Doctorate', 'Yes', 'no', 'advanced', 'Yes', 'Yes', 11, 114, 3, 78, 493, 79, 132, 853), (433, 'Edvancer', 'BigData', 'Ahmedabad', 'Graduate', 'no', 'no', 'beginer', 'Yes', 'Yes', 12, 126, 3, 88, 536, 89, 145, 940), (434, 'Edvancer', 'Dataanalysis', 'Kanpour', 'Graduate', 'Yes', 'Yes', 'beginer', 'Yes', 'Yes', 20, 194, 5, 147, 794, 148, 223, 1494), (435, 'Datatrain', 'DigitalMarketing', 'Calcutta', 'Graduate', 'no', 'no', 'beginer', 'Yes', 'Yes', 13, 134, 3, 95, 564, 96, 153, 998), (436, 'Coursera', 'CloudComputing', 'Chennai', 'Doctorate', 'no', 'no', 'advanced', 'No', 'Yes', 8, 90, 2, 59, 404, 60, 107, 691), (437, 'Upgrad', 'DigitalMarketing', 'Calcutta', 'Doctorate', 'Yes', 'no', 'intermediate', 'Yes', 'Yes', 15, 156, 4, 111, 657, 113, 133, 866), (438, 'Upgrad', 'DataScience', 'Hyderabad', 'Graduate', 'no', 'no', 'intermediate', 'Yes', 'Yes', 16, 168, 4, 123, 677, 124, 189, 1238), (439, 'Coursera', 'CloudComputing', 'Mumbai', 'UnderGraduate', 'Yes', 'no', 'intermediate', 'Yes', 'Yes', 1, 44, 1, 18, 220, 19, 55, 340), (440, 'Coursera', 'ProjectManagement', 'Ahmedabad', 'Doctorate', 'Yes', 'no', 'intermediate', 'No', 'Yes', 18, 179, 4, 132, 720, 133, 201, 1330), (441, 'ExcelR', 'DigitalTransformation', 'Ahmedabad', 'Doctorate', 'Yes', 'Yes', 'advanced', 'Yes', 'Yes', 18, 185, 4, 137, 743, 138, 208, 1380), (442, 'Simple_learn', 'ProjectManagement', 'Ahmedabad', 'Doctorate', 'Yes', 'no', 'advanced', 'Yes', 'Yes', 8, 93, 2, 62, 416, 63, 111, 712), (443, 'Coursera', 'DigitalMarketing', 'Kanpour', 'UnderGraduate', 'Yes', 'Yes', 'advanced', 'No', 'Yes', 10, 109, 3, 75, 479, 76, 128, 828), (444, '360DigiTMG', 'DigitalMarketing', 'Hyderabad', 'Doctorate', 'Yes', 'Yes', 'advanced', 'No', 'Yes', 13, 129, 3, 91, 547, 92, 148, 962), (445, 'Simple_learn', 'python', 'Bengaluru', 'Graduate', 'Yes', 'no', 'intermediate', 'No', 'Yes', 1, 41, 1, 15, 207, 16, 52, 307), (446, '360DigiTMG', 'Dataanalysis', 'Kanpour', 'Graduate', 'no', 'Yes', 'advanced', 'Yes', 'Yes', 11, 118, 3, 84, 511, 83, 137, 886), (447, 'Great_Learn', 'CloudComputing', 'Chennai', 'Graduate', 'Yes', 'Yes', 'beginer', 'No', 'Yes', 6, 76, 2, 48, 351, 49, 93, 589), (448, 'innomatics', 'FullstackDataScience', 'Kanpour', 'UnderGraduate', 'no', 'no', 'intermediate', 'No', 'Yes', 14, 151, 3, 109, 616, 110, 170, 1110), (449, 'innomatics', 'DigitalTransformation', 'Kanpour', 'Doctorate', 'no', 'no', 'advanced', 'Yes', 'Yes', 10, 111, 3, 76, 485, 77, 130, 840), (450, 'Coursera', 'ArtificialIntelligence', 'Mumbai', 'Doctorate', 'no', 'Yes', 'beginer', 'No', 'Yes', 2, 51, 1, 25, 249, 26, 64, 396), (451, '360DigiTMG', 'ProjectManagement', 'Delhi', 'Doctorate', 'no', 'Yes', 'intermediate', 'No', 'Yes', 14, 152, 3, 109, 621, 111, 171, 1117), (452, 'Simple_learn', 'ArtificialIntelligence', 'Ahmedabad', 'Doctorate', 'no', 'Yes', 'beginer', 'No', 'Yes', 19, 189, 5, 140, 758, 141, 219, 1414), (453, 'Edvancer', 'DataScience', 'Delhi', 'Doctorate', 'no', 'no', 'beginer', 'Yes', 'Yes', 17, 180, 4, 133, 724, 134, 202, 1319), (454, 'Great_Learn', 'ProjectManagement', 'Hyderabad', 'Graduate', 'no', 'Yes', 'advanced', 'Yes', 'Yes', 10, 112, 3, 77, 490, 78, 131, 848), (455, 'Guvi', 'FullstackDataScience', 'Kanpour', 'Doctorate', 'no', 'no', 'intermediate', 'Yes', 'Yes', 14, 153, 4, 109, 622, 111, 172, 1120), (456, 'Udemy', 'python', 'Mumbai', 'Doctorate', 'Yes', 'Yes', 'beginer', 'No', 'Yes', 10, 111, 3, 77, 465, 78, 130, 842), (457, 'Great_Learn', 'ProjectManagement', 'Kanpour', 'Graduate', 'Yes', 'no', 'intermediate', 'Yes', 'Yes', 9, 106, 3, 72, 465, 73, 124, 802), (458, 'Datatrain', 'DigitalMarketing', 'Calcutta', 'UnderGraduate', 'Yes', 'no', 'advanced', 'No', 'Yes', 15, 156, 4, 112, 633, 114, 175, 1145), (459, 'Udemy', 'FullstackDataScience', 'Pune', 'Doctorate', 'no', 'no', 'intermediate', 'Yes', 'Yes', 4, 59, 1, 31, 280, 33, 72, 456), (460, 'Upgrad', 'DataScience', 'Delhi', 'Graduate', 'no', 'no', 'intermediate', 'Yes', 'Yes', 6, 75, 2, 47, 347, 48, 92, 578), (461, 'Guvi', 'DigitalTransformation', 'Hyderabad', 'Doctorate', 'Yes', 'no', 'advanced', 'No', 'Yes', 11, 118, 3, 84, 511, 83, 137, 882), (462, 'Edx', 'DataScience', 'Kanpour', 'Graduate', 'Yes', 'no', 'advanced', 'Yes', 'Yes', 2, 51, 1, 23, 247, 25, 63, 392), (463, 'Upgrad', 'ProjectManagement', 'Kanpour', 'UnderGraduate', 'Yes', 'no', 'beginer', 'No', 'Yes', 11, 118, 3, 84, 511, 83, 138, 883), (464, 'Simple_learn', 'CloudComputing', 'Delhi', 'UnderGraduate', 'no', 'Yes', 'beginer', 'No', 'Yes', 16, 169, 4, 124, 682, 125, 190, 1248), (465, 'Simple_learn', 'ArtificialIntelligence', 'Delhi', 'UnderGraduate', 'no', 'no', 'advanced', 'No', 'Yes', 12, 124, 3, 87, 532, 88, 143, 932), (466, 'Edx', 'python', 'Hyderabad', 'Graduate', 'no', 'Yes', 'advanced', 'No', 'Yes', 14, 148, 4, 105, 606, 107, 167, 1085), (467, 'Upgrad', 'FullstackDataScience', 'Kanpour', 'Graduate', 'Yes', 'Yes', 'advanced', 'No', 'Yes', 8, 88, 3, 91, 554, 92, 106, 677), (468, 'Great_Learn', 'python', 'Ahmedabad', 'Doctorate', 'Yes', 'Yes', 'advanced', 'Yes', 'Yes', 11, 113, 3, 78, 495, 79, 132, 858), (469, 'Guvi', 'DigitalTransformation', 'Ahmedabad', 'UnderGraduate', 'Yes', 'Yes', 'advanced', 'Yes', 'Yes', 2, 51, 1, 25, 249, 26, 64, 397), (470, 'innomatics', 'ProjectManagement', 'Bengaluru', 'Doctorate', 'Yes', 'no', 'intermediate', 'Yes', 'Yes', 20, 198, 5, 148, 794, 149, 223, 1492), (471, 'Udemy', 'Dataanalysis', 'Calcutta', 'Graduate', 'Yes', 'Yes', 'advanced', 'No', 'Yes', 9, 105, 3, 71, 462, 72, 123, 796), (472, 'Coursera', 'BigData', 'Pune', 'UnderGraduate', 'Yes', 'Yes', 'beginer', 'No', 'Yes', 15, 159, 4, 115, 642, 116, 178, 1161), (473, 'Edureka', 'BigData', 'Hyderabad', 'Graduate', 'no', 'no', 'advanced', 'No', 'Yes', 18, 177, 4, 129, 711, 131, 198, 1295), (474, 'Upgrad', 'DigitalMarketing', 'Calcutta', 'Graduate', 'no', 'no', 'advanced', 'Yes', 'Yes', 3, 56, 1, 28, 267, 30, 69, 432), (475, 'Simple_learn', 'python', 'Ahmedabad', 'Doctorate', 'Yes', 'Yes', 'advanced', 'Yes', 'Yes', 17, 174, 4, 127, 698, 128, 195, 1285), (476, 'Datatrain', 'DataScience', 'Chennai', 'UnderGraduate', 'Yes', 'no', 'advanced', 'No', 'Yes', 9, 97, 2, 64, 434, 66, 115, 745), (477, 'Datatrain', 'BigData', 'Hyderabad', 'Graduate', 'no', 'Yes', 'advanced', 'No', 'Yes', 13, 134, 3, 95, 562, 96, 153, 996), (478, 'Guvi', 'ArtificialIntelligence', 'Calcutta', 'UnderGraduate', 'no', 'Yes', 'intermediate', 'Yes', 'Yes', 5, 65, 2, 38, 306, 39, 80, 505), (479, 'Guvi', 'DataScience', 'Mumbai', 'Graduate', 'no', 'Yes', 'advanced', 'No', 'Yes', 11, 120, 3, 85, 515, 84, 138, 889), (480, 'Great_Learn', 'Dataanalysis', 'Hyderabad', 'Doctorate', 'no', 'Yes', 'intermediate', 'No', 'Yes', 17, 173, 4, 127, 697, 128, 194, 1280), (481, 'Udemy', 'FullstackDataScience', 'Chennai', 'UnderGraduate', 'Yes', 'Yes', 'beginer', 'No', 'Yes', 13, 139, 4, 103, 577, 104, 158, 1027), (482, 'Coursera', 'Dataanalysis', 'Delhi', 'Doctorate', 'no', 'no', 'advanced', 'Yes', 'Yes', 6, 77, 2, 49, 354, 50, 94, 595), (483, '360DigiTMG', 'DigitalTransformation', 'Pune', 'UnderGraduate', 'Yes', 'no', 'advanced', 'Yes', 'Yes', 18, 179, 4, 131, 720, 133, 201, 1329), (484, 'Datatrain', 'CloudComputing', 'Chennai', 'Graduate', 'Yes', 'Yes', 'advanced', 'No', 'Yes', 14, 145, 3, 104, 599, 105, 164, 1073), (485, 'Edureka', 'ArtificialIntelligence', 'Hyderabad', 'UnderGraduate', 'no', 'Yes', 'beginer', 'No', 'Yes', 14, 143, 3, 102, 592, 104, 162, 1058), (486, 'ExcelR', 'DataScience', 'Calcutta', 'Doctorate', 'Yes', 'Yes', 'advanced', 'No', 'Yes', 15, 159, 4, 115, 640, 117, 179, 1167), (487, 'Edx', 'DataScience', 'Mumbai', 'Graduate', 'Yes', 'Yes', 'beginer', 'No', 'Yes', 2, 51, 1, 24, 246, 25, 63, 390), (488, 'Edvancer', 'FullstackDataScience', 'Pune', 'UnderGraduate', 'Yes', 'Yes', 'advanced', 'Yes', 'Yes', 7, 85, 2, 54, 386, 56, 103, 657), (489, 'Upgrad', 'CloudComputing', 'Kanpour', 'UnderGraduate', 'no', 'Yes', 'advanced', 'No', 'Yes', 1, 42, 1, 15, 210, 16, 52, 307), (490, 'Guvi', 'DigitalMarketing', 'Ahmedabad', 'Graduate', 'Yes', 'Yes', 'intermediate', 'No', 'Yes', 9, 136, 3, 97, 569, 98, 155, 1010), (491, 'Data_camp', 'CloudComputing', 'Ahmedabad', 'Doctorate', 'no', 'Yes', 'beginer', 'Yes', 'Yes', 16, 171, 4, 124, 686, 126, 191, 1257), (492, 'innomatics', 'DigitalMarketing', 'Bengaluru', 'Doctorate', 'Yes', 'no', 'beginer', 'Yes', 'Yes', 12, 127, 3, 89, 539, 90, 146, 946), (493, 'ExcelR', 'BigData', 'Calcutta', 'Doctorate', 'Yes', 'no', 'advanced', 'Yes', 'Yes', 11, 121, 3, 84, 520, 85, 140, 904), (494, 'Data_camp', 'ProjectManagement', 'Calcutta', 'UnderGraduate', 'no', 'Yes', 'beginer', 'Yes', 'Yes', 13, 139, 4, 103, 577, 104, 158, 1027), (495, 'Data_camp', 'ProjectManagement', 'Chennai', 'UnderGraduate', 'no', 'no', 'beginer', 'Yes', 'Yes', 6, 74, 2, 46, 343, 47, 90, 578), (496, 'Data_camp', 'Dataanalysis', 'Bengaluru', 'Graduate', 'Yes', 'Yes', 'advanced', 'No', 'Yes', 15, 159, 4, 116, 640, 117, 179, 1167), (497, 'Datatrain', 'DigitalMarketing', 'Mumbai', 'Doctorate', 'Yes', 'no', 'advanced', 'No', 'Yes', 12, 128, 3, 90, 545, 91, 147, 958), (498, '360DigiTMG', 'DigitalMarketing', 'Pune', 'UnderGraduate', 'Yes', 'Yes', 'beginer', 'No', 'Yes', 11, 119, 3, 83, 515, 84, 138, 896), (499, 'Edx', 'ArtificialIntelligence', 'Delhi', 'Doctorate', 'no', 'Yes', 'advanced', 'Yes', 'Yes', 12, 127, 3, 89, 539, 90, 146, 946), (500, 'innomatics', 'DataScience', 'Chennai', 'Graduate', 'Yes', 'no', 'intermediate', 'No', 'Yes', 7, 86, 2, 56, 390, 57, 100, 665), (501, 'Upgrad', 'DigitalMarketing', 'Calcutta', 'UnderGraduate', 'no', 'Yes', 'beginer', 'No', 'Yes', 11, 118, 3, 84, 511, 83, 137, 887), (502, 'Data_camp', 'ProjectManagement', 'Kanpour', 'UnderGraduate', 'no', 'no', 'intermediate', 'No', 'Yes', 10, 109, 3, 75, 478, 76, 127, 825), (503, 'Upgrad', 'FullstackDataScience', 'Delhi', 'UnderGraduate', 'Yes', 'no', 'intermediate', 'No', 'Yes', 17, 178, 4, 131, 714, 132, 199, 1318), (504, 'Upgrad', 'DigitalTransformation', 'Chennai', 'Doctorate', 'Yes', 'Yes', 'intermediate', 'Yes', 'Yes', 12, 127, 3, 89, 541, 90, 146, 948), (505, 'Great_Learn', 'DigitalMarketing', 'Ahmedabad', 'Doctorate', 'no', 'no', 'intermediate', 'No', 'Yes', 7, 83, 2, 53, 377, 54, 100, 642), (506, 'Datatrain', 'DataScience', 'Calcutta', 'UnderGraduate', 'no', 'Yes', 'beginer', 'No', 'Yes', 13, 143, 4, 103, 592, 104, 162, 1057), (507, 'innomatics', 'CloudComputing', 'Ahmedabad', 'Doctorate', 'no', 'Yes', 'advanced', 'No', 'Yes', 19, 194, 5, 144, 779, 145, 219, 1459), (508, 'ExcelR', 'FullstackDataScience', 'Kanpour', 'Graduate', 'no', 'Yes', 'beginer', 'Yes', 'Yes', 9, 105, 3, 72, 463, 73, 124, 800), (509, 'Coursera', 'DigitalMarketing', 'Calcutta', 'UnderGraduate', 'Yes', 'no', 'beginer', 'Yes', 'Yes', 16, 168, 4, 123, 675, 124, 188, 1235), (510, '360DigiTMG', 'python', 'Bengaluru', 'Doctorate', 'Yes', 'Yes', 'intermediate', 'No', 'Yes', 13, 130, 3, 90, 545, 91, 147, 950), (511, 'Edureka', 'BigData', 'Ahmedabad', 'Graduate', 'Yes', 'no', 'beginer', 'Yes', 'Yes', 4, 68, 2, 40, 317, 41, 83, 528), (512, 'innomatics', 'CloudComputing', 'Hyderabad', 'Graduate', 'Yes', 'Yes', 'advanced', 'Yes', 'Yes', 20, 198, 5, 149, 796, 149, 224, 1496), (513, 'Edx', 'FullstackDataScience', 'Calcutta', 'UnderGraduate', 'Yes', 'Yes', 'intermediate', 'No', 'Yes', 19, 192, 5, 142, 770, 143, 217, 1451), (514, 'Guvi', 'ProjectManagement', 'Kanpour', 'Graduate', 'Yes', 'Yes', 'intermediate', 'Yes', 'Yes', 4, 61, 2, 34, 290, 35, 75, 476), (515, 'Edvancer', 'BigData', 'Kanpour', 'UnderGraduate', 'Yes', 'Yes', 'advanced', 'Yes', 'Yes', 15, 167, 4, 123, 653, 124, 188, 1234), (516, 'Guvi', 'BigData', 'Pune', 'Doctorate', 'no', 'no', 'advanced', 'Yes', 'Yes', 2, 49, 1, 22, 238, 23, 61, 377), (517, 'innomatics', 'DigitalMarketing', 'Kanpour', 'UnderGraduate', 'Yes', 'no', 'advanced', 'No', 'Yes', 13, 131, 3, 92, 544, 94, 150, 977), (518, 'Data_camp', 'Dataanalysis', 'Hyderabad', 'UnderGraduate', 'Yes', 'no', 'beginer', 'No', 'Yes', 17, 178, 4, 131, 714, 132, 199, 1318), (519, 'Data_camp', 'DataScience', 'Chennai', 'Doctorate', 'no', 'Yes', 'beginer', 'Yes', 'Yes', 17, 180, 4, 135, 723, 134, 202, 1336), (520, 'innomatics', 'ProjectManagement', 'Pune', 'Graduate', 'Yes', 'no', 'intermediate', 'No', 'Yes', 18, 184, 5, 138, 738, 137, 207, 1371), (521, 'Edureka', 'CloudComputing', 'Delhi', 'Graduate', 'no', 'Yes', 'intermediate', 'Yes', 'Yes', 4, 66, 1, 29, 269, 30, 69, 435), (522, 'Edx', 'FullstackDataScience', 'Hyderabad', 'Doctorate', 'no', 'no', 'beginer', 'Yes', 'Yes', 20, 195, 5, 147, 784, 146, 220, 1462), (523, 'ExcelR', 'DigitalTransformation', 'Delhi', 'Graduate', 'no', 'Yes', 'intermediate', 'Yes', 'Yes', 1, 42, 1, 16, 212, 16, 95, 601), (524, 'Datatrain', 'CloudComputing', 'Pune', 'UnderGraduate', 'no', 'no', 'beginer', 'No', 'Yes', 5, 68, 1, 31, 275, 32, 71, 446), (525, 'Guvi', 'CloudComputing', 'Delhi', 'Graduate', 'Yes', 'Yes', 'beginer', 'Yes', 'Yes', 15, 162, 4, 121, 655, 120, 182, 1187)]\n"
          ]
        }
      ],
      "source": [
        "import mysql.connector\n",
        "#establishing the connection\n",
        "conn = mysql.connector.connect(\n",
        "   user='root', password='Venky@1985', host='localhost', database='sql_intro')\n",
        "\n",
        "\n",
        "#Creating a cursor object using the cursor() method\n",
        "cursor = conn.cursor()\n",
        "\n",
        "#Retrieving single row\n",
        "sql = '''SELECT * from MOCK_DATA'''\n",
        "\n",
        "#Executing the query\n",
        "cursor.execute(sql)\n",
        "\n",
        "#Fetching 1st row from the table\n",
        "result = cursor.fetchall();\n",
        "print(result)\n",
        "\n",
        "\"\"\"#Closing the connection\n",
        "conn.close()\"\"\"\n",
        "import pandas as pd\n",
        "data = pd.DataFrame(result, columns = ['s.no', 'Institute', 'Subject', 'Location', 'Trainer_Qualification',\n",
        "       'Online_classes', 'Offline_classes', 'Trainer_experiance',\n",
        "       'Course_level', 'Course_hours', 'Course_rating', 'Rental_permises',\n",
        "       'Trainer_slary', 'Maintaince_cost', 'Non_teaching_staff_salary',\n",
        "       'Placements', 'Certificate', 'Price'])"
      ]
    },
    {
      "cell_type": "code",
      "execution_count": null,
      "id": "9fb7ddec",
      "metadata": {
        "id": "9fb7ddec",
        "outputId": "91a61887-381c-43da-c4dd-5dd1e4eaf393"
      },
      "outputs": [
        {
          "data": {
            "text/html": [
              "<div>\n",
              "<style scoped>\n",
              "    .dataframe tbody tr th:only-of-type {\n",
              "        vertical-align: middle;\n",
              "    }\n",
              "\n",
              "    .dataframe tbody tr th {\n",
              "        vertical-align: top;\n",
              "    }\n",
              "\n",
              "    .dataframe thead th {\n",
              "        text-align: right;\n",
              "    }\n",
              "</style>\n",
              "<table border=\"1\" class=\"dataframe\">\n",
              "  <thead>\n",
              "    <tr style=\"text-align: right;\">\n",
              "      <th></th>\n",
              "      <th>s.no</th>\n",
              "      <th>Institute</th>\n",
              "      <th>Subject</th>\n",
              "      <th>Location</th>\n",
              "      <th>Trainer_Qualification</th>\n",
              "      <th>Online_classes</th>\n",
              "      <th>Offline_classes</th>\n",
              "      <th>Trainer_experiance</th>\n",
              "      <th>Course_level</th>\n",
              "      <th>Course_hours</th>\n",
              "      <th>Course_rating</th>\n",
              "      <th>Rental_permises</th>\n",
              "      <th>Trainer_slary</th>\n",
              "      <th>Maintaince_cost</th>\n",
              "      <th>Non_teaching_staff_salary</th>\n",
              "      <th>Placements</th>\n",
              "      <th>Certificate</th>\n",
              "      <th>Price</th>\n",
              "    </tr>\n",
              "  </thead>\n",
              "  <tbody>\n",
              "    <tr>\n",
              "      <th>0</th>\n",
              "      <td>1</td>\n",
              "      <td>Datatrain</td>\n",
              "      <td>ProjectManagement</td>\n",
              "      <td>Delhi</td>\n",
              "      <td>Doctorate</td>\n",
              "      <td>Yes</td>\n",
              "      <td>Yes</td>\n",
              "      <td>advanced</td>\n",
              "      <td>Yes</td>\n",
              "      <td>Yes</td>\n",
              "      <td>19</td>\n",
              "      <td>192</td>\n",
              "      <td>5</td>\n",
              "      <td>145</td>\n",
              "      <td>722</td>\n",
              "      <td>140</td>\n",
              "      <td>205</td>\n",
              "      <td>1419</td>\n",
              "    </tr>\n",
              "    <tr>\n",
              "      <th>1</th>\n",
              "      <td>2</td>\n",
              "      <td>Datatrain</td>\n",
              "      <td>DataScience</td>\n",
              "      <td>Hyderabad</td>\n",
              "      <td>Graduate</td>\n",
              "      <td>Yes</td>\n",
              "      <td>no</td>\n",
              "      <td>advanced</td>\n",
              "      <td>No</td>\n",
              "      <td>Yes</td>\n",
              "      <td>9</td>\n",
              "      <td>94</td>\n",
              "      <td>2</td>\n",
              "      <td>68</td>\n",
              "      <td>454</td>\n",
              "      <td>70</td>\n",
              "      <td>116</td>\n",
              "      <td>746</td>\n",
              "    </tr>\n",
              "    <tr>\n",
              "      <th>2</th>\n",
              "      <td>3</td>\n",
              "      <td>Guvi</td>\n",
              "      <td>python</td>\n",
              "      <td>Chennai</td>\n",
              "      <td>UnderGraduate</td>\n",
              "      <td>no</td>\n",
              "      <td>no</td>\n",
              "      <td>advanced</td>\n",
              "      <td>Yes</td>\n",
              "      <td>Yes</td>\n",
              "      <td>15</td>\n",
              "      <td>154</td>\n",
              "      <td>4</td>\n",
              "      <td>112</td>\n",
              "      <td>641</td>\n",
              "      <td>118</td>\n",
              "      <td>179</td>\n",
              "      <td>1121</td>\n",
              "    </tr>\n",
              "    <tr>\n",
              "      <th>3</th>\n",
              "      <td>4</td>\n",
              "      <td>innomatics</td>\n",
              "      <td>DigitalTransformation</td>\n",
              "      <td>Ahmedabad</td>\n",
              "      <td>Doctorate</td>\n",
              "      <td>Yes</td>\n",
              "      <td>Yes</td>\n",
              "      <td>intermediate</td>\n",
              "      <td>No</td>\n",
              "      <td>Yes</td>\n",
              "      <td>18</td>\n",
              "      <td>182</td>\n",
              "      <td>5</td>\n",
              "      <td>130</td>\n",
              "      <td>729</td>\n",
              "      <td>132</td>\n",
              "      <td>108</td>\n",
              "      <td>1341</td>\n",
              "    </tr>\n",
              "    <tr>\n",
              "      <th>4</th>\n",
              "      <td>5</td>\n",
              "      <td>Datatrain</td>\n",
              "      <td>DigitalTransformation</td>\n",
              "      <td>Pune</td>\n",
              "      <td>UnderGraduate</td>\n",
              "      <td>Yes</td>\n",
              "      <td>Yes</td>\n",
              "      <td>advanced</td>\n",
              "      <td>No</td>\n",
              "      <td>Yes</td>\n",
              "      <td>6</td>\n",
              "      <td>75</td>\n",
              "      <td>2</td>\n",
              "      <td>43</td>\n",
              "      <td>349</td>\n",
              "      <td>45</td>\n",
              "      <td>88</td>\n",
              "      <td>512</td>\n",
              "    </tr>\n",
              "    <tr>\n",
              "      <th>...</th>\n",
              "      <td>...</td>\n",
              "      <td>...</td>\n",
              "      <td>...</td>\n",
              "      <td>...</td>\n",
              "      <td>...</td>\n",
              "      <td>...</td>\n",
              "      <td>...</td>\n",
              "      <td>...</td>\n",
              "      <td>...</td>\n",
              "      <td>...</td>\n",
              "      <td>...</td>\n",
              "      <td>...</td>\n",
              "      <td>...</td>\n",
              "      <td>...</td>\n",
              "      <td>...</td>\n",
              "      <td>...</td>\n",
              "      <td>...</td>\n",
              "      <td>...</td>\n",
              "    </tr>\n",
              "    <tr>\n",
              "      <th>520</th>\n",
              "      <td>521</td>\n",
              "      <td>Edureka</td>\n",
              "      <td>CloudComputing</td>\n",
              "      <td>Delhi</td>\n",
              "      <td>Graduate</td>\n",
              "      <td>no</td>\n",
              "      <td>Yes</td>\n",
              "      <td>intermediate</td>\n",
              "      <td>Yes</td>\n",
              "      <td>Yes</td>\n",
              "      <td>4</td>\n",
              "      <td>66</td>\n",
              "      <td>1</td>\n",
              "      <td>29</td>\n",
              "      <td>269</td>\n",
              "      <td>30</td>\n",
              "      <td>69</td>\n",
              "      <td>435</td>\n",
              "    </tr>\n",
              "    <tr>\n",
              "      <th>521</th>\n",
              "      <td>522</td>\n",
              "      <td>Edx</td>\n",
              "      <td>FullstackDataScience</td>\n",
              "      <td>Hyderabad</td>\n",
              "      <td>Doctorate</td>\n",
              "      <td>no</td>\n",
              "      <td>no</td>\n",
              "      <td>beginer</td>\n",
              "      <td>Yes</td>\n",
              "      <td>Yes</td>\n",
              "      <td>20</td>\n",
              "      <td>195</td>\n",
              "      <td>5</td>\n",
              "      <td>147</td>\n",
              "      <td>784</td>\n",
              "      <td>146</td>\n",
              "      <td>220</td>\n",
              "      <td>1462</td>\n",
              "    </tr>\n",
              "    <tr>\n",
              "      <th>522</th>\n",
              "      <td>523</td>\n",
              "      <td>ExcelR</td>\n",
              "      <td>DigitalTransformation</td>\n",
              "      <td>Delhi</td>\n",
              "      <td>Graduate</td>\n",
              "      <td>no</td>\n",
              "      <td>Yes</td>\n",
              "      <td>intermediate</td>\n",
              "      <td>Yes</td>\n",
              "      <td>Yes</td>\n",
              "      <td>1</td>\n",
              "      <td>42</td>\n",
              "      <td>1</td>\n",
              "      <td>16</td>\n",
              "      <td>212</td>\n",
              "      <td>16</td>\n",
              "      <td>95</td>\n",
              "      <td>601</td>\n",
              "    </tr>\n",
              "    <tr>\n",
              "      <th>523</th>\n",
              "      <td>524</td>\n",
              "      <td>Datatrain</td>\n",
              "      <td>CloudComputing</td>\n",
              "      <td>Pune</td>\n",
              "      <td>UnderGraduate</td>\n",
              "      <td>no</td>\n",
              "      <td>no</td>\n",
              "      <td>beginer</td>\n",
              "      <td>No</td>\n",
              "      <td>Yes</td>\n",
              "      <td>5</td>\n",
              "      <td>68</td>\n",
              "      <td>1</td>\n",
              "      <td>31</td>\n",
              "      <td>275</td>\n",
              "      <td>32</td>\n",
              "      <td>71</td>\n",
              "      <td>446</td>\n",
              "    </tr>\n",
              "    <tr>\n",
              "      <th>524</th>\n",
              "      <td>525</td>\n",
              "      <td>Guvi</td>\n",
              "      <td>CloudComputing</td>\n",
              "      <td>Delhi</td>\n",
              "      <td>Graduate</td>\n",
              "      <td>Yes</td>\n",
              "      <td>Yes</td>\n",
              "      <td>beginer</td>\n",
              "      <td>Yes</td>\n",
              "      <td>Yes</td>\n",
              "      <td>15</td>\n",
              "      <td>162</td>\n",
              "      <td>4</td>\n",
              "      <td>121</td>\n",
              "      <td>655</td>\n",
              "      <td>120</td>\n",
              "      <td>182</td>\n",
              "      <td>1187</td>\n",
              "    </tr>\n",
              "  </tbody>\n",
              "</table>\n",
              "<p>525 rows × 18 columns</p>\n",
              "</div>"
            ],
            "text/plain": [
              "     s.no   Institute                Subject   Location Trainer_Qualification  \\\n",
              "0       1   Datatrain      ProjectManagement      Delhi             Doctorate   \n",
              "1       2   Datatrain            DataScience  Hyderabad              Graduate   \n",
              "2       3        Guvi                 python    Chennai         UnderGraduate   \n",
              "3       4  innomatics  DigitalTransformation  Ahmedabad             Doctorate   \n",
              "4       5   Datatrain  DigitalTransformation       Pune         UnderGraduate   \n",
              "..    ...         ...                    ...        ...                   ...   \n",
              "520   521     Edureka         CloudComputing      Delhi              Graduate   \n",
              "521   522         Edx   FullstackDataScience  Hyderabad             Doctorate   \n",
              "522   523      ExcelR  DigitalTransformation      Delhi              Graduate   \n",
              "523   524   Datatrain         CloudComputing       Pune         UnderGraduate   \n",
              "524   525        Guvi         CloudComputing      Delhi              Graduate   \n",
              "\n",
              "    Online_classes Offline_classes Trainer_experiance Course_level  \\\n",
              "0              Yes             Yes           advanced          Yes   \n",
              "1              Yes              no           advanced           No   \n",
              "2               no              no           advanced          Yes   \n",
              "3              Yes             Yes       intermediate           No   \n",
              "4              Yes             Yes           advanced           No   \n",
              "..             ...             ...                ...          ...   \n",
              "520             no             Yes       intermediate          Yes   \n",
              "521             no              no            beginer          Yes   \n",
              "522             no             Yes       intermediate          Yes   \n",
              "523             no              no            beginer           No   \n",
              "524            Yes             Yes            beginer          Yes   \n",
              "\n",
              "    Course_hours  Course_rating  Rental_permises  Trainer_slary  \\\n",
              "0            Yes             19              192              5   \n",
              "1            Yes              9               94              2   \n",
              "2            Yes             15              154              4   \n",
              "3            Yes             18              182              5   \n",
              "4            Yes              6               75              2   \n",
              "..           ...            ...              ...            ...   \n",
              "520          Yes              4               66              1   \n",
              "521          Yes             20              195              5   \n",
              "522          Yes              1               42              1   \n",
              "523          Yes              5               68              1   \n",
              "524          Yes             15              162              4   \n",
              "\n",
              "     Maintaince_cost  Non_teaching_staff_salary  Placements  Certificate  \\\n",
              "0                145                        722         140          205   \n",
              "1                 68                        454          70          116   \n",
              "2                112                        641         118          179   \n",
              "3                130                        729         132          108   \n",
              "4                 43                        349          45           88   \n",
              "..               ...                        ...         ...          ...   \n",
              "520               29                        269          30           69   \n",
              "521              147                        784         146          220   \n",
              "522               16                        212          16           95   \n",
              "523               31                        275          32           71   \n",
              "524              121                        655         120          182   \n",
              "\n",
              "     Price  \n",
              "0     1419  \n",
              "1      746  \n",
              "2     1121  \n",
              "3     1341  \n",
              "4      512  \n",
              "..     ...  \n",
              "520    435  \n",
              "521   1462  \n",
              "522    601  \n",
              "523    446  \n",
              "524   1187  \n",
              "\n",
              "[525 rows x 18 columns]"
            ]
          },
          "execution_count": 22,
          "metadata": {},
          "output_type": "execute_result"
        }
      ],
      "source": [
        "data "
      ]
    },
    {
      "cell_type": "markdown",
      "id": "51f4ee55",
      "metadata": {
        "id": "51f4ee55"
      },
      "source": [
        "## OR Load data from local computer"
      ]
    },
    {
      "cell_type": "code",
      "source": [
        "from google.colab import files\n",
        "uploaded = files.upload()"
      ],
      "metadata": {
        "colab": {
          "resources": {
            "http://localhost:8080/nbextensions/google.colab/files.js": {
              "data": "Ly8gQ29weXJpZ2h0IDIwMTcgR29vZ2xlIExMQwovLwovLyBMaWNlbnNlZCB1bmRlciB0aGUgQXBhY2hlIExpY2Vuc2UsIFZlcnNpb24gMi4wICh0aGUgIkxpY2Vuc2UiKTsKLy8geW91IG1heSBub3QgdXNlIHRoaXMgZmlsZSBleGNlcHQgaW4gY29tcGxpYW5jZSB3aXRoIHRoZSBMaWNlbnNlLgovLyBZb3UgbWF5IG9idGFpbiBhIGNvcHkgb2YgdGhlIExpY2Vuc2UgYXQKLy8KLy8gICAgICBodHRwOi8vd3d3LmFwYWNoZS5vcmcvbGljZW5zZXMvTElDRU5TRS0yLjAKLy8KLy8gVW5sZXNzIHJlcXVpcmVkIGJ5IGFwcGxpY2FibGUgbGF3IG9yIGFncmVlZCB0byBpbiB3cml0aW5nLCBzb2Z0d2FyZQovLyBkaXN0cmlidXRlZCB1bmRlciB0aGUgTGljZW5zZSBpcyBkaXN0cmlidXRlZCBvbiBhbiAiQVMgSVMiIEJBU0lTLAovLyBXSVRIT1VUIFdBUlJBTlRJRVMgT1IgQ09ORElUSU9OUyBPRiBBTlkgS0lORCwgZWl0aGVyIGV4cHJlc3Mgb3IgaW1wbGllZC4KLy8gU2VlIHRoZSBMaWNlbnNlIGZvciB0aGUgc3BlY2lmaWMgbGFuZ3VhZ2UgZ292ZXJuaW5nIHBlcm1pc3Npb25zIGFuZAovLyBsaW1pdGF0aW9ucyB1bmRlciB0aGUgTGljZW5zZS4KCi8qKgogKiBAZmlsZW92ZXJ2aWV3IEhlbHBlcnMgZm9yIGdvb2dsZS5jb2xhYiBQeXRob24gbW9kdWxlLgogKi8KKGZ1bmN0aW9uKHNjb3BlKSB7CmZ1bmN0aW9uIHNwYW4odGV4dCwgc3R5bGVBdHRyaWJ1dGVzID0ge30pIHsKICBjb25zdCBlbGVtZW50ID0gZG9jdW1lbnQuY3JlYXRlRWxlbWVudCgnc3BhbicpOwogIGVsZW1lbnQudGV4dENvbnRlbnQgPSB0ZXh0OwogIGZvciAoY29uc3Qga2V5IG9mIE9iamVjdC5rZXlzKHN0eWxlQXR0cmlidXRlcykpIHsKICAgIGVsZW1lbnQuc3R5bGVba2V5XSA9IHN0eWxlQXR0cmlidXRlc1trZXldOwogIH0KICByZXR1cm4gZWxlbWVudDsKfQoKLy8gTWF4IG51bWJlciBvZiBieXRlcyB3aGljaCB3aWxsIGJlIHVwbG9hZGVkIGF0IGEgdGltZS4KY29uc3QgTUFYX1BBWUxPQURfU0laRSA9IDEwMCAqIDEwMjQ7CgpmdW5jdGlvbiBfdXBsb2FkRmlsZXMoaW5wdXRJZCwgb3V0cHV0SWQpIHsKICBjb25zdCBzdGVwcyA9IHVwbG9hZEZpbGVzU3RlcChpbnB1dElkLCBvdXRwdXRJZCk7CiAgY29uc3Qgb3V0cHV0RWxlbWVudCA9IGRvY3VtZW50LmdldEVsZW1lbnRCeUlkKG91dHB1dElkKTsKICAvLyBDYWNoZSBzdGVwcyBvbiB0aGUgb3V0cHV0RWxlbWVudCB0byBtYWtlIGl0IGF2YWlsYWJsZSBmb3IgdGhlIG5leHQgY2FsbAogIC8vIHRvIHVwbG9hZEZpbGVzQ29udGludWUgZnJvbSBQeXRob24uCiAgb3V0cHV0RWxlbWVudC5zdGVwcyA9IHN0ZXBzOwoKICByZXR1cm4gX3VwbG9hZEZpbGVzQ29udGludWUob3V0cHV0SWQpOwp9CgovLyBUaGlzIGlzIHJvdWdobHkgYW4gYXN5bmMgZ2VuZXJhdG9yIChub3Qgc3VwcG9ydGVkIGluIHRoZSBicm93c2VyIHlldCksCi8vIHdoZXJlIHRoZXJlIGFyZSBtdWx0aXBsZSBhc3luY2hyb25vdXMgc3RlcHMgYW5kIHRoZSBQeXRob24gc2lkZSBpcyBnb2luZwovLyB0byBwb2xsIGZvciBjb21wbGV0aW9uIG9mIGVhY2ggc3RlcC4KLy8gVGhpcyB1c2VzIGEgUHJvbWlzZSB0byBibG9jayB0aGUgcHl0aG9uIHNpZGUgb24gY29tcGxldGlvbiBvZiBlYWNoIHN0ZXAsCi8vIHRoZW4gcGFzc2VzIHRoZSByZXN1bHQgb2YgdGhlIHByZXZpb3VzIHN0ZXAgYXMgdGhlIGlucHV0IHRvIHRoZSBuZXh0IHN0ZXAuCmZ1bmN0aW9uIF91cGxvYWRGaWxlc0NvbnRpbnVlKG91dHB1dElkKSB7CiAgY29uc3Qgb3V0cHV0RWxlbWVudCA9IGRvY3VtZW50LmdldEVsZW1lbnRCeUlkKG91dHB1dElkKTsKICBjb25zdCBzdGVwcyA9IG91dHB1dEVsZW1lbnQuc3RlcHM7CgogIGNvbnN0IG5leHQgPSBzdGVwcy5uZXh0KG91dHB1dEVsZW1lbnQubGFzdFByb21pc2VWYWx1ZSk7CiAgcmV0dXJuIFByb21pc2UucmVzb2x2ZShuZXh0LnZhbHVlLnByb21pc2UpLnRoZW4oKHZhbHVlKSA9PiB7CiAgICAvLyBDYWNoZSB0aGUgbGFzdCBwcm9taXNlIHZhbHVlIHRvIG1ha2UgaXQgYXZhaWxhYmxlIHRvIHRoZSBuZXh0CiAgICAvLyBzdGVwIG9mIHRoZSBnZW5lcmF0b3IuCiAgICBvdXRwdXRFbGVtZW50Lmxhc3RQcm9taXNlVmFsdWUgPSB2YWx1ZTsKICAgIHJldHVybiBuZXh0LnZhbHVlLnJlc3BvbnNlOwogIH0pOwp9CgovKioKICogR2VuZXJhdG9yIGZ1bmN0aW9uIHdoaWNoIGlzIGNhbGxlZCBiZXR3ZWVuIGVhY2ggYXN5bmMgc3RlcCBvZiB0aGUgdXBsb2FkCiAqIHByb2Nlc3MuCiAqIEBwYXJhbSB7c3RyaW5nfSBpbnB1dElkIEVsZW1lbnQgSUQgb2YgdGhlIGlucHV0IGZpbGUgcGlja2VyIGVsZW1lbnQuCiAqIEBwYXJhbSB7c3RyaW5nfSBvdXRwdXRJZCBFbGVtZW50IElEIG9mIHRoZSBvdXRwdXQgZGlzcGxheS4KICogQHJldHVybiB7IUl0ZXJhYmxlPCFPYmplY3Q+fSBJdGVyYWJsZSBvZiBuZXh0IHN0ZXBzLgogKi8KZnVuY3Rpb24qIHVwbG9hZEZpbGVzU3RlcChpbnB1dElkLCBvdXRwdXRJZCkgewogIGNvbnN0IGlucHV0RWxlbWVudCA9IGRvY3VtZW50LmdldEVsZW1lbnRCeUlkKGlucHV0SWQpOwogIGlucHV0RWxlbWVudC5kaXNhYmxlZCA9IGZhbHNlOwoKICBjb25zdCBvdXRwdXRFbGVtZW50ID0gZG9jdW1lbnQuZ2V0RWxlbWVudEJ5SWQob3V0cHV0SWQpOwogIG91dHB1dEVsZW1lbnQuaW5uZXJIVE1MID0gJyc7CgogIGNvbnN0IHBpY2tlZFByb21pc2UgPSBuZXcgUHJvbWlzZSgocmVzb2x2ZSkgPT4gewogICAgaW5wdXRFbGVtZW50LmFkZEV2ZW50TGlzdGVuZXIoJ2NoYW5nZScsIChlKSA9PiB7CiAgICAgIHJlc29sdmUoZS50YXJnZXQuZmlsZXMpOwogICAgfSk7CiAgfSk7CgogIGNvbnN0IGNhbmNlbCA9IGRvY3VtZW50LmNyZWF0ZUVsZW1lbnQoJ2J1dHRvbicpOwogIGlucHV0RWxlbWVudC5wYXJlbnRFbGVtZW50LmFwcGVuZENoaWxkKGNhbmNlbCk7CiAgY2FuY2VsLnRleHRDb250ZW50ID0gJ0NhbmNlbCB1cGxvYWQnOwogIGNvbnN0IGNhbmNlbFByb21pc2UgPSBuZXcgUHJvbWlzZSgocmVzb2x2ZSkgPT4gewogICAgY2FuY2VsLm9uY2xpY2sgPSAoKSA9PiB7CiAgICAgIHJlc29sdmUobnVsbCk7CiAgICB9OwogIH0pOwoKICAvLyBXYWl0IGZvciB0aGUgdXNlciB0byBwaWNrIHRoZSBmaWxlcy4KICBjb25zdCBmaWxlcyA9IHlpZWxkIHsKICAgIHByb21pc2U6IFByb21pc2UucmFjZShbcGlja2VkUHJvbWlzZSwgY2FuY2VsUHJvbWlzZV0pLAogICAgcmVzcG9uc2U6IHsKICAgICAgYWN0aW9uOiAnc3RhcnRpbmcnLAogICAgfQogIH07CgogIGNhbmNlbC5yZW1vdmUoKTsKCiAgLy8gRGlzYWJsZSB0aGUgaW5wdXQgZWxlbWVudCBzaW5jZSBmdXJ0aGVyIHBpY2tzIGFyZSBub3QgYWxsb3dlZC4KICBpbnB1dEVsZW1lbnQuZGlzYWJsZWQgPSB0cnVlOwoKICBpZiAoIWZpbGVzKSB7CiAgICByZXR1cm4gewogICAgICByZXNwb25zZTogewogICAgICAgIGFjdGlvbjogJ2NvbXBsZXRlJywKICAgICAgfQogICAgfTsKICB9CgogIGZvciAoY29uc3QgZmlsZSBvZiBmaWxlcykgewogICAgY29uc3QgbGkgPSBkb2N1bWVudC5jcmVhdGVFbGVtZW50KCdsaScpOwogICAgbGkuYXBwZW5kKHNwYW4oZmlsZS5uYW1lLCB7Zm9udFdlaWdodDogJ2JvbGQnfSkpOwogICAgbGkuYXBwZW5kKHNwYW4oCiAgICAgICAgYCgke2ZpbGUudHlwZSB8fCAnbi9hJ30pIC0gJHtmaWxlLnNpemV9IGJ5dGVzLCBgICsKICAgICAgICBgbGFzdCBtb2RpZmllZDogJHsKICAgICAgICAgICAgZmlsZS5sYXN0TW9kaWZpZWREYXRlID8gZmlsZS5sYXN0TW9kaWZpZWREYXRlLnRvTG9jYWxlRGF0ZVN0cmluZygpIDoKICAgICAgICAgICAgICAgICAgICAgICAgICAgICAgICAgICAgJ24vYSd9IC0gYCkpOwogICAgY29uc3QgcGVyY2VudCA9IHNwYW4oJzAlIGRvbmUnKTsKICAgIGxpLmFwcGVuZENoaWxkKHBlcmNlbnQpOwoKICAgIG91dHB1dEVsZW1lbnQuYXBwZW5kQ2hpbGQobGkpOwoKICAgIGNvbnN0IGZpbGVEYXRhUHJvbWlzZSA9IG5ldyBQcm9taXNlKChyZXNvbHZlKSA9PiB7CiAgICAgIGNvbnN0IHJlYWRlciA9IG5ldyBGaWxlUmVhZGVyKCk7CiAgICAgIHJlYWRlci5vbmxvYWQgPSAoZSkgPT4gewogICAgICAgIHJlc29sdmUoZS50YXJnZXQucmVzdWx0KTsKICAgICAgfTsKICAgICAgcmVhZGVyLnJlYWRBc0FycmF5QnVmZmVyKGZpbGUpOwogICAgfSk7CiAgICAvLyBXYWl0IGZvciB0aGUgZGF0YSB0byBiZSByZWFkeS4KICAgIGxldCBmaWxlRGF0YSA9IHlpZWxkIHsKICAgICAgcHJvbWlzZTogZmlsZURhdGFQcm9taXNlLAogICAgICByZXNwb25zZTogewogICAgICAgIGFjdGlvbjogJ2NvbnRpbnVlJywKICAgICAgfQogICAgfTsKCiAgICAvLyBVc2UgYSBjaHVua2VkIHNlbmRpbmcgdG8gYXZvaWQgbWVzc2FnZSBzaXplIGxpbWl0cy4gU2VlIGIvNjIxMTU2NjAuCiAgICBsZXQgcG9zaXRpb24gPSAwOwogICAgZG8gewogICAgICBjb25zdCBsZW5ndGggPSBNYXRoLm1pbihmaWxlRGF0YS5ieXRlTGVuZ3RoIC0gcG9zaXRpb24sIE1BWF9QQVlMT0FEX1NJWkUpOwogICAgICBjb25zdCBjaHVuayA9IG5ldyBVaW50OEFycmF5KGZpbGVEYXRhLCBwb3NpdGlvbiwgbGVuZ3RoKTsKICAgICAgcG9zaXRpb24gKz0gbGVuZ3RoOwoKICAgICAgY29uc3QgYmFzZTY0ID0gYnRvYShTdHJpbmcuZnJvbUNoYXJDb2RlLmFwcGx5KG51bGwsIGNodW5rKSk7CiAgICAgIHlpZWxkIHsKICAgICAgICByZXNwb25zZTogewogICAgICAgICAgYWN0aW9uOiAnYXBwZW5kJywKICAgICAgICAgIGZpbGU6IGZpbGUubmFtZSwKICAgICAgICAgIGRhdGE6IGJhc2U2NCwKICAgICAgICB9LAogICAgICB9OwoKICAgICAgbGV0IHBlcmNlbnREb25lID0gZmlsZURhdGEuYnl0ZUxlbmd0aCA9PT0gMCA/CiAgICAgICAgICAxMDAgOgogICAgICAgICAgTWF0aC5yb3VuZCgocG9zaXRpb24gLyBmaWxlRGF0YS5ieXRlTGVuZ3RoKSAqIDEwMCk7CiAgICAgIHBlcmNlbnQudGV4dENvbnRlbnQgPSBgJHtwZXJjZW50RG9uZX0lIGRvbmVgOwoKICAgIH0gd2hpbGUgKHBvc2l0aW9uIDwgZmlsZURhdGEuYnl0ZUxlbmd0aCk7CiAgfQoKICAvLyBBbGwgZG9uZS4KICB5aWVsZCB7CiAgICByZXNwb25zZTogewogICAgICBhY3Rpb246ICdjb21wbGV0ZScsCiAgICB9CiAgfTsKfQoKc2NvcGUuZ29vZ2xlID0gc2NvcGUuZ29vZ2xlIHx8IHt9OwpzY29wZS5nb29nbGUuY29sYWIgPSBzY29wZS5nb29nbGUuY29sYWIgfHwge307CnNjb3BlLmdvb2dsZS5jb2xhYi5fZmlsZXMgPSB7CiAgX3VwbG9hZEZpbGVzLAogIF91cGxvYWRGaWxlc0NvbnRpbnVlLAp9Owp9KShzZWxmKTsK",
              "ok": true,
              "headers": [
                [
                  "content-type",
                  "application/javascript"
                ]
              ],
              "status": 200,
              "status_text": ""
            }
          },
          "base_uri": "https://localhost:8080/",
          "height": 74
        },
        "id": "NXoqhahOcLHX",
        "outputId": "92f66f98-bd3e-4102-cf51-8cdc4be06ab1"
      },
      "id": "NXoqhahOcLHX",
      "execution_count": null,
      "outputs": [
        {
          "output_type": "display_data",
          "data": {
            "text/plain": [
              "<IPython.core.display.HTML object>"
            ],
            "text/html": [
              "\n",
              "     <input type=\"file\" id=\"files-a5b51dd0-5986-41bf-93ed-4b74bae1666f\" name=\"files[]\" multiple disabled\n",
              "        style=\"border:none\" />\n",
              "     <output id=\"result-a5b51dd0-5986-41bf-93ed-4b74bae1666f\">\n",
              "      Upload widget is only available when the cell has been executed in the\n",
              "      current browser session. Please rerun this cell to enable.\n",
              "      </output>\n",
              "      <script src=\"/nbextensions/google.colab/files.js\"></script> "
            ]
          },
          "metadata": {}
        },
        {
          "output_type": "stream",
          "name": "stdout",
          "text": [
            "Saving MOCK_DATA.csv to MOCK_DATA.csv\n"
          ]
        }
      ]
    },
    {
      "cell_type": "code",
      "execution_count": null,
      "id": "eaa88f53",
      "metadata": {
        "id": "eaa88f53"
      },
      "outputs": [],
      "source": [
        "import pandas as pd\n",
        "data = pd.read_csv(\"MOCK_DATA.csv\")"
      ]
    },
    {
      "cell_type": "code",
      "execution_count": null,
      "id": "db95a549",
      "metadata": {
        "id": "db95a549",
        "outputId": "6f8ac4ca-583b-446c-a2f4-a43518a68f56"
      },
      "outputs": [
        {
          "data": {
            "text/html": [
              "<div>\n",
              "<style scoped>\n",
              "    .dataframe tbody tr th:only-of-type {\n",
              "        vertical-align: middle;\n",
              "    }\n",
              "\n",
              "    .dataframe tbody tr th {\n",
              "        vertical-align: top;\n",
              "    }\n",
              "\n",
              "    .dataframe thead th {\n",
              "        text-align: right;\n",
              "    }\n",
              "</style>\n",
              "<table border=\"1\" class=\"dataframe\">\n",
              "  <thead>\n",
              "    <tr style=\"text-align: right;\">\n",
              "      <th></th>\n",
              "      <th>s.no</th>\n",
              "      <th>Institute</th>\n",
              "      <th>Subject</th>\n",
              "      <th>Location</th>\n",
              "      <th>Trainer_Qualification</th>\n",
              "      <th>Online_classes</th>\n",
              "      <th>Offline_classes</th>\n",
              "      <th>Course_level</th>\n",
              "      <th>Placements</th>\n",
              "      <th>Certificate</th>\n",
              "      <th>Trainer_experiance</th>\n",
              "      <th>Course_hours</th>\n",
              "      <th>Course_rating</th>\n",
              "      <th>Rental_permises</th>\n",
              "      <th>Trainer_slary</th>\n",
              "      <th>Maintaince_cost</th>\n",
              "      <th>Non_teaching_staff_salary</th>\n",
              "      <th>Price</th>\n",
              "    </tr>\n",
              "  </thead>\n",
              "  <tbody>\n",
              "    <tr>\n",
              "      <th>0</th>\n",
              "      <td>1</td>\n",
              "      <td>Datatrain</td>\n",
              "      <td>ProjectManagement</td>\n",
              "      <td>Delhi</td>\n",
              "      <td>Doctorate</td>\n",
              "      <td>Yes</td>\n",
              "      <td>Yes</td>\n",
              "      <td>advanced</td>\n",
              "      <td>Yes</td>\n",
              "      <td>Yes</td>\n",
              "      <td>19</td>\n",
              "      <td>192</td>\n",
              "      <td>5</td>\n",
              "      <td>145</td>\n",
              "      <td>722</td>\n",
              "      <td>140</td>\n",
              "      <td>205</td>\n",
              "      <td>1419</td>\n",
              "    </tr>\n",
              "    <tr>\n",
              "      <th>1</th>\n",
              "      <td>2</td>\n",
              "      <td>Datatrain</td>\n",
              "      <td>DataScience</td>\n",
              "      <td>Hyderabad</td>\n",
              "      <td>Graduate</td>\n",
              "      <td>Yes</td>\n",
              "      <td>no</td>\n",
              "      <td>advanced</td>\n",
              "      <td>No</td>\n",
              "      <td>Yes</td>\n",
              "      <td>9</td>\n",
              "      <td>94</td>\n",
              "      <td>2</td>\n",
              "      <td>68</td>\n",
              "      <td>454</td>\n",
              "      <td>70</td>\n",
              "      <td>116</td>\n",
              "      <td>746</td>\n",
              "    </tr>\n",
              "    <tr>\n",
              "      <th>2</th>\n",
              "      <td>3</td>\n",
              "      <td>Guvi</td>\n",
              "      <td>python</td>\n",
              "      <td>Chennai</td>\n",
              "      <td>UnderGraduate</td>\n",
              "      <td>no</td>\n",
              "      <td>no</td>\n",
              "      <td>advanced</td>\n",
              "      <td>Yes</td>\n",
              "      <td>Yes</td>\n",
              "      <td>15</td>\n",
              "      <td>154</td>\n",
              "      <td>4</td>\n",
              "      <td>112</td>\n",
              "      <td>641</td>\n",
              "      <td>118</td>\n",
              "      <td>179</td>\n",
              "      <td>1121</td>\n",
              "    </tr>\n",
              "    <tr>\n",
              "      <th>3</th>\n",
              "      <td>4</td>\n",
              "      <td>innomatics</td>\n",
              "      <td>DigitalTransformation</td>\n",
              "      <td>Ahmedabad</td>\n",
              "      <td>Doctorate</td>\n",
              "      <td>Yes</td>\n",
              "      <td>Yes</td>\n",
              "      <td>intermediate</td>\n",
              "      <td>No</td>\n",
              "      <td>Yes</td>\n",
              "      <td>18</td>\n",
              "      <td>182</td>\n",
              "      <td>5</td>\n",
              "      <td>130</td>\n",
              "      <td>729</td>\n",
              "      <td>132</td>\n",
              "      <td>108</td>\n",
              "      <td>1341</td>\n",
              "    </tr>\n",
              "    <tr>\n",
              "      <th>4</th>\n",
              "      <td>5</td>\n",
              "      <td>Datatrain</td>\n",
              "      <td>DigitalTransformation</td>\n",
              "      <td>Pune</td>\n",
              "      <td>UnderGraduate</td>\n",
              "      <td>Yes</td>\n",
              "      <td>Yes</td>\n",
              "      <td>advanced</td>\n",
              "      <td>No</td>\n",
              "      <td>Yes</td>\n",
              "      <td>6</td>\n",
              "      <td>75</td>\n",
              "      <td>2</td>\n",
              "      <td>43</td>\n",
              "      <td>349</td>\n",
              "      <td>45</td>\n",
              "      <td>88</td>\n",
              "      <td>512</td>\n",
              "    </tr>\n",
              "    <tr>\n",
              "      <th>5</th>\n",
              "      <td>6</td>\n",
              "      <td>Datatrain</td>\n",
              "      <td>python</td>\n",
              "      <td>Ahmedabad</td>\n",
              "      <td>UnderGraduate</td>\n",
              "      <td>no</td>\n",
              "      <td>Yes</td>\n",
              "      <td>beginer</td>\n",
              "      <td>Yes</td>\n",
              "      <td>Yes</td>\n",
              "      <td>11</td>\n",
              "      <td>115</td>\n",
              "      <td>3</td>\n",
              "      <td>84</td>\n",
              "      <td>510</td>\n",
              "      <td>80</td>\n",
              "      <td>135</td>\n",
              "      <td>879</td>\n",
              "    </tr>\n",
              "    <tr>\n",
              "      <th>6</th>\n",
              "      <td>7</td>\n",
              "      <td>360DigiTMG</td>\n",
              "      <td>BigData</td>\n",
              "      <td>Pune</td>\n",
              "      <td>UnderGraduate</td>\n",
              "      <td>no</td>\n",
              "      <td>no</td>\n",
              "      <td>beginer</td>\n",
              "      <td>Yes</td>\n",
              "      <td>Yes</td>\n",
              "      <td>6</td>\n",
              "      <td>63</td>\n",
              "      <td>2</td>\n",
              "      <td>37</td>\n",
              "      <td>297</td>\n",
              "      <td>40</td>\n",
              "      <td>76</td>\n",
              "      <td>429</td>\n",
              "    </tr>\n",
              "    <tr>\n",
              "      <th>7</th>\n",
              "      <td>8</td>\n",
              "      <td>Edureka</td>\n",
              "      <td>ArtificialIntelligence</td>\n",
              "      <td>Kanpour</td>\n",
              "      <td>Doctorate</td>\n",
              "      <td>no</td>\n",
              "      <td>Yes</td>\n",
              "      <td>advanced</td>\n",
              "      <td>Yes</td>\n",
              "      <td>Yes</td>\n",
              "      <td>6</td>\n",
              "      <td>70</td>\n",
              "      <td>2</td>\n",
              "      <td>42</td>\n",
              "      <td>315</td>\n",
              "      <td>46</td>\n",
              "      <td>80</td>\n",
              "      <td>481</td>\n",
              "    </tr>\n",
              "    <tr>\n",
              "      <th>8</th>\n",
              "      <td>9</td>\n",
              "      <td>Udemy</td>\n",
              "      <td>BigData</td>\n",
              "      <td>Bengaluru</td>\n",
              "      <td>Doctorate</td>\n",
              "      <td>no</td>\n",
              "      <td>no</td>\n",
              "      <td>beginer</td>\n",
              "      <td>Yes</td>\n",
              "      <td>Yes</td>\n",
              "      <td>6</td>\n",
              "      <td>78</td>\n",
              "      <td>2</td>\n",
              "      <td>51</td>\n",
              "      <td>356</td>\n",
              "      <td>51</td>\n",
              "      <td>95</td>\n",
              "      <td>618</td>\n",
              "    </tr>\n",
              "    <tr>\n",
              "      <th>9</th>\n",
              "      <td>10</td>\n",
              "      <td>Coursera</td>\n",
              "      <td>Dataanalysis</td>\n",
              "      <td>Kanpour</td>\n",
              "      <td>Graduate</td>\n",
              "      <td>Yes</td>\n",
              "      <td>Yes</td>\n",
              "      <td>advanced</td>\n",
              "      <td>Yes</td>\n",
              "      <td>Yes</td>\n",
              "      <td>6</td>\n",
              "      <td>67</td>\n",
              "      <td>2</td>\n",
              "      <td>39</td>\n",
              "      <td>310</td>\n",
              "      <td>43</td>\n",
              "      <td>78</td>\n",
              "      <td>463</td>\n",
              "    </tr>\n",
              "  </tbody>\n",
              "</table>\n",
              "</div>"
            ],
            "text/plain": [
              "   s.no   Institute                 Subject   Location Trainer_Qualification  \\\n",
              "0     1   Datatrain       ProjectManagement      Delhi             Doctorate   \n",
              "1     2   Datatrain             DataScience  Hyderabad              Graduate   \n",
              "2     3        Guvi                  python    Chennai         UnderGraduate   \n",
              "3     4  innomatics   DigitalTransformation  Ahmedabad             Doctorate   \n",
              "4     5   Datatrain   DigitalTransformation       Pune         UnderGraduate   \n",
              "5     6   Datatrain                  python  Ahmedabad         UnderGraduate   \n",
              "6     7  360DigiTMG                 BigData       Pune         UnderGraduate   \n",
              "7     8     Edureka  ArtificialIntelligence    Kanpour             Doctorate   \n",
              "8     9       Udemy                 BigData  Bengaluru             Doctorate   \n",
              "9    10    Coursera            Dataanalysis    Kanpour              Graduate   \n",
              "\n",
              "  Online_classes Offline_classes  Course_level Placements Certificate  \\\n",
              "0            Yes             Yes      advanced        Yes         Yes   \n",
              "1            Yes              no      advanced         No         Yes   \n",
              "2             no              no      advanced        Yes         Yes   \n",
              "3            Yes             Yes  intermediate         No         Yes   \n",
              "4            Yes             Yes      advanced         No         Yes   \n",
              "5             no             Yes       beginer        Yes         Yes   \n",
              "6             no              no       beginer        Yes         Yes   \n",
              "7             no             Yes      advanced        Yes         Yes   \n",
              "8             no              no       beginer        Yes         Yes   \n",
              "9            Yes             Yes      advanced        Yes         Yes   \n",
              "\n",
              "   Trainer_experiance  Course_hours  Course_rating  Rental_permises  \\\n",
              "0                  19           192              5              145   \n",
              "1                   9            94              2               68   \n",
              "2                  15           154              4              112   \n",
              "3                  18           182              5              130   \n",
              "4                   6            75              2               43   \n",
              "5                  11           115              3               84   \n",
              "6                   6            63              2               37   \n",
              "7                   6            70              2               42   \n",
              "8                   6            78              2               51   \n",
              "9                   6            67              2               39   \n",
              "\n",
              "   Trainer_slary  Maintaince_cost  Non_teaching_staff_salary  Price  \n",
              "0            722              140                        205   1419  \n",
              "1            454               70                        116    746  \n",
              "2            641              118                        179   1121  \n",
              "3            729              132                        108   1341  \n",
              "4            349               45                         88    512  \n",
              "5            510               80                        135    879  \n",
              "6            297               40                         76    429  \n",
              "7            315               46                         80    481  \n",
              "8            356               51                         95    618  \n",
              "9            310               43                         78    463  "
            ]
          },
          "execution_count": 26,
          "metadata": {},
          "output_type": "execute_result"
        }
      ],
      "source": [
        "data.head(10)\n",
        "# Showing top 10 rows and all the columns in the dataset."
      ]
    },
    {
      "cell_type": "code",
      "execution_count": null,
      "id": "93dd6852",
      "metadata": {
        "colab": {
          "base_uri": "https://localhost:8080/"
        },
        "id": "93dd6852",
        "outputId": "138965de-e7e3-4d5c-fb28-70a2278b08c9"
      },
      "outputs": [
        {
          "output_type": "stream",
          "name": "stdout",
          "text": [
            "<class 'pandas.core.frame.DataFrame'>\n",
            "RangeIndex: 525 entries, 0 to 524\n",
            "Data columns (total 18 columns):\n",
            " #   Column                     Non-Null Count  Dtype \n",
            "---  ------                     --------------  ----- \n",
            " 0   s.no                       525 non-null    int64 \n",
            " 1   Institute                  525 non-null    object\n",
            " 2   Subject                    525 non-null    object\n",
            " 3   Location                   525 non-null    object\n",
            " 4   Trainer_Qualification      525 non-null    object\n",
            " 5   Online_classes             525 non-null    object\n",
            " 6   Offline_classes            525 non-null    object\n",
            " 7   Course_level               525 non-null    object\n",
            " 8   Placements                 525 non-null    object\n",
            " 9   Certificate                525 non-null    object\n",
            " 10  Trainer_experiance         525 non-null    int64 \n",
            " 11  Course_hours               525 non-null    int64 \n",
            " 12  Course_rating              525 non-null    int64 \n",
            " 13  Rental_permises            525 non-null    int64 \n",
            " 14  Trainer_slary              525 non-null    int64 \n",
            " 15  Maintaince_cost            525 non-null    int64 \n",
            " 16  Non_teaching_staff_salary  525 non-null    int64 \n",
            " 17  Price                      525 non-null    int64 \n",
            "dtypes: int64(9), object(9)\n",
            "memory usage: 74.0+ KB\n"
          ]
        }
      ],
      "source": [
        "data.info()\n",
        "# Information about the null, data type and memory of the data."
      ]
    },
    {
      "cell_type": "code",
      "execution_count": null,
      "id": "230e0f47",
      "metadata": {
        "colab": {
          "base_uri": "https://localhost:8080/",
          "height": 300
        },
        "id": "230e0f47",
        "outputId": "d3f41c49-f3bd-4e1a-89f1-618fbefd9222"
      },
      "outputs": [
        {
          "output_type": "execute_result",
          "data": {
            "text/plain": [
              "             s.no  Trainer_experiance  Course_hours  Course_rating  \\\n",
              "count  525.000000          525.000000    525.000000     525.000000   \n",
              "mean   263.000000           10.790476    119.563810       2.920000   \n",
              "std    151.698715            5.515930     47.492609       1.217431   \n",
              "min      1.000000            1.000000     40.000000       1.000000   \n",
              "25%    132.000000            6.000000     78.000000       2.000000   \n",
              "50%    263.000000           11.000000    118.000000       3.000000   \n",
              "75%    394.000000           15.000000    165.000000       4.000000   \n",
              "max    525.000000           20.000000    200.000000       5.000000   \n",
              "\n",
              "       Rental_permises  Trainer_slary  Maintaince_cost  \\\n",
              "count       525.000000     525.000000       525.000000   \n",
              "mean         82.632381     506.112381        84.020952   \n",
              "std          39.147891     174.455130        38.975838   \n",
              "min          15.000000     200.000000        15.000000   \n",
              "25%          49.000000     354.000000        51.000000   \n",
              "50%          84.000000     515.000000        85.000000   \n",
              "75%         118.000000     653.000000       119.000000   \n",
              "max         150.000000     800.000000       150.000000   \n",
              "\n",
              "       Non_teaching_staff_salary        Price  \n",
              "count                 525.000000   525.000000  \n",
              "mean                  136.615238   895.992381  \n",
              "std                    50.668250   343.817128  \n",
              "min                    50.000000   302.000000  \n",
              "25%                    94.000000   602.000000  \n",
              "50%                   137.000000   889.000000  \n",
              "75%                   181.000000  1192.000000  \n",
              "max                   225.000000  1499.000000  "
            ],
            "text/html": [
              "\n",
              "  <div id=\"df-8178c9b9-412d-420c-88b3-a84af6dc8d71\">\n",
              "    <div class=\"colab-df-container\">\n",
              "      <div>\n",
              "<style scoped>\n",
              "    .dataframe tbody tr th:only-of-type {\n",
              "        vertical-align: middle;\n",
              "    }\n",
              "\n",
              "    .dataframe tbody tr th {\n",
              "        vertical-align: top;\n",
              "    }\n",
              "\n",
              "    .dataframe thead th {\n",
              "        text-align: right;\n",
              "    }\n",
              "</style>\n",
              "<table border=\"1\" class=\"dataframe\">\n",
              "  <thead>\n",
              "    <tr style=\"text-align: right;\">\n",
              "      <th></th>\n",
              "      <th>s.no</th>\n",
              "      <th>Trainer_experiance</th>\n",
              "      <th>Course_hours</th>\n",
              "      <th>Course_rating</th>\n",
              "      <th>Rental_permises</th>\n",
              "      <th>Trainer_slary</th>\n",
              "      <th>Maintaince_cost</th>\n",
              "      <th>Non_teaching_staff_salary</th>\n",
              "      <th>Price</th>\n",
              "    </tr>\n",
              "  </thead>\n",
              "  <tbody>\n",
              "    <tr>\n",
              "      <th>count</th>\n",
              "      <td>525.000000</td>\n",
              "      <td>525.000000</td>\n",
              "      <td>525.000000</td>\n",
              "      <td>525.000000</td>\n",
              "      <td>525.000000</td>\n",
              "      <td>525.000000</td>\n",
              "      <td>525.000000</td>\n",
              "      <td>525.000000</td>\n",
              "      <td>525.000000</td>\n",
              "    </tr>\n",
              "    <tr>\n",
              "      <th>mean</th>\n",
              "      <td>263.000000</td>\n",
              "      <td>10.790476</td>\n",
              "      <td>119.563810</td>\n",
              "      <td>2.920000</td>\n",
              "      <td>82.632381</td>\n",
              "      <td>506.112381</td>\n",
              "      <td>84.020952</td>\n",
              "      <td>136.615238</td>\n",
              "      <td>895.992381</td>\n",
              "    </tr>\n",
              "    <tr>\n",
              "      <th>std</th>\n",
              "      <td>151.698715</td>\n",
              "      <td>5.515930</td>\n",
              "      <td>47.492609</td>\n",
              "      <td>1.217431</td>\n",
              "      <td>39.147891</td>\n",
              "      <td>174.455130</td>\n",
              "      <td>38.975838</td>\n",
              "      <td>50.668250</td>\n",
              "      <td>343.817128</td>\n",
              "    </tr>\n",
              "    <tr>\n",
              "      <th>min</th>\n",
              "      <td>1.000000</td>\n",
              "      <td>1.000000</td>\n",
              "      <td>40.000000</td>\n",
              "      <td>1.000000</td>\n",
              "      <td>15.000000</td>\n",
              "      <td>200.000000</td>\n",
              "      <td>15.000000</td>\n",
              "      <td>50.000000</td>\n",
              "      <td>302.000000</td>\n",
              "    </tr>\n",
              "    <tr>\n",
              "      <th>25%</th>\n",
              "      <td>132.000000</td>\n",
              "      <td>6.000000</td>\n",
              "      <td>78.000000</td>\n",
              "      <td>2.000000</td>\n",
              "      <td>49.000000</td>\n",
              "      <td>354.000000</td>\n",
              "      <td>51.000000</td>\n",
              "      <td>94.000000</td>\n",
              "      <td>602.000000</td>\n",
              "    </tr>\n",
              "    <tr>\n",
              "      <th>50%</th>\n",
              "      <td>263.000000</td>\n",
              "      <td>11.000000</td>\n",
              "      <td>118.000000</td>\n",
              "      <td>3.000000</td>\n",
              "      <td>84.000000</td>\n",
              "      <td>515.000000</td>\n",
              "      <td>85.000000</td>\n",
              "      <td>137.000000</td>\n",
              "      <td>889.000000</td>\n",
              "    </tr>\n",
              "    <tr>\n",
              "      <th>75%</th>\n",
              "      <td>394.000000</td>\n",
              "      <td>15.000000</td>\n",
              "      <td>165.000000</td>\n",
              "      <td>4.000000</td>\n",
              "      <td>118.000000</td>\n",
              "      <td>653.000000</td>\n",
              "      <td>119.000000</td>\n",
              "      <td>181.000000</td>\n",
              "      <td>1192.000000</td>\n",
              "    </tr>\n",
              "    <tr>\n",
              "      <th>max</th>\n",
              "      <td>525.000000</td>\n",
              "      <td>20.000000</td>\n",
              "      <td>200.000000</td>\n",
              "      <td>5.000000</td>\n",
              "      <td>150.000000</td>\n",
              "      <td>800.000000</td>\n",
              "      <td>150.000000</td>\n",
              "      <td>225.000000</td>\n",
              "      <td>1499.000000</td>\n",
              "    </tr>\n",
              "  </tbody>\n",
              "</table>\n",
              "</div>\n",
              "      <button class=\"colab-df-convert\" onclick=\"convertToInteractive('df-8178c9b9-412d-420c-88b3-a84af6dc8d71')\"\n",
              "              title=\"Convert this dataframe to an interactive table.\"\n",
              "              style=\"display:none;\">\n",
              "        \n",
              "  <svg xmlns=\"http://www.w3.org/2000/svg\" height=\"24px\"viewBox=\"0 0 24 24\"\n",
              "       width=\"24px\">\n",
              "    <path d=\"M0 0h24v24H0V0z\" fill=\"none\"/>\n",
              "    <path d=\"M18.56 5.44l.94 2.06.94-2.06 2.06-.94-2.06-.94-.94-2.06-.94 2.06-2.06.94zm-11 1L8.5 8.5l.94-2.06 2.06-.94-2.06-.94L8.5 2.5l-.94 2.06-2.06.94zm10 10l.94 2.06.94-2.06 2.06-.94-2.06-.94-.94-2.06-.94 2.06-2.06.94z\"/><path d=\"M17.41 7.96l-1.37-1.37c-.4-.4-.92-.59-1.43-.59-.52 0-1.04.2-1.43.59L10.3 9.45l-7.72 7.72c-.78.78-.78 2.05 0 2.83L4 21.41c.39.39.9.59 1.41.59.51 0 1.02-.2 1.41-.59l7.78-7.78 2.81-2.81c.8-.78.8-2.07 0-2.86zM5.41 20L4 18.59l7.72-7.72 1.47 1.35L5.41 20z\"/>\n",
              "  </svg>\n",
              "      </button>\n",
              "      \n",
              "  <style>\n",
              "    .colab-df-container {\n",
              "      display:flex;\n",
              "      flex-wrap:wrap;\n",
              "      gap: 12px;\n",
              "    }\n",
              "\n",
              "    .colab-df-convert {\n",
              "      background-color: #E8F0FE;\n",
              "      border: none;\n",
              "      border-radius: 50%;\n",
              "      cursor: pointer;\n",
              "      display: none;\n",
              "      fill: #1967D2;\n",
              "      height: 32px;\n",
              "      padding: 0 0 0 0;\n",
              "      width: 32px;\n",
              "    }\n",
              "\n",
              "    .colab-df-convert:hover {\n",
              "      background-color: #E2EBFA;\n",
              "      box-shadow: 0px 1px 2px rgba(60, 64, 67, 0.3), 0px 1px 3px 1px rgba(60, 64, 67, 0.15);\n",
              "      fill: #174EA6;\n",
              "    }\n",
              "\n",
              "    [theme=dark] .colab-df-convert {\n",
              "      background-color: #3B4455;\n",
              "      fill: #D2E3FC;\n",
              "    }\n",
              "\n",
              "    [theme=dark] .colab-df-convert:hover {\n",
              "      background-color: #434B5C;\n",
              "      box-shadow: 0px 1px 3px 1px rgba(0, 0, 0, 0.15);\n",
              "      filter: drop-shadow(0px 1px 2px rgba(0, 0, 0, 0.3));\n",
              "      fill: #FFFFFF;\n",
              "    }\n",
              "  </style>\n",
              "\n",
              "      <script>\n",
              "        const buttonEl =\n",
              "          document.querySelector('#df-8178c9b9-412d-420c-88b3-a84af6dc8d71 button.colab-df-convert');\n",
              "        buttonEl.style.display =\n",
              "          google.colab.kernel.accessAllowed ? 'block' : 'none';\n",
              "\n",
              "        async function convertToInteractive(key) {\n",
              "          const element = document.querySelector('#df-8178c9b9-412d-420c-88b3-a84af6dc8d71');\n",
              "          const dataTable =\n",
              "            await google.colab.kernel.invokeFunction('convertToInteractive',\n",
              "                                                     [key], {});\n",
              "          if (!dataTable) return;\n",
              "\n",
              "          const docLinkHtml = 'Like what you see? Visit the ' +\n",
              "            '<a target=\"_blank\" href=https://colab.research.google.com/notebooks/data_table.ipynb>data table notebook</a>'\n",
              "            + ' to learn more about interactive tables.';\n",
              "          element.innerHTML = '';\n",
              "          dataTable['output_type'] = 'display_data';\n",
              "          await google.colab.output.renderOutput(dataTable, element);\n",
              "          const docLink = document.createElement('div');\n",
              "          docLink.innerHTML = docLinkHtml;\n",
              "          element.appendChild(docLink);\n",
              "        }\n",
              "      </script>\n",
              "    </div>\n",
              "  </div>\n",
              "  "
            ]
          },
          "metadata": {},
          "execution_count": 5
        }
      ],
      "source": [
        "data.describe()\n",
        "# Statistical information about the data."
      ]
    },
    {
      "cell_type": "code",
      "execution_count": null,
      "id": "bb402077",
      "metadata": {
        "colab": {
          "base_uri": "https://localhost:8080/"
        },
        "id": "bb402077",
        "outputId": "c78606e1-ac8c-4af8-958a-500bad1f96df"
      },
      "outputs": [
        {
          "output_type": "execute_result",
          "data": {
            "text/plain": [
              "Index(['s.no', 'Institute', 'Subject', 'Location', 'Trainer_Qualification',\n",
              "       'Online_classes', 'Offline_classes', 'Course_level', 'Placements',\n",
              "       'Certificate', 'Trainer_experiance', 'Course_hours', 'Course_rating',\n",
              "       'Rental_permises', 'Trainer_slary', 'Maintaince_cost',\n",
              "       'Non_teaching_staff_salary', 'Price'],\n",
              "      dtype='object')"
            ]
          },
          "metadata": {},
          "execution_count": 6
        }
      ],
      "source": [
        "data.columns\n",
        "# view the columns"
      ]
    },
    {
      "cell_type": "markdown",
      "id": "aca04112",
      "metadata": {
        "id": "aca04112"
      },
      "source": [
        "## Auto Exploratory Data Analysis(EDA)"
      ]
    },
    {
      "cell_type": "code",
      "execution_count": null,
      "id": "ecde616c",
      "metadata": {
        "colab": {
          "base_uri": "https://localhost:8080/"
        },
        "id": "ecde616c",
        "outputId": "c61c337e-af33-454d-85d8-50dc54ad147c"
      },
      "outputs": [
        {
          "output_type": "stream",
          "name": "stdout",
          "text": [
            "Looking in indexes: https://pypi.org/simple, https://us-python.pkg.dev/colab-wheels/public/simple/\n",
            "Requirement already satisfied: pandas-profiling in /usr/local/lib/python3.7/dist-packages (1.4.1)\n",
            "Requirement already satisfied: jinja2>=2.8 in /usr/local/lib/python3.7/dist-packages (from pandas-profiling) (2.11.3)\n",
            "Requirement already satisfied: pandas>=0.19 in /usr/local/lib/python3.7/dist-packages (from pandas-profiling) (1.3.5)\n",
            "Requirement already satisfied: matplotlib>=1.4 in /usr/local/lib/python3.7/dist-packages (from pandas-profiling) (3.2.2)\n",
            "Requirement already satisfied: six>=1.9 in /usr/local/lib/python3.7/dist-packages (from pandas-profiling) (1.15.0)\n",
            "Requirement already satisfied: MarkupSafe>=0.23 in /usr/local/lib/python3.7/dist-packages (from jinja2>=2.8->pandas-profiling) (2.0.1)\n",
            "Requirement already satisfied: pyparsing!=2.0.4,!=2.1.2,!=2.1.6,>=2.0.1 in /usr/local/lib/python3.7/dist-packages (from matplotlib>=1.4->pandas-profiling) (3.0.9)\n",
            "Requirement already satisfied: kiwisolver>=1.0.1 in /usr/local/lib/python3.7/dist-packages (from matplotlib>=1.4->pandas-profiling) (1.4.3)\n",
            "Requirement already satisfied: python-dateutil>=2.1 in /usr/local/lib/python3.7/dist-packages (from matplotlib>=1.4->pandas-profiling) (2.8.2)\n",
            "Requirement already satisfied: cycler>=0.10 in /usr/local/lib/python3.7/dist-packages (from matplotlib>=1.4->pandas-profiling) (0.11.0)\n",
            "Requirement already satisfied: numpy>=1.11 in /usr/local/lib/python3.7/dist-packages (from matplotlib>=1.4->pandas-profiling) (1.21.6)\n",
            "Requirement already satisfied: typing-extensions in /usr/local/lib/python3.7/dist-packages (from kiwisolver>=1.0.1->matplotlib>=1.4->pandas-profiling) (4.1.1)\n",
            "Requirement already satisfied: pytz>=2017.3 in /usr/local/lib/python3.7/dist-packages (from pandas>=0.19->pandas-profiling) (2022.1)\n"
          ]
        }
      ],
      "source": [
        "import sys\n",
        "!{sys.executable} -m pip install pandas-profiling"
      ]
    },
    {
      "cell_type": "code",
      "source": [
        "!pip install https://github.com/pandas-profiling/pandas-profiling/archive/master.zip"
      ],
      "metadata": {
        "colab": {
          "base_uri": "https://localhost:8080/",
          "height": 1000
        },
        "id": "AWbn_GYtcziz",
        "outputId": "c4d1c48c-e81c-4496-f01d-be42f7ad7955"
      },
      "id": "AWbn_GYtcziz",
      "execution_count": null,
      "outputs": [
        {
          "output_type": "stream",
          "name": "stdout",
          "text": [
            "Looking in indexes: https://pypi.org/simple, https://us-python.pkg.dev/colab-wheels/public/simple/\n",
            "Collecting https://github.com/pandas-profiling/pandas-profiling/archive/master.zip\n",
            "  Downloading https://github.com/pandas-profiling/pandas-profiling/archive/master.zip\n",
            "\u001b[K     - 21.9 MB 7.0 MB/s\n",
            "\u001b[?25hRequirement already satisfied: joblib~=1.1.0 in /usr/local/lib/python3.7/dist-packages (from pandas-profiling==3.2.0) (1.1.0)\n",
            "Requirement already satisfied: scipy>=1.4.1 in /usr/local/lib/python3.7/dist-packages (from pandas-profiling==3.2.0) (1.4.1)\n",
            "Requirement already satisfied: pandas!=1.0.0,!=1.0.1,!=1.0.2,!=1.1.0,>=0.25.3 in /usr/local/lib/python3.7/dist-packages (from pandas-profiling==3.2.0) (1.3.5)\n",
            "Requirement already satisfied: matplotlib>=3.2.0 in /usr/local/lib/python3.7/dist-packages (from pandas-profiling==3.2.0) (3.2.2)\n",
            "Requirement already satisfied: pydantic>=1.8.1 in /usr/local/lib/python3.7/dist-packages (from pandas-profiling==3.2.0) (1.8.2)\n",
            "Collecting PyYAML>=5.0.0\n",
            "  Downloading PyYAML-6.0-cp37-cp37m-manylinux_2_5_x86_64.manylinux1_x86_64.manylinux_2_12_x86_64.manylinux2010_x86_64.whl (596 kB)\n",
            "\u001b[K     |████████████████████████████████| 596 kB 4.3 MB/s \n",
            "\u001b[?25hRequirement already satisfied: jinja2>=2.11.1 in /usr/local/lib/python3.7/dist-packages (from pandas-profiling==3.2.0) (2.11.3)\n",
            "Collecting visions[type_image_path]==0.7.5\n",
            "  Downloading visions-0.7.5-py3-none-any.whl (102 kB)\n",
            "\u001b[K     |████████████████████████████████| 102 kB 69.6 MB/s \n",
            "\u001b[?25hRequirement already satisfied: numpy>=1.16.0 in /usr/local/lib/python3.7/dist-packages (from pandas-profiling==3.2.0) (1.21.6)\n",
            "Collecting htmlmin>=0.1.12\n",
            "  Downloading htmlmin-0.1.12.tar.gz (19 kB)\n",
            "Requirement already satisfied: missingno>=0.4.2 in /usr/local/lib/python3.7/dist-packages (from pandas-profiling==3.2.0) (0.5.1)\n",
            "Collecting phik>=0.11.1\n",
            "  Downloading phik-0.12.2-cp37-cp37m-manylinux_2_17_x86_64.manylinux2014_x86_64.whl (690 kB)\n",
            "\u001b[K     |████████████████████████████████| 690 kB 45.0 MB/s \n",
            "\u001b[?25hCollecting tangled-up-in-unicode==0.2.0\n",
            "  Downloading tangled_up_in_unicode-0.2.0-py3-none-any.whl (4.7 MB)\n",
            "\u001b[K     |████████████████████████████████| 4.7 MB 46.1 MB/s \n",
            "\u001b[?25hCollecting requests>=2.24.0\n",
            "  Downloading requests-2.28.1-py3-none-any.whl (62 kB)\n",
            "\u001b[K     |████████████████████████████████| 62 kB 1.5 MB/s \n",
            "\u001b[?25hRequirement already satisfied: tqdm>=4.48.2 in /usr/local/lib/python3.7/dist-packages (from pandas-profiling==3.2.0) (4.64.0)\n",
            "Requirement already satisfied: seaborn>=0.10.1 in /usr/local/lib/python3.7/dist-packages (from pandas-profiling==3.2.0) (0.11.2)\n",
            "Collecting multimethod>=1.4\n",
            "  Downloading multimethod-1.8-py3-none-any.whl (9.8 kB)\n",
            "Requirement already satisfied: attrs>=19.3.0 in /usr/local/lib/python3.7/dist-packages (from visions[type_image_path]==0.7.5->pandas-profiling==3.2.0) (21.4.0)\n",
            "Requirement already satisfied: networkx>=2.4 in /usr/local/lib/python3.7/dist-packages (from visions[type_image_path]==0.7.5->pandas-profiling==3.2.0) (2.6.3)\n",
            "Collecting imagehash\n",
            "  Downloading ImageHash-4.2.1.tar.gz (812 kB)\n",
            "\u001b[K     |████████████████████████████████| 812 kB 42.4 MB/s \n",
            "\u001b[?25hRequirement already satisfied: Pillow in /usr/local/lib/python3.7/dist-packages (from visions[type_image_path]==0.7.5->pandas-profiling==3.2.0) (7.1.2)\n",
            "Requirement already satisfied: MarkupSafe>=0.23 in /usr/local/lib/python3.7/dist-packages (from jinja2>=2.11.1->pandas-profiling==3.2.0) (2.0.1)\n",
            "Requirement already satisfied: python-dateutil>=2.1 in /usr/local/lib/python3.7/dist-packages (from matplotlib>=3.2.0->pandas-profiling==3.2.0) (2.8.2)\n",
            "Requirement already satisfied: pyparsing!=2.0.4,!=2.1.2,!=2.1.6,>=2.0.1 in /usr/local/lib/python3.7/dist-packages (from matplotlib>=3.2.0->pandas-profiling==3.2.0) (3.0.9)\n",
            "Requirement already satisfied: cycler>=0.10 in /usr/local/lib/python3.7/dist-packages (from matplotlib>=3.2.0->pandas-profiling==3.2.0) (0.11.0)\n",
            "Requirement already satisfied: kiwisolver>=1.0.1 in /usr/local/lib/python3.7/dist-packages (from matplotlib>=3.2.0->pandas-profiling==3.2.0) (1.4.3)\n",
            "Requirement already satisfied: typing-extensions in /usr/local/lib/python3.7/dist-packages (from kiwisolver>=1.0.1->matplotlib>=3.2.0->pandas-profiling==3.2.0) (4.1.1)\n",
            "Requirement already satisfied: pytz>=2017.3 in /usr/local/lib/python3.7/dist-packages (from pandas!=1.0.0,!=1.0.1,!=1.0.2,!=1.1.0,>=0.25.3->pandas-profiling==3.2.0) (2022.1)\n",
            "Collecting scipy>=1.4.1\n",
            "  Downloading scipy-1.7.3-cp37-cp37m-manylinux_2_12_x86_64.manylinux2010_x86_64.whl (38.1 MB)\n",
            "\u001b[K     |████████████████████████████████| 38.1 MB 1.1 MB/s \n",
            "\u001b[?25hRequirement already satisfied: six>=1.5 in /usr/local/lib/python3.7/dist-packages (from python-dateutil>=2.1->matplotlib>=3.2.0->pandas-profiling==3.2.0) (1.15.0)\n",
            "Requirement already satisfied: certifi>=2017.4.17 in /usr/local/lib/python3.7/dist-packages (from requests>=2.24.0->pandas-profiling==3.2.0) (2022.6.15)\n",
            "Requirement already satisfied: idna<4,>=2.5 in /usr/local/lib/python3.7/dist-packages (from requests>=2.24.0->pandas-profiling==3.2.0) (2.10)\n",
            "Requirement already satisfied: urllib3<1.27,>=1.21.1 in /usr/local/lib/python3.7/dist-packages (from requests>=2.24.0->pandas-profiling==3.2.0) (1.24.3)\n",
            "Requirement already satisfied: charset-normalizer<3,>=2 in /usr/local/lib/python3.7/dist-packages (from requests>=2.24.0->pandas-profiling==3.2.0) (2.1.0)\n",
            "Requirement already satisfied: PyWavelets in /usr/local/lib/python3.7/dist-packages (from imagehash->visions[type_image_path]==0.7.5->pandas-profiling==3.2.0) (1.3.0)\n",
            "Building wheels for collected packages: pandas-profiling, htmlmin, imagehash\n",
            "  Building wheel for pandas-profiling (setup.py) ... \u001b[?25l\u001b[?25hdone\n",
            "  Created wheel for pandas-profiling: filename=pandas_profiling-3.2.0-py2.py3-none-any.whl size=261257 sha256=dbdb13ad2ce06006fa85e6a0ff57b99b3c9be5d366be66d8aacdf30ecbf36ac3\n",
            "  Stored in directory: /tmp/pip-ephem-wheel-cache-8yja0qya/wheels/cc/d5/09/083fb07c9363a2f45854b0e3a7de7d7c560f07da74b9e9769d\n",
            "  Building wheel for htmlmin (setup.py) ... \u001b[?25l\u001b[?25hdone\n",
            "  Created wheel for htmlmin: filename=htmlmin-0.1.12-py3-none-any.whl size=27098 sha256=eeed1cbad4bdffb7360adf2ebe319ce81efb996ee2624625594f36d7e70079d9\n",
            "  Stored in directory: /root/.cache/pip/wheels/70/e1/52/5b14d250ba868768823940c3229e9950d201a26d0bd3ee8655\n",
            "  Building wheel for imagehash (setup.py) ... \u001b[?25l\u001b[?25hdone\n",
            "  Created wheel for imagehash: filename=ImageHash-4.2.1-py2.py3-none-any.whl size=295206 sha256=3b7327c7598918d44fbae1bf4408518d592227628d77fd4027ce8770adc7e96e\n",
            "  Stored in directory: /root/.cache/pip/wheels/4c/d5/59/5e3e297533ddb09407769762985d134135064c6831e29a914e\n",
            "Successfully built pandas-profiling htmlmin imagehash\n",
            "Installing collected packages: tangled-up-in-unicode, scipy, multimethod, visions, imagehash, requests, PyYAML, phik, htmlmin, pandas-profiling\n",
            "  Attempting uninstall: scipy\n",
            "    Found existing installation: scipy 1.4.1\n",
            "    Uninstalling scipy-1.4.1:\n",
            "      Successfully uninstalled scipy-1.4.1\n",
            "  Attempting uninstall: requests\n",
            "    Found existing installation: requests 2.23.0\n",
            "    Uninstalling requests-2.23.0:\n",
            "      Successfully uninstalled requests-2.23.0\n",
            "  Attempting uninstall: PyYAML\n",
            "    Found existing installation: PyYAML 3.13\n",
            "    Uninstalling PyYAML-3.13:\n",
            "      Successfully uninstalled PyYAML-3.13\n",
            "  Attempting uninstall: pandas-profiling\n",
            "    Found existing installation: pandas-profiling 1.4.1\n",
            "    Uninstalling pandas-profiling-1.4.1:\n",
            "      Successfully uninstalled pandas-profiling-1.4.1\n",
            "\u001b[31mERROR: pip's dependency resolver does not currently take into account all the packages that are installed. This behaviour is the source of the following dependency conflicts.\n",
            "google-colab 1.0.0 requires requests~=2.23.0, but you have requests 2.28.1 which is incompatible.\n",
            "datascience 0.10.6 requires folium==0.2.1, but you have folium 0.8.3 which is incompatible.\n",
            "albumentations 0.1.12 requires imgaug<0.2.7,>=0.2.5, but you have imgaug 0.2.9 which is incompatible.\u001b[0m\n",
            "Successfully installed PyYAML-6.0 htmlmin-0.1.12 imagehash-4.2.1 multimethod-1.8 pandas-profiling-3.2.0 phik-0.12.2 requests-2.28.1 scipy-1.7.3 tangled-up-in-unicode-0.2.0 visions-0.7.5\n"
          ]
        },
        {
          "output_type": "display_data",
          "data": {
            "application/vnd.colab-display-data+json": {
              "pip_warning": {
                "packages": [
                  "pandas_profiling"
                ]
              }
            }
          },
          "metadata": {}
        }
      ]
    },
    {
      "cell_type": "code",
      "execution_count": null,
      "id": "ebf3d3c8",
      "metadata": {
        "colab": {
          "base_uri": "https://localhost:8080/",
          "height": 145,
          "referenced_widgets": [
            "1275fb7a0b4e4f03af2cfdbb73f34237",
            "496c1fba641742fca124243339867ef7",
            "a18344082b974acab428c520c4a551cd",
            "00b8899018e047cbb2b395c975061618",
            "6a8c83563b0844789f3f59d51e70a37c",
            "9a66696888f34aa9a2cd8ab676dffb62",
            "4b91db7f600a49e8b9bb3159085864c4",
            "2f53aea4817c4efaa53df0657b18fa9a",
            "860b1941e83f463faeaf52cc15e6e460",
            "ba2b74954a4d4726b0c42d584f2dd7d4",
            "f42daecfb11b4a44b2bcc47a3cbcf1ce",
            "5f4ed9f6a0104ee98b803a7a43afdc7b",
            "db4e81e96c284cb99c6648d787698ab1",
            "b394b06303994bb8b3ad5df994f9fc62",
            "03f9de9319f94e1fb276aabbd081d5c2",
            "5705c4becc8747db90f2901972aad149",
            "9e8ba7a5cad64cdfbeeb3c1a0ac7f7e2",
            "9e7d532af00b40cea89172c05ff755d3",
            "3db7d4aa1b384d0f88f30c0e3a7d93d4",
            "96349511212043a596bc0360482fa103",
            "643b5efc43444e5bac31a324434af852",
            "dac539e5a299407f95e3a31726e1278b",
            "65cd9ba295f64815be425942b40c3c95",
            "d65b15e822b14e31bf10bba8f4564bc8",
            "8692d7edcec5429ab81df10643af89df",
            "01472793920b48958a6ecba84da9f6df",
            "eb1aeba1d83e4e4eb4cd736e1fa9baed",
            "77422ca7a1204061b1d29fe038996c55",
            "b6f6463daa6446e79e3dd62570766c72",
            "f6d9fc55d3844a4f9ab44b582a75813c",
            "0d5f61d21ed141848df0d061ee6bc1aa",
            "6a8499e4c65044869fe0080f69e59598",
            "94c2d23061164b7d841ccbf003be3e33",
            "8cd1208c098d42468605396aad8ced18",
            "52ebd4bb17754a01bc79beeaf92e0b5d",
            "d63203e39b4d4788b2861a819c59ee6e",
            "146ad9676b4d452b8b4172e43702abab",
            "32caa4e7a7954b129bf313889687030b",
            "a6b4e60c0cd441bb99d8cc8c0080b125",
            "108fd9ff184b4a78bddf16a1291e0e3e",
            "1dc64c422da74aa387deb82302cd3170",
            "ec9fc5ba0744444283591c67b2793c7f",
            "d4dd935abed949359ff94970ca934cef",
            "9fbe0799c35e44f9a213e584538c3b12"
          ]
        },
        "id": "ebf3d3c8",
        "outputId": "19bba38c-4db3-40cd-d79f-a07c3d84db40"
      },
      "outputs": [
        {
          "output_type": "display_data",
          "data": {
            "text/plain": [
              "Summarize dataset:   0%|          | 0/5 [00:00<?, ?it/s]"
            ],
            "application/vnd.jupyter.widget-view+json": {
              "version_major": 2,
              "version_minor": 0,
              "model_id": "1275fb7a0b4e4f03af2cfdbb73f34237"
            }
          },
          "metadata": {}
        },
        {
          "output_type": "display_data",
          "data": {
            "text/plain": [
              "Generate report structure:   0%|          | 0/1 [00:00<?, ?it/s]"
            ],
            "application/vnd.jupyter.widget-view+json": {
              "version_major": 2,
              "version_minor": 0,
              "model_id": "5f4ed9f6a0104ee98b803a7a43afdc7b"
            }
          },
          "metadata": {}
        },
        {
          "output_type": "display_data",
          "data": {
            "text/plain": [
              "Render HTML:   0%|          | 0/1 [00:00<?, ?it/s]"
            ],
            "application/vnd.jupyter.widget-view+json": {
              "version_major": 2,
              "version_minor": 0,
              "model_id": "65cd9ba295f64815be425942b40c3c95"
            }
          },
          "metadata": {}
        },
        {
          "output_type": "display_data",
          "data": {
            "text/plain": [
              "Export report to file:   0%|          | 0/1 [00:00<?, ?it/s]"
            ],
            "application/vnd.jupyter.widget-view+json": {
              "version_major": 2,
              "version_minor": 0,
              "model_id": "8cd1208c098d42468605396aad8ced18"
            }
          },
          "metadata": {}
        }
      ],
      "source": [
        "# Pandas profiling\n",
        "from pandas_profiling import ProfileReport\n",
        "prof = ProfileReport(data)\n",
        "prof.to_file(output_file = 'output.html')"
      ]
    },
    {
      "cell_type": "code",
      "source": [
        "!pip install sweetviz"
      ],
      "metadata": {
        "colab": {
          "base_uri": "https://localhost:8080/"
        },
        "id": "cfXx6MqdeC1s",
        "outputId": "db3d0912-2be5-458a-a28d-df5d26573ec3"
      },
      "id": "cfXx6MqdeC1s",
      "execution_count": null,
      "outputs": [
        {
          "output_type": "stream",
          "name": "stdout",
          "text": [
            "Looking in indexes: https://pypi.org/simple, https://us-python.pkg.dev/colab-wheels/public/simple/\n",
            "Collecting sweetviz\n",
            "  Downloading sweetviz-2.1.4-py3-none-any.whl (15.1 MB)\n",
            "\u001b[K     |████████████████████████████████| 15.1 MB 4.0 MB/s \n",
            "\u001b[?25hRequirement already satisfied: jinja2>=2.11.1 in /usr/local/lib/python3.7/dist-packages (from sweetviz) (2.11.3)\n",
            "Requirement already satisfied: importlib-resources>=1.2.0 in /usr/local/lib/python3.7/dist-packages (from sweetviz) (5.7.1)\n",
            "Requirement already satisfied: tqdm>=4.43.0 in /usr/local/lib/python3.7/dist-packages (from sweetviz) (4.64.0)\n",
            "Requirement already satisfied: pandas!=1.0.0,!=1.0.1,!=1.0.2,>=0.25.3 in /usr/local/lib/python3.7/dist-packages (from sweetviz) (1.3.5)\n",
            "Requirement already satisfied: scipy>=1.3.2 in /usr/local/lib/python3.7/dist-packages (from sweetviz) (1.7.3)\n",
            "Requirement already satisfied: matplotlib>=3.1.3 in /usr/local/lib/python3.7/dist-packages (from sweetviz) (3.2.2)\n",
            "Requirement already satisfied: numpy>=1.16.0 in /usr/local/lib/python3.7/dist-packages (from sweetviz) (1.21.6)\n",
            "Requirement already satisfied: zipp>=3.1.0 in /usr/local/lib/python3.7/dist-packages (from importlib-resources>=1.2.0->sweetviz) (3.8.0)\n",
            "Requirement already satisfied: MarkupSafe>=0.23 in /usr/local/lib/python3.7/dist-packages (from jinja2>=2.11.1->sweetviz) (2.0.1)\n",
            "Requirement already satisfied: pyparsing!=2.0.4,!=2.1.2,!=2.1.6,>=2.0.1 in /usr/local/lib/python3.7/dist-packages (from matplotlib>=3.1.3->sweetviz) (3.0.9)\n",
            "Requirement already satisfied: cycler>=0.10 in /usr/local/lib/python3.7/dist-packages (from matplotlib>=3.1.3->sweetviz) (0.11.0)\n",
            "Requirement already satisfied: python-dateutil>=2.1 in /usr/local/lib/python3.7/dist-packages (from matplotlib>=3.1.3->sweetviz) (2.8.2)\n",
            "Requirement already satisfied: kiwisolver>=1.0.1 in /usr/local/lib/python3.7/dist-packages (from matplotlib>=3.1.3->sweetviz) (1.4.3)\n",
            "Requirement already satisfied: typing-extensions in /usr/local/lib/python3.7/dist-packages (from kiwisolver>=1.0.1->matplotlib>=3.1.3->sweetviz) (4.1.1)\n",
            "Requirement already satisfied: pytz>=2017.3 in /usr/local/lib/python3.7/dist-packages (from pandas!=1.0.0,!=1.0.1,!=1.0.2,>=0.25.3->sweetviz) (2022.1)\n",
            "Requirement already satisfied: six>=1.5 in /usr/local/lib/python3.7/dist-packages (from python-dateutil>=2.1->matplotlib>=3.1.3->sweetviz) (1.15.0)\n",
            "Installing collected packages: sweetviz\n",
            "Successfully installed sweetviz-2.1.4\n"
          ]
        }
      ]
    },
    {
      "cell_type": "code",
      "source": [
        "# importing sweetviz\n",
        "import sweetviz as sv\n",
        "#analyzing the dataset\n",
        "eda_report = sv.analyze(data)\n",
        "#display the report\n",
        "eda_report.show_html('eda.html')"
      ],
      "metadata": {
        "colab": {
          "base_uri": "https://localhost:8080/",
          "height": 66,
          "referenced_widgets": [
            "5d54610722dd4b4b8df1c25477356dc6",
            "3c45da0ae2514ea18c9c6503edd93a49",
            "61968ea7393c4c7598df976ee645bb3f",
            "8dc028644bf64bd78d97375b554fc751",
            "600e0330a1eb48f49359a9441871d534",
            "d5ec1ee1d40249e3b4b2b6d80d096c27",
            "0b7fccec3f684c39ac5d8d667e83b4e1",
            "77a8e37d04354189a20b9f06ca4bfb86",
            "8c3f4ec3f4974e0d9d7cfb4544285637",
            "241f282d461c431d96e817c7d2f3c1aa",
            "e66ea467dd6c4efea2144a7e02743634"
          ]
        },
        "id": "FPJvZAS9esjD",
        "outputId": "cf4ea14e-aab1-43f9-d60c-2f89348f48a2"
      },
      "id": "FPJvZAS9esjD",
      "execution_count": null,
      "outputs": [
        {
          "output_type": "display_data",
          "data": {
            "text/plain": [
              "                                             |          | [  0%]   00:00 -> (? left)"
            ],
            "application/vnd.jupyter.widget-view+json": {
              "version_major": 2,
              "version_minor": 0,
              "model_id": "5d54610722dd4b4b8df1c25477356dc6"
            }
          },
          "metadata": {}
        },
        {
          "output_type": "stream",
          "name": "stdout",
          "text": [
            "Report eda.html was generated! NOTEBOOK/COLAB USERS: the web browser MAY not pop up, regardless, the report IS saved in your notebook/colab files.\n"
          ]
        }
      ]
    },
    {
      "cell_type": "markdown",
      "id": "4e547ef1",
      "metadata": {
        "id": "4e547ef1"
      },
      "source": [
        "# Data Pre-processing"
      ]
    },
    {
      "cell_type": "code",
      "execution_count": null,
      "id": "664aafa3",
      "metadata": {
        "colab": {
          "base_uri": "https://localhost:8080/"
        },
        "id": "664aafa3",
        "outputId": "045af658-6425-4646-d8e3-d8e333e5c570"
      },
      "outputs": [
        {
          "output_type": "execute_result",
          "data": {
            "text/plain": [
              "(525, 17)"
            ]
          },
          "metadata": {},
          "execution_count": 6
        }
      ],
      "source": [
        "data.drop(['s.no'], axis = 1, inplace = True)\n",
        "# s.no column has no information, so dorp it.\n",
        "data.shape"
      ]
    },
    {
      "cell_type": "code",
      "execution_count": null,
      "id": "196bd5f2",
      "metadata": {
        "colab": {
          "base_uri": "https://localhost:8080/"
        },
        "id": "196bd5f2",
        "outputId": "37559059-6dd6-4dda-c46e-9b2747bceb04"
      },
      "outputs": [
        {
          "output_type": "execute_result",
          "data": {
            "text/plain": [
              "0"
            ]
          },
          "metadata": {},
          "execution_count": 7
        }
      ],
      "source": [
        "# hndling Duplicates #\n",
        "data.duplicated().sum()  # no duplicates in the data set"
      ]
    },
    {
      "cell_type": "code",
      "execution_count": null,
      "id": "01adf741",
      "metadata": {
        "colab": {
          "base_uri": "https://localhost:8080/"
        },
        "id": "01adf741",
        "outputId": "9a95a702-00af-48ff-fcf0-37f0fe7113ab"
      },
      "outputs": [
        {
          "output_type": "execute_result",
          "data": {
            "text/plain": [
              "Institute                    0\n",
              "Subject                      0\n",
              "Location                     0\n",
              "Trainer_Qualification        0\n",
              "Online_classes               0\n",
              "Offline_classes              0\n",
              "Course_level                 0\n",
              "Placements                   0\n",
              "Certificate                  0\n",
              "Trainer_experiance           0\n",
              "Course_hours                 0\n",
              "Course_rating                0\n",
              "Rental_permises              0\n",
              "Trainer_slary                0\n",
              "Maintaince_cost              0\n",
              "Non_teaching_staff_salary    0\n",
              "Price                        0\n",
              "dtype: int64"
            ]
          },
          "metadata": {},
          "execution_count": 8
        }
      ],
      "source": [
        "# Handling Missing values #\n",
        "data.isna().sum() # No missing values in the data set"
      ]
    },
    {
      "cell_type": "markdown",
      "id": "e02ec125",
      "metadata": {
        "id": "e02ec125"
      },
      "source": [
        "### Checking the data is balanced or imbalanced"
      ]
    },
    {
      "cell_type": "code",
      "execution_count": null,
      "id": "666c5b58",
      "metadata": {
        "colab": {
          "base_uri": "https://localhost:8080/"
        },
        "id": "666c5b58",
        "outputId": "98fa89d0-81ee-47a7-fb7e-f8d3a4a1123b"
      },
      "outputs": [
        {
          "output_type": "execute_result",
          "data": {
            "text/plain": [
              "innomatics      49\n",
              "Great_Learn     46\n",
              "Coursera        45\n",
              "Datatrain       41\n",
              "Upgrad          41\n",
              "ExcelR          40\n",
              "Simple_learn    36\n",
              "Udemy           35\n",
              "Edvancer        34\n",
              "Edureka         33\n",
              "Guvi            32\n",
              "Data_camp       32\n",
              "Edx             31\n",
              "360DigiTMG      30\n",
              "Name: Institute, dtype: int64"
            ]
          },
          "metadata": {},
          "execution_count": 9
        }
      ],
      "source": [
        "data['Institute'].value_counts()"
      ]
    },
    {
      "cell_type": "code",
      "execution_count": null,
      "id": "ae105d01",
      "metadata": {
        "colab": {
          "base_uri": "https://localhost:8080/"
        },
        "id": "ae105d01",
        "outputId": "5c364a09-dbe8-46c2-ae31-7db2a2828b50"
      },
      "outputs": [
        {
          "output_type": "execute_result",
          "data": {
            "text/plain": [
              "ProjectManagement         62\n",
              "python                    60\n",
              "DataScience               58\n",
              "ArtificialIntelligence    53\n",
              "FullstackDataScience      53\n",
              "BigData                   52\n",
              "CloudComputing            52\n",
              "DigitalTransformation     46\n",
              "DigitalMarketing          45\n",
              "Dataanalysis              44\n",
              "Name: Subject, dtype: int64"
            ]
          },
          "metadata": {},
          "execution_count": 10
        }
      ],
      "source": [
        "data['Subject'].value_counts()"
      ]
    },
    {
      "cell_type": "code",
      "execution_count": null,
      "id": "217ff077",
      "metadata": {
        "colab": {
          "base_uri": "https://localhost:8080/"
        },
        "id": "217ff077",
        "outputId": "2cdee429-865a-4875-de02-b5d20ab57301"
      },
      "outputs": [
        {
          "output_type": "execute_result",
          "data": {
            "text/plain": [
              "Graduate         184\n",
              "Doctorate        178\n",
              "UnderGraduate    163\n",
              "Name: Trainer_Qualification, dtype: int64"
            ]
          },
          "metadata": {},
          "execution_count": 11
        }
      ],
      "source": [
        "data['Trainer_Qualification'].value_counts()"
      ]
    },
    {
      "cell_type": "code",
      "execution_count": null,
      "id": "58f7ec53",
      "metadata": {
        "colab": {
          "base_uri": "https://localhost:8080/"
        },
        "id": "58f7ec53",
        "outputId": "5afde60f-3dc1-4a90-b3f2-7abea936bc0c"
      },
      "outputs": [
        {
          "output_type": "execute_result",
          "data": {
            "text/plain": [
              "Yes    290\n",
              "no     235\n",
              "Name: Online_classes, dtype: int64"
            ]
          },
          "metadata": {},
          "execution_count": 12
        }
      ],
      "source": [
        "data['Online_classes'].value_counts()"
      ]
    },
    {
      "cell_type": "markdown",
      "id": "c520eeff",
      "metadata": {
        "id": "c520eeff"
      },
      "source": [
        "* All columns have balanced data"
      ]
    },
    {
      "cell_type": "code",
      "execution_count": null,
      "id": "6a06b4f2",
      "metadata": {
        "id": "6a06b4f2"
      },
      "outputs": [],
      "source": [
        "## Label encoder (Converting categorical into numeric)\n",
        "cols = ['Institute', 'Subject', 'Location', 'Trainer_Qualification','Online_classes', 'Offline_classes',\n",
        "        'Course_level','Placements', 'Certificate']\n",
        "\n",
        "from sklearn.preprocessing import LabelEncoder\n",
        "le = LabelEncoder()\n",
        "\n",
        "# Instantiate the encoders\n",
        "encoders = {column: le for column in cols}\n",
        "\n",
        "for column in cols:\n",
        "    data[column] = encoders[column].fit_transform(data[column])"
      ]
    },
    {
      "cell_type": "code",
      "execution_count": null,
      "id": "62bb900a",
      "metadata": {
        "colab": {
          "base_uri": "https://localhost:8080/"
        },
        "id": "62bb900a",
        "outputId": "fc39a049-09d8-4a62-8986-8517955cff11"
      },
      "outputs": [
        {
          "output_type": "stream",
          "name": "stdout",
          "text": [
            "<class 'pandas.core.frame.DataFrame'>\n",
            "RangeIndex: 525 entries, 0 to 524\n",
            "Data columns (total 17 columns):\n",
            " #   Column                     Non-Null Count  Dtype\n",
            "---  ------                     --------------  -----\n",
            " 0   Institute                  525 non-null    int64\n",
            " 1   Subject                    525 non-null    int64\n",
            " 2   Location                   525 non-null    int64\n",
            " 3   Trainer_Qualification      525 non-null    int64\n",
            " 4   Online_classes             525 non-null    int64\n",
            " 5   Offline_classes            525 non-null    int64\n",
            " 6   Course_level               525 non-null    int64\n",
            " 7   Placements                 525 non-null    int64\n",
            " 8   Certificate                525 non-null    int64\n",
            " 9   Trainer_experiance         525 non-null    int64\n",
            " 10  Course_hours               525 non-null    int64\n",
            " 11  Course_rating              525 non-null    int64\n",
            " 12  Rental_permises            525 non-null    int64\n",
            " 13  Trainer_slary              525 non-null    int64\n",
            " 14  Maintaince_cost            525 non-null    int64\n",
            " 15  Non_teaching_staff_salary  525 non-null    int64\n",
            " 16  Price                      525 non-null    int64\n",
            "dtypes: int64(17)\n",
            "memory usage: 69.9 KB\n"
          ]
        }
      ],
      "source": [
        "data.info()"
      ]
    },
    {
      "cell_type": "markdown",
      "id": "b40d6e33",
      "metadata": {
        "id": "b40d6e33"
      },
      "source": [
        "* Categorical columns are converted into numeric "
      ]
    },
    {
      "cell_type": "code",
      "execution_count": null,
      "id": "ee29b344",
      "metadata": {
        "colab": {
          "base_uri": "https://localhost:8080/"
        },
        "id": "ee29b344",
        "outputId": "e4903a22-de6f-4f4b-d819-848db8fa8f66"
      },
      "outputs": [
        {
          "output_type": "execute_result",
          "data": {
            "text/plain": [
              "Index(['Institute', 'Subject', 'Location', 'Trainer_Qualification',\n",
              "       'Online_classes', 'Offline_classes', 'Course_level', 'Placements',\n",
              "       'Certificate', 'Trainer_experiance', 'Course_hours', 'Course_rating',\n",
              "       'Rental_permises', 'Trainer_slary', 'Maintaince_cost',\n",
              "       'Non_teaching_staff_salary', 'Price'],\n",
              "      dtype='object')"
            ]
          },
          "metadata": {},
          "execution_count": 15
        }
      ],
      "source": [
        "data.columns"
      ]
    },
    {
      "cell_type": "code",
      "execution_count": null,
      "id": "4db58ed5",
      "metadata": {
        "colab": {
          "base_uri": "https://localhost:8080/",
          "height": 1000
        },
        "id": "4db58ed5",
        "outputId": "8dcbd112-8ec7-4adc-cc77-bc37f5cb26f7"
      },
      "outputs": [
        {
          "output_type": "stream",
          "name": "stderr",
          "text": [
            "/usr/local/lib/python3.7/dist-packages/seaborn/_decorators.py:43: FutureWarning: Pass the following variable as a keyword arg: x. From version 0.12, the only valid positional argument will be `data`, and passing other arguments without an explicit keyword will result in an error or misinterpretation.\n",
            "  FutureWarning\n"
          ]
        },
        {
          "output_type": "display_data",
          "data": {
            "text/plain": [
              "<Figure size 600x400 with 1 Axes>"
            ],
            "image/png": "[encoded data removed]"
          },
          "metadata": {}
        },
        {
          "output_type": "stream",
          "name": "stderr",
          "text": [
            "/usr/local/lib/python3.7/dist-packages/seaborn/_decorators.py:43: FutureWarning: Pass the following variable as a keyword arg: x. From version 0.12, the only valid positional argument will be `data`, and passing other arguments without an explicit keyword will result in an error or misinterpretation.\n",
            "  FutureWarning\n"
          ]
        },
        {
          "output_type": "display_data",
          "data": {
            "text/plain": [
              "<Figure size 600x400 with 1 Axes>"
            ],
            "image/png": "[encoded data removed]"
          },
          "metadata": {}
        },
        {
          "output_type": "stream",
          "name": "stderr",
          "text": [
            "/usr/local/lib/python3.7/dist-packages/seaborn/_decorators.py:43: FutureWarning: Pass the following variable as a keyword arg: x. From version 0.12, the only valid positional argument will be `data`, and passing other arguments without an explicit keyword will result in an error or misinterpretation.\n",
            "  FutureWarning\n"
          ]
        },
        {
          "output_type": "display_data",
          "data": {
            "text/plain": [
              "<Figure size 600x400 with 1 Axes>"
            ],
            "image/png": "[encoded data removed]"
          },
          "metadata": {}
        },
        {
          "output_type": "stream",
          "name": "stderr",
          "text": [
            "/usr/local/lib/python3.7/dist-packages/seaborn/_decorators.py:43: FutureWarning: Pass the following variable as a keyword arg: x. From version 0.12, the only valid positional argument will be `data`, and passing other arguments without an explicit keyword will result in an error or misinterpretation.\n",
            "  FutureWarning\n"
          ]
        },
        {
          "output_type": "display_data",
          "data": {
            "text/plain": [
              "<Figure size 600x400 with 1 Axes>"
            ],
            "image/png": "[encoded data removed]"
          },
          "metadata": {}
        },
        {
          "output_type": "stream",
          "name": "stderr",
          "text": [
            "/usr/local/lib/python3.7/dist-packages/seaborn/_decorators.py:43: FutureWarning: Pass the following variable as a keyword arg: x. From version 0.12, the only valid positional argument will be `data`, and passing other arguments without an explicit keyword will result in an error or misinterpretation.\n",
            "  FutureWarning\n"
          ]
        },
        {
          "output_type": "display_data",
          "data": {
            "text/plain": [
              "<Figure size 600x400 with 1 Axes>"
            ],
            "image/png": "[encoded data removed]"
          },
          "metadata": {}
        },
        {
          "output_type": "stream",
          "name": "stderr",
          "text": [
            "/usr/local/lib/python3.7/dist-packages/seaborn/_decorators.py:43: FutureWarning: Pass the following variable as a keyword arg: x. From version 0.12, the only valid positional argument will be `data`, and passing other arguments without an explicit keyword will result in an error or misinterpretation.\n",
            "  FutureWarning\n"
          ]
        },
        {
          "output_type": "display_data",
          "data": {
            "text/plain": [
              "<Figure size 600x400 with 1 Axes>"
            ],
            "image/png": "[encoded data removed]"
          },
          "metadata": {}
        },
        {
          "output_type": "stream",
          "name": "stderr",
          "text": [
            "/usr/local/lib/python3.7/dist-packages/seaborn/_decorators.py:43: FutureWarning: Pass the following variable as a keyword arg: x. From version 0.12, the only valid positional argument will be `data`, and passing other arguments without an explicit keyword will result in an error or misinterpretation.\n",
            "  FutureWarning\n"
          ]
        },
        {
          "output_type": "display_data",
          "data": {
            "text/plain": [
              "<Figure size 600x400 with 1 Axes>"
            ],
            "image/png": "[encoded data removed]"
          },
          "metadata": {}
        },
        {
          "output_type": "stream",
          "name": "stderr",
          "text": [
            "/usr/local/lib/python3.7/dist-packages/seaborn/_decorators.py:43: FutureWarning: Pass the following variable as a keyword arg: x. From version 0.12, the only valid positional argument will be `data`, and passing other arguments without an explicit keyword will result in an error or misinterpretation.\n",
            "  FutureWarning\n"
          ]
        },
        {
          "output_type": "display_data",
          "data": {
            "text/plain": [
              "<Figure size 600x400 with 1 Axes>"
            ],
            "image/png": "[encoded data removed]"
          },
          "metadata": {}
        },
        {
          "output_type": "stream",
          "name": "stderr",
          "text": [
            "/usr/local/lib/python3.7/dist-packages/seaborn/_decorators.py:43: FutureWarning: Pass the following variable as a keyword arg: x. From version 0.12, the only valid positional argument will be `data`, and passing other arguments without an explicit keyword will result in an error or misinterpretation.\n",
            "  FutureWarning\n"
          ]
        },
        {
          "output_type": "display_data",
          "data": {
            "text/plain": [
              "<Figure size 600x400 with 1 Axes>"
            ],
            "image/png": "[encoded data removed]"
          },
          "metadata": {}
        },
        {
          "output_type": "stream",
          "name": "stderr",
          "text": [
            "/usr/local/lib/python3.7/dist-packages/seaborn/_decorators.py:43: FutureWarning: Pass the following variable as a keyword arg: x. From version 0.12, the only valid positional argument will be `data`, and passing other arguments without an explicit keyword will result in an error or misinterpretation.\n",
            "  FutureWarning\n"
          ]
        },
        {
          "output_type": "display_data",
          "data": {
            "text/plain": [
              "<Figure size 600x400 with 1 Axes>"
            ],
            "image/png": "[encoded data removed]"
          },
          "metadata": {}
        },
        {
          "output_type": "stream",
          "name": "stderr",
          "text": [
            "/usr/local/lib/python3.7/dist-packages/seaborn/_decorators.py:43: FutureWarning: Pass the following variable as a keyword arg: x. From version 0.12, the only valid positional argument will be `data`, and passing other arguments without an explicit keyword will result in an error or misinterpretation.\n",
            "  FutureWarning\n"
          ]
        },
        {
          "output_type": "display_data",
          "data": {
            "text/plain": [
              "<Figure size 600x400 with 1 Axes>"
            ],
            "image/png": "[encoded data removed]"
          },
          "metadata": {}
        },
        {
          "output_type": "stream",
          "name": "stderr",
          "text": [
            "/usr/local/lib/python3.7/dist-packages/seaborn/_decorators.py:43: FutureWarning: Pass the following variable as a keyword arg: x. From version 0.12, the only valid positional argument will be `data`, and passing other arguments without an explicit keyword will result in an error or misinterpretation.\n",
            "  FutureWarning\n"
          ]
        },
        {
          "output_type": "display_data",
          "data": {
            "text/plain": [
              "<Figure size 600x400 with 1 Axes>"
            ],
            "image/png": "[encoded data removed]"
          },
          "metadata": {}
        },
        {
          "output_type": "stream",
          "name": "stderr",
          "text": [
            "/usr/local/lib/python3.7/dist-packages/seaborn/_decorators.py:43: FutureWarning: Pass the following variable as a keyword arg: x. From version 0.12, the only valid positional argument will be `data`, and passing other arguments without an explicit keyword will result in an error or misinterpretation.\n",
            "  FutureWarning\n"
          ]
        },
        {
          "output_type": "display_data",
          "data": {
            "text/plain": [
              "<Figure size 600x400 with 1 Axes>"
            ],
            "image/png": "[encoded data removed]"
          },
          "metadata": {}
        },
        {
          "output_type": "stream",
          "name": "stderr",
          "text": [
            "/usr/local/lib/python3.7/dist-packages/seaborn/_decorators.py:43: FutureWarning: Pass the following variable as a keyword arg: x. From version 0.12, the only valid positional argument will be `data`, and passing other arguments without an explicit keyword will result in an error or misinterpretation.\n",
            "  FutureWarning\n"
          ]
        },
        {
          "output_type": "display_data",
          "data": {
            "text/plain": [
              "<Figure size 600x400 with 1 Axes>"
            ],
            "image/png": "[encoded data removed]"
          },
          "metadata": {}
        },
        {
          "output_type": "stream",
          "name": "stderr",
          "text": [
            "/usr/local/lib/python3.7/dist-packages/seaborn/_decorators.py:43: FutureWarning: Pass the following variable as a keyword arg: x. From version 0.12, the only valid positional argument will be `data`, and passing other arguments without an explicit keyword will result in an error or misinterpretation.\n",
            "  FutureWarning\n"
          ]
        },
        {
          "output_type": "display_data",
          "data": {
            "text/plain": [
              "<Figure size 600x400 with 1 Axes>"
            ],
            "image/png": "[encoded data removed]"
          },
          "metadata": {}
        },
        {
          "output_type": "stream",
          "name": "stderr",
          "text": [
            "/usr/local/lib/python3.7/dist-packages/seaborn/_decorators.py:43: FutureWarning: Pass the following variable as a keyword arg: x. From version 0.12, the only valid positional argument will be `data`, and passing other arguments without an explicit keyword will result in an error or misinterpretation.\n",
            "  FutureWarning\n"
          ]
        },
        {
          "output_type": "display_data",
          "data": {
            "text/plain": [
              "<Figure size 600x400 with 1 Axes>"
            ],
            "image/png": "[encoded data removed]"
          },
          "metadata": {}
        },
        {
          "output_type": "stream",
          "name": "stderr",
          "text": [
            "/usr/local/lib/python3.7/dist-packages/seaborn/_decorators.py:43: FutureWarning: Pass the following variable as a keyword arg: x. From version 0.12, the only valid positional argument will be `data`, and passing other arguments without an explicit keyword will result in an error or misinterpretation.\n",
            "  FutureWarning\n"
          ]
        },
        {
          "output_type": "display_data",
          "data": {
            "text/plain": [
              "<Figure size 600x400 with 1 Axes>"
            ],
            "image/png": "[encoded data removed]"
          },
          "metadata": {}
        }
      ],
      "source": [
        "cols = ['Institute', 'Subject', 'Location', 'Trainer_Qualification',\n",
        "       'Online_classes', 'Offline_classes', 'Course_level', 'Placements',\n",
        "       'Certificate', 'Trainer_experiance', 'Course_hours', 'Course_rating',\n",
        "       'Rental_permises', 'Trainer_slary', 'Maintaince_cost',\n",
        "       'Non_teaching_staff_salary', 'Price']\n",
        "\n",
        "## check ing outliers\n",
        "import seaborn as sns\n",
        "import matplotlib.pyplot as plt\n",
        "\n",
        "for i in cols:\n",
        "    sns.boxplot(data[i]); plt.show() "
      ]
    },
    {
      "cell_type": "markdown",
      "id": "28dcac9c",
      "metadata": {
        "id": "28dcac9c"
      },
      "source": [
        "* No outliers"
      ]
    },
    {
      "cell_type": "code",
      "execution_count": null,
      "id": "1103e54a",
      "metadata": {
        "colab": {
          "base_uri": "https://localhost:8080/"
        },
        "id": "1103e54a",
        "outputId": "2fb03b0b-f80f-4847-901f-415bdde2d274"
      },
      "outputs": [
        {
          "output_type": "execute_result",
          "data": {
            "text/plain": [
              "Institute                        16.826245\n",
              "Subject                           8.763737\n",
              "Location                          6.746456\n",
              "Trainer_Qualification             0.649945\n",
              "Online_classes                    0.247728\n",
              "Offline_classes                   0.249909\n",
              "Course_level                      0.657346\n",
              "Placements                        0.250324\n",
              "Certificate                       0.000000\n",
              "Trainer_experiance               30.425482\n",
              "Course_hours                   2255.547924\n",
              "Course_rating                     1.482137\n",
              "Rental_permises                1532.557346\n",
              "Trainer_slary                 30434.592308\n",
              "Maintaince_cost                1519.115972\n",
              "Non_teaching_staff_salary      2567.271523\n",
              "Price                        118210.217499\n",
              "dtype: float64"
            ]
          },
          "metadata": {},
          "execution_count": 17
        }
      ],
      "source": [
        "# Checking variance #\n",
        "data.var()"
      ]
    },
    {
      "cell_type": "code",
      "execution_count": null,
      "id": "d622fdab",
      "metadata": {
        "colab": {
          "base_uri": "https://localhost:8080/"
        },
        "id": "d622fdab",
        "outputId": "d3ddfbff-3f97-4c40-f4d5-65f8cce7f596"
      },
      "outputs": [
        {
          "output_type": "execute_result",
          "data": {
            "text/plain": [
              "Index(['Institute', 'Subject', 'Location', 'Trainer_Qualification',\n",
              "       'Online_classes', 'Offline_classes', 'Course_level', 'Placements',\n",
              "       'Trainer_experiance', 'Course_hours', 'Course_rating',\n",
              "       'Rental_permises', 'Trainer_slary', 'Maintaince_cost',\n",
              "       'Non_teaching_staff_salary', 'Price'],\n",
              "      dtype='object')"
            ]
          },
          "metadata": {},
          "execution_count": 18
        }
      ],
      "source": [
        "## Certificate column has zero variance, so drop it\n",
        "data.drop(['Certificate'], axis = 1, inplace = True)\n",
        "data.columns"
      ]
    },
    {
      "cell_type": "code",
      "execution_count": null,
      "id": "605886d6",
      "metadata": {
        "colab": {
          "base_uri": "https://localhost:8080/"
        },
        "id": "605886d6",
        "outputId": "5a02664d-a721-4536-cb70-65043cfff091"
      },
      "outputs": [
        {
          "output_type": "execute_result",
          "data": {
            "text/plain": [
              "(525, 16)"
            ]
          },
          "metadata": {},
          "execution_count": 19
        }
      ],
      "source": [
        "data.shape"
      ]
    },
    {
      "cell_type": "code",
      "execution_count": null,
      "id": "955c1d4d",
      "metadata": {
        "colab": {
          "base_uri": "https://localhost:8080/",
          "height": 806
        },
        "id": "955c1d4d",
        "outputId": "c4b0a1ea-5dcb-46b8-9881-f156f7daced1"
      },
      "outputs": [
        {
          "output_type": "stream",
          "name": "stderr",
          "text": [
            "/usr/local/lib/python3.7/dist-packages/statsmodels/tools/_testing.py:19: FutureWarning: pandas.util.testing is deprecated. Use the functions in the public API at pandas.testing instead.\n",
            "  import pandas.util.testing as tm\n"
          ]
        },
        {
          "output_type": "execute_result",
          "data": {
            "text/plain": [
              "<class 'statsmodels.iolib.summary.Summary'>\n",
              "\"\"\"\n",
              "                            OLS Regression Results                            \n",
              "==============================================================================\n",
              "Dep. Variable:                  Price   R-squared:                       0.989\n",
              "Model:                            OLS   Adj. R-squared:                  0.989\n",
              "Method:                 Least Squares   F-statistic:                     3354.\n",
              "Date:                Sat, 09 Jul 2022   Prob (F-statistic):               0.00\n",
              "Time:                        16:08:15   Log-Likelihood:                -2620.5\n",
              "No. Observations:                 525   AIC:                             5271.\n",
              "Df Residuals:                     510   BIC:                             5335.\n",
              "Df Model:                          14                                         \n",
              "Covariance Type:            nonrobust                                         \n",
              "=============================================================================================\n",
              "                                coef    std err          t      P>|t|      [0.025      0.975]\n",
              "---------------------------------------------------------------------------------------------\n",
              "Intercept                    64.3284     13.243      4.858      0.000      38.311      90.346\n",
              "Institute                     0.7490      0.394      1.899      0.058      -0.026       1.524\n",
              "Subject                      -0.3616      0.556     -0.650      0.516      -1.455       0.731\n",
              "Location                      0.3169      0.623      0.509      0.611      -0.907       1.541\n",
              "Trainer_Qualification         1.4185      2.017      0.703      0.482      -2.544       5.381\n",
              "Online_classes               -0.0601      3.233     -0.019      0.985      -6.411       6.291\n",
              "Offline_classes              -4.1354      3.212     -1.287      0.199     -10.446       2.175\n",
              "Course_level                  1.8705      1.994      0.938      0.349      -2.046       5.787\n",
              "Course_hours                  1.8423      0.252      7.321      0.000       1.348       2.337\n",
              "Course_rating                 5.2488      4.940      1.063      0.288      -4.456      14.954\n",
              "Rental_permises               3.6064      0.467      7.723      0.000       2.689       4.524\n",
              "Trainer_slary                 0.0805      0.074      1.082      0.280      -0.066       0.227\n",
              "Maintaince_cost               0.2670      0.271      0.986      0.324      -0.265       0.799\n",
              "Non_teaching_staff_salary     1.6797      0.160     10.468      0.000       1.364       1.995\n",
              "Placements                   -1.1023      3.211     -0.343      0.731      -7.410       5.205\n",
              "==============================================================================\n",
              "Omnibus:                      275.332   Durbin-Watson:                   1.639\n",
              "Prob(Omnibus):                  0.000   Jarque-Bera (JB):            10473.592\n",
              "Skew:                           1.613   Prob(JB):                         0.00\n",
              "Kurtosis:                      24.642   Cond. No.                     4.93e+03\n",
              "==============================================================================\n",
              "\n",
              "Warnings:\n",
              "[1] Standard Errors assume that the covariance matrix of the errors is correctly specified.\n",
              "[2] The condition number is large, 4.93e+03. This might indicate that there are\n",
              "strong multicollinearity or other numerical problems.\n",
              "\"\"\""
            ],
            "text/html": [
              "<table class=\"simpletable\">\n",
              "<caption>OLS Regression Results</caption>\n",
              "<tr>\n",
              "  <th>Dep. Variable:</th>          <td>Price</td>      <th>  R-squared:         </th> <td>   0.989</td>\n",
              "</tr>\n",
              "<tr>\n",
              "  <th>Model:</th>                   <td>OLS</td>       <th>  Adj. R-squared:    </th> <td>   0.989</td>\n",
              "</tr>\n",
              "<tr>\n",
              "  <th>Method:</th>             <td>Least Squares</td>  <th>  F-statistic:       </th> <td>   3354.</td>\n",
              "</tr>\n",
              "<tr>\n",
              "  <th>Date:</th>             <td>Sat, 09 Jul 2022</td> <th>  Prob (F-statistic):</th>  <td>  0.00</td> \n",
              "</tr>\n",
              "<tr>\n",
              "  <th>Time:</th>                 <td>16:08:15</td>     <th>  Log-Likelihood:    </th> <td> -2620.5</td>\n",
              "</tr>\n",
              "<tr>\n",
              "  <th>No. Observations:</th>      <td>   525</td>      <th>  AIC:               </th> <td>   5271.</td>\n",
              "</tr>\n",
              "<tr>\n",
              "  <th>Df Residuals:</th>          <td>   510</td>      <th>  BIC:               </th> <td>   5335.</td>\n",
              "</tr>\n",
              "<tr>\n",
              "  <th>Df Model:</th>              <td>    14</td>      <th>                     </th>     <td> </td>   \n",
              "</tr>\n",
              "<tr>\n",
              "  <th>Covariance Type:</th>      <td>nonrobust</td>    <th>                     </th>     <td> </td>   \n",
              "</tr>\n",
              "</table>\n",
              "<table class=\"simpletable\">\n",
              "<tr>\n",
              "              <td></td>                 <th>coef</th>     <th>std err</th>      <th>t</th>      <th>P>|t|</th>  <th>[0.025</th>    <th>0.975]</th>  \n",
              "</tr>\n",
              "<tr>\n",
              "  <th>Intercept</th>                 <td>   64.3284</td> <td>   13.243</td> <td>    4.858</td> <td> 0.000</td> <td>   38.311</td> <td>   90.346</td>\n",
              "</tr>\n",
              "<tr>\n",
              "  <th>Institute</th>                 <td>    0.7490</td> <td>    0.394</td> <td>    1.899</td> <td> 0.058</td> <td>   -0.026</td> <td>    1.524</td>\n",
              "</tr>\n",
              "<tr>\n",
              "  <th>Subject</th>                   <td>   -0.3616</td> <td>    0.556</td> <td>   -0.650</td> <td> 0.516</td> <td>   -1.455</td> <td>    0.731</td>\n",
              "</tr>\n",
              "<tr>\n",
              "  <th>Location</th>                  <td>    0.3169</td> <td>    0.623</td> <td>    0.509</td> <td> 0.611</td> <td>   -0.907</td> <td>    1.541</td>\n",
              "</tr>\n",
              "<tr>\n",
              "  <th>Trainer_Qualification</th>     <td>    1.4185</td> <td>    2.017</td> <td>    0.703</td> <td> 0.482</td> <td>   -2.544</td> <td>    5.381</td>\n",
              "</tr>\n",
              "<tr>\n",
              "  <th>Online_classes</th>            <td>   -0.0601</td> <td>    3.233</td> <td>   -0.019</td> <td> 0.985</td> <td>   -6.411</td> <td>    6.291</td>\n",
              "</tr>\n",
              "<tr>\n",
              "  <th>Offline_classes</th>           <td>   -4.1354</td> <td>    3.212</td> <td>   -1.287</td> <td> 0.199</td> <td>  -10.446</td> <td>    2.175</td>\n",
              "</tr>\n",
              "<tr>\n",
              "  <th>Course_level</th>              <td>    1.8705</td> <td>    1.994</td> <td>    0.938</td> <td> 0.349</td> <td>   -2.046</td> <td>    5.787</td>\n",
              "</tr>\n",
              "<tr>\n",
              "  <th>Course_hours</th>              <td>    1.8423</td> <td>    0.252</td> <td>    7.321</td> <td> 0.000</td> <td>    1.348</td> <td>    2.337</td>\n",
              "</tr>\n",
              "<tr>\n",
              "  <th>Course_rating</th>             <td>    5.2488</td> <td>    4.940</td> <td>    1.063</td> <td> 0.288</td> <td>   -4.456</td> <td>   14.954</td>\n",
              "</tr>\n",
              "<tr>\n",
              "  <th>Rental_permises</th>           <td>    3.6064</td> <td>    0.467</td> <td>    7.723</td> <td> 0.000</td> <td>    2.689</td> <td>    4.524</td>\n",
              "</tr>\n",
              "<tr>\n",
              "  <th>Trainer_slary</th>             <td>    0.0805</td> <td>    0.074</td> <td>    1.082</td> <td> 0.280</td> <td>   -0.066</td> <td>    0.227</td>\n",
              "</tr>\n",
              "<tr>\n",
              "  <th>Maintaince_cost</th>           <td>    0.2670</td> <td>    0.271</td> <td>    0.986</td> <td> 0.324</td> <td>   -0.265</td> <td>    0.799</td>\n",
              "</tr>\n",
              "<tr>\n",
              "  <th>Non_teaching_staff_salary</th> <td>    1.6797</td> <td>    0.160</td> <td>   10.468</td> <td> 0.000</td> <td>    1.364</td> <td>    1.995</td>\n",
              "</tr>\n",
              "<tr>\n",
              "  <th>Placements</th>                <td>   -1.1023</td> <td>    3.211</td> <td>   -0.343</td> <td> 0.731</td> <td>   -7.410</td> <td>    5.205</td>\n",
              "</tr>\n",
              "</table>\n",
              "<table class=\"simpletable\">\n",
              "<tr>\n",
              "  <th>Omnibus:</th>       <td>275.332</td> <th>  Durbin-Watson:     </th> <td>   1.639</td> \n",
              "</tr>\n",
              "<tr>\n",
              "  <th>Prob(Omnibus):</th> <td> 0.000</td>  <th>  Jarque-Bera (JB):  </th> <td>10473.592</td>\n",
              "</tr>\n",
              "<tr>\n",
              "  <th>Skew:</th>          <td> 1.613</td>  <th>  Prob(JB):          </th> <td>    0.00</td> \n",
              "</tr>\n",
              "<tr>\n",
              "  <th>Kurtosis:</th>      <td>24.642</td>  <th>  Cond. No.          </th> <td>4.93e+03</td> \n",
              "</tr>\n",
              "</table><br/><br/>Warnings:<br/>[1] Standard Errors assume that the covariance matrix of the errors is correctly specified.<br/>[2] The condition number is large, 4.93e+03. This might indicate that there are<br/>strong multicollinearity or other numerical problems."
            ]
          },
          "metadata": {},
          "execution_count": 20
        }
      ],
      "source": [
        "# Regression model\n",
        "import statsmodels.formula.api as smf \n",
        "         \n",
        "ml1 = smf.ols('Price ~ Institute + Subject + Location + Trainer_Qualification + Online_classes + Offline_classes + Course_level + Course_hours + Course_rating + Rental_permises + Trainer_slary + Maintaince_cost + Non_teaching_staff_salary + Placements', data = data).fit() # regression model\n",
        "\n",
        "# Summary\n",
        "ml1.summary()"
      ]
    },
    {
      "cell_type": "markdown",
      "id": "ab618dd6",
      "metadata": {
        "id": "ab618dd6"
      },
      "source": [
        "* p-values of few columns(Subject,Location, Trainer_Qualification, online_class, offline_class,Course_level,Course_rating, Trainer_salary, Maintence_cost, placements) are more than 0.05(5%) and remaining are less than 0.05(5%)"
      ]
    },
    {
      "cell_type": "code",
      "execution_count": null,
      "id": "f6f89e18",
      "metadata": {
        "colab": {
          "base_uri": "https://localhost:8080/",
          "height": 821
        },
        "id": "f6f89e18",
        "outputId": "565427d3-03f4-48fa-b8a3-263e29a1e913"
      },
      "outputs": [
        {
          "output_type": "execute_result",
          "data": {
            "text/plain": [
              "<Figure size 600x400 with 1 Axes>"
            ],
            "image/png": "[encoded data removed]"
          },
          "metadata": {},
          "execution_count": 21
        },
        {
          "output_type": "display_data",
          "data": {
            "text/plain": [
              "<Figure size 600x400 with 1 Axes>"
            ],
            "image/png": "[encoded data removed]"
          },
          "metadata": {}
        }
      ],
      "source": [
        "# Checking whether data has any influential values \n",
        "# Influence Index Plots\n",
        "import statsmodels.api as sm\n",
        "\n",
        "sm.graphics.influence_plot(ml1)\n",
        "# Studentized Residuals = Residual/standard deviation of residuals"
      ]
    },
    {
      "cell_type": "markdown",
      "id": "204d3179",
      "metadata": {
        "id": "204d3179"
      },
      "source": [
        "* From my observation no influencer points."
      ]
    },
    {
      "cell_type": "code",
      "execution_count": null,
      "id": "ab411623",
      "metadata": {
        "colab": {
          "base_uri": "https://localhost:8080/"
        },
        "id": "ab411623",
        "outputId": "a7920007-9a74-419c-cd97-6b241213618d"
      },
      "outputs": [
        {
          "output_type": "stream",
          "name": "stdout",
          "text": [
            "                      feature         VIF\n",
            "0                   Institute    3.727864\n",
            "1                     Subject    3.675821\n",
            "2                    Location    3.247619\n",
            "3       Trainer_Qualification    2.574542\n",
            "4              Online_classes    1.874597\n",
            "5             Offline_classes    1.975294\n",
            "6                Course_level    2.758563\n",
            "7                  Placements    2.004485\n",
            "8          Trainer_experiance  206.645226\n",
            "9                Course_hours  511.338172\n",
            "10              Course_rating   94.529550\n",
            "11            Rental_permises  469.894176\n",
            "12              Trainer_slary  341.113548\n",
            "13            Maintaince_cost  257.458984\n",
            "14  Non_teaching_staff_salary  206.160549\n"
          ]
        }
      ],
      "source": [
        "# Check for Colinearity to decide to remove a variable using VIF (variance influcence factor)\n",
        "# Assumption: VIF > 10 = colinearity exist :VIF= (1/1-R^2)\n",
        "# calculating VIF's values of independent variables\n",
        "\n",
        "from statsmodels.stats.outliers_influence import variance_inflation_factor\n",
        "\n",
        "X = data[list(data.select_dtypes(include = ['int64', 'float64']).columns)]\n",
        "\n",
        "# Profit feature is dependent or out put feature so we are deleting\n",
        "X = X.drop('Price', axis = 1)\n",
        "\n",
        "## VIF dataframe\n",
        "vif_data = pd.DataFrame()\n",
        "vif_data[\"feature\"] = X.columns\n",
        "\n",
        "## calculating VIF for each feature\n",
        "vif_data[\"VIF\"] = [variance_inflation_factor(X.values, i)\n",
        "                   for i in range(len(X.columns))]\n",
        "print(vif_data)\n"
      ]
    },
    {
      "cell_type": "markdown",
      "id": "0ac9f0e2",
      "metadata": {
        "id": "0ac9f0e2"
      },
      "source": [
        "* VIF of few columns are less than 10, and few are greater than 10."
      ]
    },
    {
      "cell_type": "markdown",
      "id": "0b07672e",
      "metadata": {
        "id": "0b07672e"
      },
      "source": [
        "### Split the data set into train and test"
      ]
    },
    {
      "cell_type": "code",
      "execution_count": null,
      "id": "f7804adc",
      "metadata": {
        "id": "f7804adc"
      },
      "outputs": [],
      "source": [
        "# Split the data set into train(80% of the data) and test(20% of the data)\n",
        "from sklearn.model_selection import train_test_split\n",
        "x_train, x_test, y_train, y_test = train_test_split(data.drop(\"Price\", axis = 1), data.Price, test_size = 0.2, random_state = 42)"
      ]
    },
    {
      "cell_type": "code",
      "execution_count": null,
      "id": "057d4654",
      "metadata": {
        "colab": {
          "base_uri": "https://localhost:8080/"
        },
        "id": "057d4654",
        "outputId": "7f67195d-f797-4769-fef5-32340edb2e9f"
      },
      "outputs": [
        {
          "output_type": "stream",
          "name": "stdout",
          "text": [
            "(420, 15)\n",
            "(420,)\n",
            "(105, 15)\n",
            "(105,)\n"
          ]
        }
      ],
      "source": [
        "print(x_train.shape)\n",
        "print(y_train.shape)\n",
        "print(x_test.shape)\n",
        "print(y_test.shape)\n"
      ]
    },
    {
      "cell_type": "markdown",
      "id": "00f82756",
      "metadata": {
        "id": "00f82756"
      },
      "source": [
        "# Model Building"
      ]
    },
    {
      "cell_type": "code",
      "execution_count": null,
      "id": "648f2f92",
      "metadata": {
        "colab": {
          "base_uri": "https://localhost:8080/"
        },
        "id": "648f2f92",
        "outputId": "e7590cc2-f0e3-40a9-df75-2b659c812e94"
      },
      "outputs": [
        {
          "output_type": "execute_result",
          "data": {
            "text/plain": [
              "52.15919562049208"
            ]
          },
          "metadata": {},
          "execution_count": 25
        }
      ],
      "source": [
        "import numpy as np\n",
        "from sklearn.linear_model import LinearRegression\n",
        "from sklearn.metrics import mean_squared_error, make_scorer\n",
        "rmse =lambda y, y_hat: np.sqrt(mean_squared_error(y, y_hat))\n",
        "\n",
        "lm = LinearRegression()\n",
        "lm.fit(x_train, y_train)\n",
        "\n",
        "lm_preds = lm.predict(x_test)\n",
        "rmse(y_test, lm_preds)"
      ]
    },
    {
      "cell_type": "code",
      "source": [
        "lm.fit(x_train, y_train)\n",
        "\n",
        "y_pred_test = lm.predict(x_test)\n",
        "\n",
        "result_test = pd.DataFrame({'Actual':y_test, \"Predicted\": y_pred_test})\n",
        "result_test.head(10)"
      ],
      "metadata": {
        "colab": {
          "base_uri": "https://localhost:8080/",
          "height": 363
        },
        "id": "sgNU1ksCgbYO",
        "outputId": "995ae1ee-4323-4781-8987-47fd5fd70221"
      },
      "id": "sgNU1ksCgbYO",
      "execution_count": null,
      "outputs": [
        {
          "output_type": "execute_result",
          "data": {
            "text/plain": [
              "     Actual    Predicted\n",
              "310     425   426.945740\n",
              "390    1225  1241.015985\n",
              "6       429   498.877025\n",
              "184     660   651.249150\n",
              "78      777   818.861698\n",
              "407     574   576.571373\n",
              "524    1187  1223.457670\n",
              "487     657   650.165254\n",
              "117     694   681.081107\n",
              "137     745   752.540374"
            ],
            "text/html": [
              "\n",
              "  <div id=\"df-b6c22d50-211b-4f76-8b88-a8f743113ca7\">\n",
              "    <div class=\"colab-df-container\">\n",
              "      <div>\n",
              "<style scoped>\n",
              "    .dataframe tbody tr th:only-of-type {\n",
              "        vertical-align: middle;\n",
              "    }\n",
              "\n",
              "    .dataframe tbody tr th {\n",
              "        vertical-align: top;\n",
              "    }\n",
              "\n",
              "    .dataframe thead th {\n",
              "        text-align: right;\n",
              "    }\n",
              "</style>\n",
              "<table border=\"1\" class=\"dataframe\">\n",
              "  <thead>\n",
              "    <tr style=\"text-align: right;\">\n",
              "      <th></th>\n",
              "      <th>Actual</th>\n",
              "      <th>Predicted</th>\n",
              "    </tr>\n",
              "  </thead>\n",
              "  <tbody>\n",
              "    <tr>\n",
              "      <th>310</th>\n",
              "      <td>425</td>\n",
              "      <td>426.945740</td>\n",
              "    </tr>\n",
              "    <tr>\n",
              "      <th>390</th>\n",
              "      <td>1225</td>\n",
              "      <td>1241.015985</td>\n",
              "    </tr>\n",
              "    <tr>\n",
              "      <th>6</th>\n",
              "      <td>429</td>\n",
              "      <td>498.877025</td>\n",
              "    </tr>\n",
              "    <tr>\n",
              "      <th>184</th>\n",
              "      <td>660</td>\n",
              "      <td>651.249150</td>\n",
              "    </tr>\n",
              "    <tr>\n",
              "      <th>78</th>\n",
              "      <td>777</td>\n",
              "      <td>818.861698</td>\n",
              "    </tr>\n",
              "    <tr>\n",
              "      <th>407</th>\n",
              "      <td>574</td>\n",
              "      <td>576.571373</td>\n",
              "    </tr>\n",
              "    <tr>\n",
              "      <th>524</th>\n",
              "      <td>1187</td>\n",
              "      <td>1223.457670</td>\n",
              "    </tr>\n",
              "    <tr>\n",
              "      <th>487</th>\n",
              "      <td>657</td>\n",
              "      <td>650.165254</td>\n",
              "    </tr>\n",
              "    <tr>\n",
              "      <th>117</th>\n",
              "      <td>694</td>\n",
              "      <td>681.081107</td>\n",
              "    </tr>\n",
              "    <tr>\n",
              "      <th>137</th>\n",
              "      <td>745</td>\n",
              "      <td>752.540374</td>\n",
              "    </tr>\n",
              "  </tbody>\n",
              "</table>\n",
              "</div>\n",
              "      <button class=\"colab-df-convert\" onclick=\"convertToInteractive('df-b6c22d50-211b-4f76-8b88-a8f743113ca7')\"\n",
              "              title=\"Convert this dataframe to an interactive table.\"\n",
              "              style=\"display:none;\">\n",
              "        \n",
              "  <svg xmlns=\"http://www.w3.org/2000/svg\" height=\"24px\"viewBox=\"0 0 24 24\"\n",
              "       width=\"24px\">\n",
              "    <path d=\"M0 0h24v24H0V0z\" fill=\"none\"/>\n",
              "    <path d=\"M18.56 5.44l.94 2.06.94-2.06 2.06-.94-2.06-.94-.94-2.06-.94 2.06-2.06.94zm-11 1L8.5 8.5l.94-2.06 2.06-.94-2.06-.94L8.5 2.5l-.94 2.06-2.06.94zm10 10l.94 2.06.94-2.06 2.06-.94-2.06-.94-.94-2.06-.94 2.06-2.06.94z\"/><path d=\"M17.41 7.96l-1.37-1.37c-.4-.4-.92-.59-1.43-.59-.52 0-1.04.2-1.43.59L10.3 9.45l-7.72 7.72c-.78.78-.78 2.05 0 2.83L4 21.41c.39.39.9.59 1.41.59.51 0 1.02-.2 1.41-.59l7.78-7.78 2.81-2.81c.8-.78.8-2.07 0-2.86zM5.41 20L4 18.59l7.72-7.72 1.47 1.35L5.41 20z\"/>\n",
              "  </svg>\n",
              "      </button>\n",
              "      \n",
              "  <style>\n",
              "    .colab-df-container {\n",
              "      display:flex;\n",
              "      flex-wrap:wrap;\n",
              "      gap: 12px;\n",
              "    }\n",
              "\n",
              "    .colab-df-convert {\n",
              "      background-color: #E8F0FE;\n",
              "      border: none;\n",
              "      border-radius: 50%;\n",
              "      cursor: pointer;\n",
              "      display: none;\n",
              "      fill: #1967D2;\n",
              "      height: 32px;\n",
              "      padding: 0 0 0 0;\n",
              "      width: 32px;\n",
              "    }\n",
              "\n",
              "    .colab-df-convert:hover {\n",
              "      background-color: #E2EBFA;\n",
              "      box-shadow: 0px 1px 2px rgba(60, 64, 67, 0.3), 0px 1px 3px 1px rgba(60, 64, 67, 0.15);\n",
              "      fill: #174EA6;\n",
              "    }\n",
              "\n",
              "    [theme=dark] .colab-df-convert {\n",
              "      background-color: #3B4455;\n",
              "      fill: #D2E3FC;\n",
              "    }\n",
              "\n",
              "    [theme=dark] .colab-df-convert:hover {\n",
              "      background-color: #434B5C;\n",
              "      box-shadow: 0px 1px 3px 1px rgba(0, 0, 0, 0.15);\n",
              "      filter: drop-shadow(0px 1px 2px rgba(0, 0, 0, 0.3));\n",
              "      fill: #FFFFFF;\n",
              "    }\n",
              "  </style>\n",
              "\n",
              "      <script>\n",
              "        const buttonEl =\n",
              "          document.querySelector('#df-b6c22d50-211b-4f76-8b88-a8f743113ca7 button.colab-df-convert');\n",
              "        buttonEl.style.display =\n",
              "          google.colab.kernel.accessAllowed ? 'block' : 'none';\n",
              "\n",
              "        async function convertToInteractive(key) {\n",
              "          const element = document.querySelector('#df-b6c22d50-211b-4f76-8b88-a8f743113ca7');\n",
              "          const dataTable =\n",
              "            await google.colab.kernel.invokeFunction('convertToInteractive',\n",
              "                                                     [key], {});\n",
              "          if (!dataTable) return;\n",
              "\n",
              "          const docLinkHtml = 'Like what you see? Visit the ' +\n",
              "            '<a target=\"_blank\" href=https://colab.research.google.com/notebooks/data_table.ipynb>data table notebook</a>'\n",
              "            + ' to learn more about interactive tables.';\n",
              "          element.innerHTML = '';\n",
              "          dataTable['output_type'] = 'display_data';\n",
              "          await google.colab.output.renderOutput(dataTable, element);\n",
              "          const docLink = document.createElement('div');\n",
              "          docLink.innerHTML = docLinkHtml;\n",
              "          element.appendChild(docLink);\n",
              "        }\n",
              "      </script>\n",
              "    </div>\n",
              "  </div>\n",
              "  "
            ]
          },
          "metadata": {},
          "execution_count": 26
        }
      ]
    },
    {
      "cell_type": "code",
      "source": [
        "## importing r2_score module\n",
        "from sklearn.metrics import r2_score\n",
        "from sklearn.metrics import mean_squared_error\n",
        "\n",
        "# predicting the accuracy score\n",
        "score_test = r2_score(y_test, y_pred_test)\n",
        "\n",
        "print('R2 score(test): ', score_test)\n",
        "print('Mean squared error(test): ', mean_squared_error(y_test, y_pred_test))\n",
        "print('Root Mean squared error(test): ', np.sqrt(mean_squared_error(y_test, y_pred_test)))"
      ],
      "metadata": {
        "colab": {
          "base_uri": "https://localhost:8080/"
        },
        "id": "nRQTgg9Bgmie",
        "outputId": "b5540c82-fe91-4f17-e5b7-4aebfa582e4b"
      },
      "id": "nRQTgg9Bgmie",
      "execution_count": null,
      "outputs": [
        {
          "output_type": "stream",
          "name": "stdout",
          "text": [
            "R2 score(test):  0.9758756217887679\n",
            "Mean squared error(test):  2720.5816877767597\n",
            "Root Mean squared error(test):  52.15919562049208\n"
          ]
        }
      ]
    },
    {
      "cell_type": "code",
      "source": [
        "y_pred_train = lm.predict(x_train)\n",
        "\n",
        "result_train = pd.DataFrame({'Actual':y_train, \"Predicted\": y_pred_train})\n",
        "result_train.head(10)"
      ],
      "metadata": {
        "colab": {
          "base_uri": "https://localhost:8080/",
          "height": 363
        },
        "id": "l8tvaNNHgtfu",
        "outputId": "abe4091f-3fc4-447c-c89b-4dcdf2009618"
      },
      "id": "l8tvaNNHgtfu",
      "execution_count": null,
      "outputs": [
        {
          "output_type": "execute_result",
          "data": {
            "text/plain": [
              "     Actual    Predicted\n",
              "220     497   490.318766\n",
              "69     1041  1055.066995\n",
              "362     718   708.253007\n",
              "483    1073  1077.314154\n",
              "173    1383  1396.157287\n",
              "352     456   444.577186\n",
              "231     867   866.687358\n",
              "211    1212  1260.036716\n",
              "192    1208  1246.712618\n",
              "446     589   592.890058"
            ],
            "text/html": [
              "\n",
              "  <div id=\"df-b2e00a66-25d9-44fa-abc4-79a8d2633720\">\n",
              "    <div class=\"colab-df-container\">\n",
              "      <div>\n",
              "<style scoped>\n",
              "    .dataframe tbody tr th:only-of-type {\n",
              "        vertical-align: middle;\n",
              "    }\n",
              "\n",
              "    .dataframe tbody tr th {\n",
              "        vertical-align: top;\n",
              "    }\n",
              "\n",
              "    .dataframe thead th {\n",
              "        text-align: right;\n",
              "    }\n",
              "</style>\n",
              "<table border=\"1\" class=\"dataframe\">\n",
              "  <thead>\n",
              "    <tr style=\"text-align: right;\">\n",
              "      <th></th>\n",
              "      <th>Actual</th>\n",
              "      <th>Predicted</th>\n",
              "    </tr>\n",
              "  </thead>\n",
              "  <tbody>\n",
              "    <tr>\n",
              "      <th>220</th>\n",
              "      <td>497</td>\n",
              "      <td>490.318766</td>\n",
              "    </tr>\n",
              "    <tr>\n",
              "      <th>69</th>\n",
              "      <td>1041</td>\n",
              "      <td>1055.066995</td>\n",
              "    </tr>\n",
              "    <tr>\n",
              "      <th>362</th>\n",
              "      <td>718</td>\n",
              "      <td>708.253007</td>\n",
              "    </tr>\n",
              "    <tr>\n",
              "      <th>483</th>\n",
              "      <td>1073</td>\n",
              "      <td>1077.314154</td>\n",
              "    </tr>\n",
              "    <tr>\n",
              "      <th>173</th>\n",
              "      <td>1383</td>\n",
              "      <td>1396.157287</td>\n",
              "    </tr>\n",
              "    <tr>\n",
              "      <th>352</th>\n",
              "      <td>456</td>\n",
              "      <td>444.577186</td>\n",
              "    </tr>\n",
              "    <tr>\n",
              "      <th>231</th>\n",
              "      <td>867</td>\n",
              "      <td>866.687358</td>\n",
              "    </tr>\n",
              "    <tr>\n",
              "      <th>211</th>\n",
              "      <td>1212</td>\n",
              "      <td>1260.036716</td>\n",
              "    </tr>\n",
              "    <tr>\n",
              "      <th>192</th>\n",
              "      <td>1208</td>\n",
              "      <td>1246.712618</td>\n",
              "    </tr>\n",
              "    <tr>\n",
              "      <th>446</th>\n",
              "      <td>589</td>\n",
              "      <td>592.890058</td>\n",
              "    </tr>\n",
              "  </tbody>\n",
              "</table>\n",
              "</div>\n",
              "      <button class=\"colab-df-convert\" onclick=\"convertToInteractive('df-b2e00a66-25d9-44fa-abc4-79a8d2633720')\"\n",
              "              title=\"Convert this dataframe to an interactive table.\"\n",
              "              style=\"display:none;\">\n",
              "        \n",
              "  <svg xmlns=\"http://www.w3.org/2000/svg\" height=\"24px\"viewBox=\"0 0 24 24\"\n",
              "       width=\"24px\">\n",
              "    <path d=\"M0 0h24v24H0V0z\" fill=\"none\"/>\n",
              "    <path d=\"M18.56 5.44l.94 2.06.94-2.06 2.06-.94-2.06-.94-.94-2.06-.94 2.06-2.06.94zm-11 1L8.5 8.5l.94-2.06 2.06-.94-2.06-.94L8.5 2.5l-.94 2.06-2.06.94zm10 10l.94 2.06.94-2.06 2.06-.94-2.06-.94-.94-2.06-.94 2.06-2.06.94z\"/><path d=\"M17.41 7.96l-1.37-1.37c-.4-.4-.92-.59-1.43-.59-.52 0-1.04.2-1.43.59L10.3 9.45l-7.72 7.72c-.78.78-.78 2.05 0 2.83L4 21.41c.39.39.9.59 1.41.59.51 0 1.02-.2 1.41-.59l7.78-7.78 2.81-2.81c.8-.78.8-2.07 0-2.86zM5.41 20L4 18.59l7.72-7.72 1.47 1.35L5.41 20z\"/>\n",
              "  </svg>\n",
              "      </button>\n",
              "      \n",
              "  <style>\n",
              "    .colab-df-container {\n",
              "      display:flex;\n",
              "      flex-wrap:wrap;\n",
              "      gap: 12px;\n",
              "    }\n",
              "\n",
              "    .colab-df-convert {\n",
              "      background-color: #E8F0FE;\n",
              "      border: none;\n",
              "      border-radius: 50%;\n",
              "      cursor: pointer;\n",
              "      display: none;\n",
              "      fill: #1967D2;\n",
              "      height: 32px;\n",
              "      padding: 0 0 0 0;\n",
              "      width: 32px;\n",
              "    }\n",
              "\n",
              "    .colab-df-convert:hover {\n",
              "      background-color: #E2EBFA;\n",
              "      box-shadow: 0px 1px 2px rgba(60, 64, 67, 0.3), 0px 1px 3px 1px rgba(60, 64, 67, 0.15);\n",
              "      fill: #174EA6;\n",
              "    }\n",
              "\n",
              "    [theme=dark] .colab-df-convert {\n",
              "      background-color: #3B4455;\n",
              "      fill: #D2E3FC;\n",
              "    }\n",
              "\n",
              "    [theme=dark] .colab-df-convert:hover {\n",
              "      background-color: #434B5C;\n",
              "      box-shadow: 0px 1px 3px 1px rgba(0, 0, 0, 0.15);\n",
              "      filter: drop-shadow(0px 1px 2px rgba(0, 0, 0, 0.3));\n",
              "      fill: #FFFFFF;\n",
              "    }\n",
              "  </style>\n",
              "\n",
              "      <script>\n",
              "        const buttonEl =\n",
              "          document.querySelector('#df-b2e00a66-25d9-44fa-abc4-79a8d2633720 button.colab-df-convert');\n",
              "        buttonEl.style.display =\n",
              "          google.colab.kernel.accessAllowed ? 'block' : 'none';\n",
              "\n",
              "        async function convertToInteractive(key) {\n",
              "          const element = document.querySelector('#df-b2e00a66-25d9-44fa-abc4-79a8d2633720');\n",
              "          const dataTable =\n",
              "            await google.colab.kernel.invokeFunction('convertToInteractive',\n",
              "                                                     [key], {});\n",
              "          if (!dataTable) return;\n",
              "\n",
              "          const docLinkHtml = 'Like what you see? Visit the ' +\n",
              "            '<a target=\"_blank\" href=https://colab.research.google.com/notebooks/data_table.ipynb>data table notebook</a>'\n",
              "            + ' to learn more about interactive tables.';\n",
              "          element.innerHTML = '';\n",
              "          dataTable['output_type'] = 'display_data';\n",
              "          await google.colab.output.renderOutput(dataTable, element);\n",
              "          const docLink = document.createElement('div');\n",
              "          docLink.innerHTML = docLinkHtml;\n",
              "          element.appendChild(docLink);\n",
              "        }\n",
              "      </script>\n",
              "    </div>\n",
              "  </div>\n",
              "  "
            ]
          },
          "metadata": {},
          "execution_count": 28
        }
      ]
    },
    {
      "cell_type": "code",
      "source": [
        "score_train = r2_score(y_train, y_pred_train)\n",
        "\n",
        "print('R2 score(train): ', score_train)\n",
        "print('Mean squared error(train): ', mean_squared_error(y_train, y_pred_train))\n",
        "print('Root Mean squared error(train): ', np.sqrt(mean_squared_error(y_train, y_pred_train)))"
      ],
      "metadata": {
        "colab": {
          "base_uri": "https://localhost:8080/"
        },
        "id": "haiWfsGGg0ZA",
        "outputId": "38ccaade-0c2e-4e6b-8f13-cc9eaf8a5dfe"
      },
      "id": "haiWfsGGg0ZA",
      "execution_count": null,
      "outputs": [
        {
          "output_type": "stream",
          "name": "stdout",
          "text": [
            "R2 score(train):  0.9916066817263751\n",
            "Mean squared error(train):  1000.358360676545\n",
            "Root Mean squared error(train):  31.62844227394933\n"
          ]
        }
      ]
    },
    {
      "cell_type": "markdown",
      "id": "834a21c6",
      "metadata": {
        "id": "834a21c6"
      },
      "source": [
        "#### To get best model used as TPOTRegressor optimizer"
      ]
    },
    {
      "cell_type": "code",
      "source": [
        "!pip install tpot"
      ],
      "metadata": {
        "colab": {
          "base_uri": "https://localhost:8080/"
        },
        "id": "B54ROdOBhdty",
        "outputId": "e0f67ad9-d000-4885-e422-5bb6b30ff9f8"
      },
      "id": "B54ROdOBhdty",
      "execution_count": null,
      "outputs": [
        {
          "output_type": "stream",
          "name": "stdout",
          "text": [
            "Looking in indexes: https://pypi.org/simple, https://us-python.pkg.dev/colab-wheels/public/simple/\n",
            "Collecting tpot\n",
            "  Downloading TPOT-0.11.7-py3-none-any.whl (87 kB)\n",
            "\u001b[K     |████████████████████████████████| 87 kB 2.9 MB/s \n",
            "\u001b[?25hCollecting update-checker>=0.16\n",
            "  Downloading update_checker-0.18.0-py3-none-any.whl (7.0 kB)\n",
            "Collecting xgboost>=1.1.0\n",
            "  Downloading xgboost-1.6.1-py3-none-manylinux2014_x86_64.whl (192.9 MB)\n",
            "\u001b[K     |████████████████████████████████| 192.9 MB 68 kB/s \n",
            "\u001b[?25hCollecting deap>=1.2\n",
            "  Downloading deap-1.3.1-cp37-cp37m-manylinux_2_5_x86_64.manylinux1_x86_64.manylinux_2_12_x86_64.manylinux2010_x86_64.whl (160 kB)\n",
            "\u001b[K     |████████████████████████████████| 160 kB 51.1 MB/s \n",
            "\u001b[?25hRequirement already satisfied: scipy>=1.3.1 in /usr/local/lib/python3.7/dist-packages (from tpot) (1.7.3)\n",
            "Requirement already satisfied: numpy>=1.16.3 in /usr/local/lib/python3.7/dist-packages (from tpot) (1.21.6)\n",
            "Requirement already satisfied: pandas>=0.24.2 in /usr/local/lib/python3.7/dist-packages (from tpot) (1.3.5)\n",
            "Collecting stopit>=1.1.1\n",
            "  Downloading stopit-1.1.2.tar.gz (18 kB)\n",
            "Requirement already satisfied: tqdm>=4.36.1 in /usr/local/lib/python3.7/dist-packages (from tpot) (4.64.0)\n",
            "Requirement already satisfied: joblib>=0.13.2 in /usr/local/lib/python3.7/dist-packages (from tpot) (1.1.0)\n",
            "Requirement already satisfied: scikit-learn>=0.22.0 in /usr/local/lib/python3.7/dist-packages (from tpot) (1.0.2)\n",
            "Requirement already satisfied: python-dateutil>=2.7.3 in /usr/local/lib/python3.7/dist-packages (from pandas>=0.24.2->tpot) (2.8.2)\n",
            "Requirement already satisfied: pytz>=2017.3 in /usr/local/lib/python3.7/dist-packages (from pandas>=0.24.2->tpot) (2022.1)\n",
            "Requirement already satisfied: six>=1.5 in /usr/local/lib/python3.7/dist-packages (from python-dateutil>=2.7.3->pandas>=0.24.2->tpot) (1.15.0)\n",
            "Requirement already satisfied: threadpoolctl>=2.0.0 in /usr/local/lib/python3.7/dist-packages (from scikit-learn>=0.22.0->tpot) (3.1.0)\n",
            "Requirement already satisfied: requests>=2.3.0 in /usr/local/lib/python3.7/dist-packages (from update-checker>=0.16->tpot) (2.28.1)\n",
            "Requirement already satisfied: certifi>=2017.4.17 in /usr/local/lib/python3.7/dist-packages (from requests>=2.3.0->update-checker>=0.16->tpot) (2022.6.15)\n",
            "Requirement already satisfied: charset-normalizer<3,>=2 in /usr/local/lib/python3.7/dist-packages (from requests>=2.3.0->update-checker>=0.16->tpot) (2.1.0)\n",
            "Requirement already satisfied: idna<4,>=2.5 in /usr/local/lib/python3.7/dist-packages (from requests>=2.3.0->update-checker>=0.16->tpot) (2.10)\n",
            "Requirement already satisfied: urllib3<1.27,>=1.21.1 in /usr/local/lib/python3.7/dist-packages (from requests>=2.3.0->update-checker>=0.16->tpot) (1.24.3)\n",
            "Building wheels for collected packages: stopit\n",
            "  Building wheel for stopit (setup.py) ... \u001b[?25l\u001b[?25hdone\n",
            "  Created wheel for stopit: filename=stopit-1.1.2-py3-none-any.whl size=11956 sha256=d7a33f3a00ec5acdeb3663d1feafb566259f42961d7a1eb4d9da9c6faad96d96\n",
            "  Stored in directory: /root/.cache/pip/wheels/e2/d2/79/eaf81edb391e27c87f51b8ef901ecc85a5363dc96b8b8d71e3\n",
            "Successfully built stopit\n",
            "Installing collected packages: xgboost, update-checker, stopit, deap, tpot\n",
            "  Attempting uninstall: xgboost\n",
            "    Found existing installation: xgboost 0.90\n",
            "    Uninstalling xgboost-0.90:\n",
            "      Successfully uninstalled xgboost-0.90\n",
            "Successfully installed deap-1.3.1 stopit-1.1.2 tpot-0.11.7 update-checker-0.18.0 xgboost-1.6.1\n"
          ]
        }
      ]
    },
    {
      "cell_type": "code",
      "execution_count": null,
      "id": "b2923893",
      "metadata": {
        "colab": {
          "referenced_widgets": [
            "6089b210cbe640c5ad37ae897df2d211"
          ]
        },
        "id": "b2923893",
        "outputId": "7f58fa29-7b2d-4418-ee99-163affb29e81"
      },
      "outputs": [
        {
          "data": {
            "application/vnd.jupyter.widget-view+json": {
              "model_id": "6089b210cbe640c5ad37ae897df2d211",
              "version_major": 2,
              "version_minor": 0
            },
            "text/plain": [
              "Optimization Progress:   0%|          | 0/100 [00:00<?, ?pipeline/s]"
            ]
          },
          "metadata": {},
          "output_type": "display_data"
        },
        {
          "name": "stdout",
          "output_type": "stream",
          "text": [
            "\n",
            "Generation 1 - Current best internal CV score: -28.45589406345446\n",
            "\n",
            "Generation 2 - Current best internal CV score: -27.412176961444196\n",
            "\n",
            "Generation 3 - Current best internal CV score: -27.412176961444196\n",
            "\n",
            "Generation 4 - Current best internal CV score: -27.412176961444196\n",
            "\n",
            "Generation 5 - Current best internal CV score: -27.296301803905045\n",
            "\n",
            "Generation 6 - Current best internal CV score: -27.296301803905045\n",
            "\n",
            "Generation 7 - Current best internal CV score: -27.181393300851276\n",
            "\n",
            "Generation 8 - Current best internal CV score: -27.181393300851276\n",
            "\n",
            "Generation 9 - Current best internal CV score: -27.181393300851276\n",
            "\n",
            "Generation 10 - Current best internal CV score: -26.435549981338305\n",
            "\n",
            "Generation 11 - Current best internal CV score: -26.435549981338305\n",
            "\n",
            "Generation 12 - Current best internal CV score: -25.630790777859186\n",
            "\n",
            "Generation 13 - Current best internal CV score: -25.094222700186776\n",
            "\n",
            "Generation 14 - Current best internal CV score: -25.094222700186776\n",
            "\n",
            "Generation 15 - Current best internal CV score: -24.291897129239857\n",
            "\n",
            "Generation 16 - Current best internal CV score: -24.291897129239857\n",
            "\n",
            "Generation 17 - Current best internal CV score: -24.291897129239857\n",
            "\n",
            "Generation 18 - Current best internal CV score: -24.291897129239857\n",
            "\n",
            "Generation 19 - Current best internal CV score: -24.291897129239857\n",
            "\n",
            "Generation 20 - Current best internal CV score: -24.291897129239857\n",
            "\n",
            "60.00 minutes have elapsed. TPOT will close down.\n",
            "TPOT closed during evaluation in one generation.\n",
            "WARNING: TPOT may not provide a good pipeline if TPOT is stopped/interrupted in a early generation.\n",
            "\n",
            "\n",
            "TPOT closed prematurely. Will use the current best pipeline.\n",
            "\n",
            "Best pipeline: ExtraTreesRegressor(PolynomialFeatures(RandomForestRegressor(AdaBoostRegressor(ExtraTreesRegressor(input_matrix, bootstrap=True, max_features=0.05, min_samples_leaf=19, min_samples_split=17, n_estimators=100), learning_rate=1.0, loss=linear, n_estimators=100), bootstrap=False, max_features=0.9000000000000001, min_samples_leaf=3, min_samples_split=5, n_estimators=100), degree=2, include_bias=False, interaction_only=False), bootstrap=False, max_features=0.6500000000000001, min_samples_leaf=1, min_samples_split=4, n_estimators=100)\n",
            "-40.379994876385695\n"
          ]
        },
        {
          "name": "stderr",
          "output_type": "stream",
          "text": [
            "/home/venky/anaconda3/lib/python3.9/site-packages/sklearn/base.py:450: UserWarning: X does not have valid feature names, but ExtraTreesRegressor was fitted with feature names\n",
            "  warnings.warn(\n"
          ]
        }
      ],
      "source": [
        "from tpot import TPOTRegressor\n",
        "rmse_scorer = make_scorer(rmse, greater_is_better = False)\n",
        "pipeline_optimizer = TPOTRegressor(\n",
        "    scoring = rmse_scorer,\n",
        "    max_time_mins = 60,\n",
        "    random_state = 42,\n",
        "    verbosity = 2\n",
        "    )\n",
        "pipeline_optimizer.fit(x_train, y_train)\n",
        "\n",
        "print(pipeline_optimizer.score(x_test, y_test))"
      ]
    },
    {
      "cell_type": "code",
      "execution_count": null,
      "id": "9ecc0132",
      "metadata": {
        "id": "9ecc0132"
      },
      "outputs": [],
      "source": [
        "pipeline_optimizer.fitted_pipeline_\n",
        "pipeline_optimizer.export('Mock.py')"
      ]
    },
    {
      "cell_type": "code",
      "execution_count": null,
      "id": "c3ea60b8",
      "metadata": {
        "id": "c3ea60b8"
      },
      "outputs": [],
      "source": [
        "import numpy as np\n",
        "from sklearn.ensemble import AdaBoostRegressor, ExtraTreesRegressor, RandomForestRegressor\n",
        "from sklearn.model_selection import train_test_split\n",
        "from sklearn.pipeline import make_pipeline, make_union\n",
        "from sklearn.preprocessing import PolynomialFeatures\n",
        "from tpot.builtins import StackingEstimator\n",
        "from tpot.export_utils import set_param_recursive\n",
        "\n",
        "exported_pipeline = make_pipeline(\n",
        "    StackingEstimator(estimator=ExtraTreesRegressor(bootstrap=True, max_features=0.05, min_samples_leaf=19, min_samples_split=17, n_estimators=100)),\n",
        "    StackingEstimator(estimator=AdaBoostRegressor(learning_rate=1.0, loss=\"linear\", n_estimators=100)),\n",
        "    StackingEstimator(estimator=RandomForestRegressor(bootstrap=False, max_features=0.9000000000000001, min_samples_leaf=3, min_samples_split=5, n_estimators=100)),\n",
        "    PolynomialFeatures(degree=2, include_bias=False, interaction_only=False),\n",
        "    ExtraTreesRegressor(bootstrap=False, max_features=0.6500000000000001, min_samples_leaf=1, min_samples_split=4, n_estimators=100)\n",
        ")"
      ]
    },
    {
      "cell_type": "code",
      "execution_count": null,
      "id": "202510b9",
      "metadata": {
        "colab": {
          "base_uri": "https://localhost:8080/",
          "height": 432
        },
        "id": "202510b9",
        "outputId": "ea33b116-5da5-4e2c-c2fd-6070ac27ca5a"
      },
      "outputs": [
        {
          "output_type": "stream",
          "name": "stderr",
          "text": [
            "/usr/local/lib/python3.7/dist-packages/sklearn/base.py:451: UserWarning: X does not have valid feature names, but ExtraTreesRegressor was fitted with feature names\n",
            "  \"X does not have valid feature names, but\"\n",
            "/usr/local/lib/python3.7/dist-packages/sklearn/base.py:451: UserWarning: X does not have valid feature names, but ExtraTreesRegressor was fitted with feature names\n",
            "  \"X does not have valid feature names, but\"\n"
          ]
        },
        {
          "output_type": "execute_result",
          "data": {
            "text/plain": [
              "     Actual    Predicted\n",
              "310     425   423.465000\n",
              "390    1225  1225.260000\n",
              "6       429   481.671667\n",
              "184     660   658.956667\n",
              "78      777   783.675000\n",
              "407     574   566.255000\n",
              "524    1187  1194.250000\n",
              "487     657   659.916667\n",
              "117     694   705.350000\n",
              "137     745   742.508333"
            ],
            "text/html": [
              "\n",
              "  <div id=\"df-3465bb9d-18e4-4a72-afb6-036ceaccbcbe\">\n",
              "    <div class=\"colab-df-container\">\n",
              "      <div>\n",
              "<style scoped>\n",
              "    .dataframe tbody tr th:only-of-type {\n",
              "        vertical-align: middle;\n",
              "    }\n",
              "\n",
              "    .dataframe tbody tr th {\n",
              "        vertical-align: top;\n",
              "    }\n",
              "\n",
              "    .dataframe thead th {\n",
              "        text-align: right;\n",
              "    }\n",
              "</style>\n",
              "<table border=\"1\" class=\"dataframe\">\n",
              "  <thead>\n",
              "    <tr style=\"text-align: right;\">\n",
              "      <th></th>\n",
              "      <th>Actual</th>\n",
              "      <th>Predicted</th>\n",
              "    </tr>\n",
              "  </thead>\n",
              "  <tbody>\n",
              "    <tr>\n",
              "      <th>310</th>\n",
              "      <td>425</td>\n",
              "      <td>423.465000</td>\n",
              "    </tr>\n",
              "    <tr>\n",
              "      <th>390</th>\n",
              "      <td>1225</td>\n",
              "      <td>1225.260000</td>\n",
              "    </tr>\n",
              "    <tr>\n",
              "      <th>6</th>\n",
              "      <td>429</td>\n",
              "      <td>481.671667</td>\n",
              "    </tr>\n",
              "    <tr>\n",
              "      <th>184</th>\n",
              "      <td>660</td>\n",
              "      <td>658.956667</td>\n",
              "    </tr>\n",
              "    <tr>\n",
              "      <th>78</th>\n",
              "      <td>777</td>\n",
              "      <td>783.675000</td>\n",
              "    </tr>\n",
              "    <tr>\n",
              "      <th>407</th>\n",
              "      <td>574</td>\n",
              "      <td>566.255000</td>\n",
              "    </tr>\n",
              "    <tr>\n",
              "      <th>524</th>\n",
              "      <td>1187</td>\n",
              "      <td>1194.250000</td>\n",
              "    </tr>\n",
              "    <tr>\n",
              "      <th>487</th>\n",
              "      <td>657</td>\n",
              "      <td>659.916667</td>\n",
              "    </tr>\n",
              "    <tr>\n",
              "      <th>117</th>\n",
              "      <td>694</td>\n",
              "      <td>705.350000</td>\n",
              "    </tr>\n",
              "    <tr>\n",
              "      <th>137</th>\n",
              "      <td>745</td>\n",
              "      <td>742.508333</td>\n",
              "    </tr>\n",
              "  </tbody>\n",
              "</table>\n",
              "</div>\n",
              "      <button class=\"colab-df-convert\" onclick=\"convertToInteractive('df-3465bb9d-18e4-4a72-afb6-036ceaccbcbe')\"\n",
              "              title=\"Convert this dataframe to an interactive table.\"\n",
              "              style=\"display:none;\">\n",
              "        \n",
              "  <svg xmlns=\"http://www.w3.org/2000/svg\" height=\"24px\"viewBox=\"0 0 24 24\"\n",
              "       width=\"24px\">\n",
              "    <path d=\"M0 0h24v24H0V0z\" fill=\"none\"/>\n",
              "    <path d=\"M18.56 5.44l.94 2.06.94-2.06 2.06-.94-2.06-.94-.94-2.06-.94 2.06-2.06.94zm-11 1L8.5 8.5l.94-2.06 2.06-.94-2.06-.94L8.5 2.5l-.94 2.06-2.06.94zm10 10l.94 2.06.94-2.06 2.06-.94-2.06-.94-.94-2.06-.94 2.06-2.06.94z\"/><path d=\"M17.41 7.96l-1.37-1.37c-.4-.4-.92-.59-1.43-.59-.52 0-1.04.2-1.43.59L10.3 9.45l-7.72 7.72c-.78.78-.78 2.05 0 2.83L4 21.41c.39.39.9.59 1.41.59.51 0 1.02-.2 1.41-.59l7.78-7.78 2.81-2.81c.8-.78.8-2.07 0-2.86zM5.41 20L4 18.59l7.72-7.72 1.47 1.35L5.41 20z\"/>\n",
              "  </svg>\n",
              "      </button>\n",
              "      \n",
              "  <style>\n",
              "    .colab-df-container {\n",
              "      display:flex;\n",
              "      flex-wrap:wrap;\n",
              "      gap: 12px;\n",
              "    }\n",
              "\n",
              "    .colab-df-convert {\n",
              "      background-color: #E8F0FE;\n",
              "      border: none;\n",
              "      border-radius: 50%;\n",
              "      cursor: pointer;\n",
              "      display: none;\n",
              "      fill: #1967D2;\n",
              "      height: 32px;\n",
              "      padding: 0 0 0 0;\n",
              "      width: 32px;\n",
              "    }\n",
              "\n",
              "    .colab-df-convert:hover {\n",
              "      background-color: #E2EBFA;\n",
              "      box-shadow: 0px 1px 2px rgba(60, 64, 67, 0.3), 0px 1px 3px 1px rgba(60, 64, 67, 0.15);\n",
              "      fill: #174EA6;\n",
              "    }\n",
              "\n",
              "    [theme=dark] .colab-df-convert {\n",
              "      background-color: #3B4455;\n",
              "      fill: #D2E3FC;\n",
              "    }\n",
              "\n",
              "    [theme=dark] .colab-df-convert:hover {\n",
              "      background-color: #434B5C;\n",
              "      box-shadow: 0px 1px 3px 1px rgba(0, 0, 0, 0.15);\n",
              "      filter: drop-shadow(0px 1px 2px rgba(0, 0, 0, 0.3));\n",
              "      fill: #FFFFFF;\n",
              "    }\n",
              "  </style>\n",
              "\n",
              "      <script>\n",
              "        const buttonEl =\n",
              "          document.querySelector('#df-3465bb9d-18e4-4a72-afb6-036ceaccbcbe button.colab-df-convert');\n",
              "        buttonEl.style.display =\n",
              "          google.colab.kernel.accessAllowed ? 'block' : 'none';\n",
              "\n",
              "        async function convertToInteractive(key) {\n",
              "          const element = document.querySelector('#df-3465bb9d-18e4-4a72-afb6-036ceaccbcbe');\n",
              "          const dataTable =\n",
              "            await google.colab.kernel.invokeFunction('convertToInteractive',\n",
              "                                                     [key], {});\n",
              "          if (!dataTable) return;\n",
              "\n",
              "          const docLinkHtml = 'Like what you see? Visit the ' +\n",
              "            '<a target=\"_blank\" href=https://colab.research.google.com/notebooks/data_table.ipynb>data table notebook</a>'\n",
              "            + ' to learn more about interactive tables.';\n",
              "          element.innerHTML = '';\n",
              "          dataTable['output_type'] = 'display_data';\n",
              "          await google.colab.output.renderOutput(dataTable, element);\n",
              "          const docLink = document.createElement('div');\n",
              "          docLink.innerHTML = docLinkHtml;\n",
              "          element.appendChild(docLink);\n",
              "        }\n",
              "      </script>\n",
              "    </div>\n",
              "  </div>\n",
              "  "
            ]
          },
          "metadata": {},
          "execution_count": 33
        }
      ],
      "source": [
        "exported_pipeline.fit(x_train, y_train)\n",
        "\n",
        "y_pred_test = exported_pipeline.predict(x_test)\n",
        "\n",
        "result_test = pd.DataFrame({'Actual':y_test, \"Predicted\": y_pred_test})\n",
        "result_test.head(10)"
      ]
    },
    {
      "cell_type": "code",
      "execution_count": null,
      "id": "9644bf0c",
      "metadata": {
        "colab": {
          "base_uri": "https://localhost:8080/"
        },
        "id": "9644bf0c",
        "outputId": "a2a45404-291a-4220-df31-5983eaeab53c"
      },
      "outputs": [
        {
          "output_type": "stream",
          "name": "stdout",
          "text": [
            "R2 score(test):  0.9820236245693243\n",
            "Mean squared error(test):  2027.2521588359832\n",
            "Root Mean squared error(test):  45.02501703315595\n"
          ]
        }
      ],
      "source": [
        "## importing r2_score module\n",
        "from sklearn.metrics import r2_score\n",
        "from sklearn.metrics import mean_squared_error\n",
        "\n",
        "# predicting the accuracy score\n",
        "score_test = r2_score(y_test, y_pred_test)\n",
        "\n",
        "print('R2 score(test): ', score_test)\n",
        "print('Mean squared error(test): ', mean_squared_error(y_test, y_pred_test))\n",
        "print('Root Mean squared error(test): ', np.sqrt(mean_squared_error(y_test, y_pred_test)))\n"
      ]
    },
    {
      "cell_type": "code",
      "execution_count": null,
      "id": "a2b51214",
      "metadata": {
        "colab": {
          "base_uri": "https://localhost:8080/",
          "height": 398
        },
        "id": "a2b51214",
        "outputId": "0910cbac-b9b1-4e58-cada-6c8d0386e05e"
      },
      "outputs": [
        {
          "output_type": "stream",
          "name": "stderr",
          "text": [
            "/usr/local/lib/python3.7/dist-packages/sklearn/base.py:451: UserWarning: X does not have valid feature names, but ExtraTreesRegressor was fitted with feature names\n",
            "  \"X does not have valid feature names, but\"\n"
          ]
        },
        {
          "output_type": "execute_result",
          "data": {
            "text/plain": [
              "     Actual    Predicted\n",
              "220     497   495.595000\n",
              "69     1041  1042.810000\n",
              "362     718   718.516667\n",
              "483    1073  1072.723333\n",
              "173    1383  1383.816667\n",
              "352     456   455.955000\n",
              "231     867   868.781667\n",
              "211    1212  1212.893333\n",
              "192    1208  1209.205000\n",
              "446     589   589.576667"
            ],
            "text/html": [
              "\n",
              "  <div id=\"df-67b1757f-ede6-4557-b830-5450c0f84d7b\">\n",
              "    <div class=\"colab-df-container\">\n",
              "      <div>\n",
              "<style scoped>\n",
              "    .dataframe tbody tr th:only-of-type {\n",
              "        vertical-align: middle;\n",
              "    }\n",
              "\n",
              "    .dataframe tbody tr th {\n",
              "        vertical-align: top;\n",
              "    }\n",
              "\n",
              "    .dataframe thead th {\n",
              "        text-align: right;\n",
              "    }\n",
              "</style>\n",
              "<table border=\"1\" class=\"dataframe\">\n",
              "  <thead>\n",
              "    <tr style=\"text-align: right;\">\n",
              "      <th></th>\n",
              "      <th>Actual</th>\n",
              "      <th>Predicted</th>\n",
              "    </tr>\n",
              "  </thead>\n",
              "  <tbody>\n",
              "    <tr>\n",
              "      <th>220</th>\n",
              "      <td>497</td>\n",
              "      <td>495.595000</td>\n",
              "    </tr>\n",
              "    <tr>\n",
              "      <th>69</th>\n",
              "      <td>1041</td>\n",
              "      <td>1042.810000</td>\n",
              "    </tr>\n",
              "    <tr>\n",
              "      <th>362</th>\n",
              "      <td>718</td>\n",
              "      <td>718.516667</td>\n",
              "    </tr>\n",
              "    <tr>\n",
              "      <th>483</th>\n",
              "      <td>1073</td>\n",
              "      <td>1072.723333</td>\n",
              "    </tr>\n",
              "    <tr>\n",
              "      <th>173</th>\n",
              "      <td>1383</td>\n",
              "      <td>1383.816667</td>\n",
              "    </tr>\n",
              "    <tr>\n",
              "      <th>352</th>\n",
              "      <td>456</td>\n",
              "      <td>455.955000</td>\n",
              "    </tr>\n",
              "    <tr>\n",
              "      <th>231</th>\n",
              "      <td>867</td>\n",
              "      <td>868.781667</td>\n",
              "    </tr>\n",
              "    <tr>\n",
              "      <th>211</th>\n",
              "      <td>1212</td>\n",
              "      <td>1212.893333</td>\n",
              "    </tr>\n",
              "    <tr>\n",
              "      <th>192</th>\n",
              "      <td>1208</td>\n",
              "      <td>1209.205000</td>\n",
              "    </tr>\n",
              "    <tr>\n",
              "      <th>446</th>\n",
              "      <td>589</td>\n",
              "      <td>589.576667</td>\n",
              "    </tr>\n",
              "  </tbody>\n",
              "</table>\n",
              "</div>\n",
              "      <button class=\"colab-df-convert\" onclick=\"convertToInteractive('df-67b1757f-ede6-4557-b830-5450c0f84d7b')\"\n",
              "              title=\"Convert this dataframe to an interactive table.\"\n",
              "              style=\"display:none;\">\n",
              "        \n",
              "  <svg xmlns=\"http://www.w3.org/2000/svg\" height=\"24px\"viewBox=\"0 0 24 24\"\n",
              "       width=\"24px\">\n",
              "    <path d=\"M0 0h24v24H0V0z\" fill=\"none\"/>\n",
              "    <path d=\"M18.56 5.44l.94 2.06.94-2.06 2.06-.94-2.06-.94-.94-2.06-.94 2.06-2.06.94zm-11 1L8.5 8.5l.94-2.06 2.06-.94-2.06-.94L8.5 2.5l-.94 2.06-2.06.94zm10 10l.94 2.06.94-2.06 2.06-.94-2.06-.94-.94-2.06-.94 2.06-2.06.94z\"/><path d=\"M17.41 7.96l-1.37-1.37c-.4-.4-.92-.59-1.43-.59-.52 0-1.04.2-1.43.59L10.3 9.45l-7.72 7.72c-.78.78-.78 2.05 0 2.83L4 21.41c.39.39.9.59 1.41.59.51 0 1.02-.2 1.41-.59l7.78-7.78 2.81-2.81c.8-.78.8-2.07 0-2.86zM5.41 20L4 18.59l7.72-7.72 1.47 1.35L5.41 20z\"/>\n",
              "  </svg>\n",
              "      </button>\n",
              "      \n",
              "  <style>\n",
              "    .colab-df-container {\n",
              "      display:flex;\n",
              "      flex-wrap:wrap;\n",
              "      gap: 12px;\n",
              "    }\n",
              "\n",
              "    .colab-df-convert {\n",
              "      background-color: #E8F0FE;\n",
              "      border: none;\n",
              "      border-radius: 50%;\n",
              "      cursor: pointer;\n",
              "      display: none;\n",
              "      fill: #1967D2;\n",
              "      height: 32px;\n",
              "      padding: 0 0 0 0;\n",
              "      width: 32px;\n",
              "    }\n",
              "\n",
              "    .colab-df-convert:hover {\n",
              "      background-color: #E2EBFA;\n",
              "      box-shadow: 0px 1px 2px rgba(60, 64, 67, 0.3), 0px 1px 3px 1px rgba(60, 64, 67, 0.15);\n",
              "      fill: #174EA6;\n",
              "    }\n",
              "\n",
              "    [theme=dark] .colab-df-convert {\n",
              "      background-color: #3B4455;\n",
              "      fill: #D2E3FC;\n",
              "    }\n",
              "\n",
              "    [theme=dark] .colab-df-convert:hover {\n",
              "      background-color: #434B5C;\n",
              "      box-shadow: 0px 1px 3px 1px rgba(0, 0, 0, 0.15);\n",
              "      filter: drop-shadow(0px 1px 2px rgba(0, 0, 0, 0.3));\n",
              "      fill: #FFFFFF;\n",
              "    }\n",
              "  </style>\n",
              "\n",
              "      <script>\n",
              "        const buttonEl =\n",
              "          document.querySelector('#df-67b1757f-ede6-4557-b830-5450c0f84d7b button.colab-df-convert');\n",
              "        buttonEl.style.display =\n",
              "          google.colab.kernel.accessAllowed ? 'block' : 'none';\n",
              "\n",
              "        async function convertToInteractive(key) {\n",
              "          const element = document.querySelector('#df-67b1757f-ede6-4557-b830-5450c0f84d7b');\n",
              "          const dataTable =\n",
              "            await google.colab.kernel.invokeFunction('convertToInteractive',\n",
              "                                                     [key], {});\n",
              "          if (!dataTable) return;\n",
              "\n",
              "          const docLinkHtml = 'Like what you see? Visit the ' +\n",
              "            '<a target=\"_blank\" href=https://colab.research.google.com/notebooks/data_table.ipynb>data table notebook</a>'\n",
              "            + ' to learn more about interactive tables.';\n",
              "          element.innerHTML = '';\n",
              "          dataTable['output_type'] = 'display_data';\n",
              "          await google.colab.output.renderOutput(dataTable, element);\n",
              "          const docLink = document.createElement('div');\n",
              "          docLink.innerHTML = docLinkHtml;\n",
              "          element.appendChild(docLink);\n",
              "        }\n",
              "      </script>\n",
              "    </div>\n",
              "  </div>\n",
              "  "
            ]
          },
          "metadata": {},
          "execution_count": 35
        }
      ],
      "source": [
        "y_pred_train = exported_pipeline.predict(x_train)\n",
        "\n",
        "result_train = pd.DataFrame({'Actual':y_train, \"Predicted\": y_pred_train})\n",
        "result_train.head(10)"
      ]
    },
    {
      "cell_type": "code",
      "execution_count": null,
      "id": "d2c1bd50",
      "metadata": {
        "colab": {
          "base_uri": "https://localhost:8080/"
        },
        "id": "d2c1bd50",
        "outputId": "cebec480-2332-46e1-95c1-1410bfa38b90"
      },
      "outputs": [
        {
          "output_type": "stream",
          "name": "stdout",
          "text": [
            "R2 score(train):  0.9999829693658839\n",
            "Mean squared error(train):  2.029797592592643\n",
            "Root Mean squared error(train):  1.4247096520318245\n"
          ]
        }
      ],
      "source": [
        "score_train = r2_score(y_train, y_pred_train)\n",
        "\n",
        "print('R2 score(train): ', score_train)\n",
        "print('Mean squared error(train): ', mean_squared_error(y_train, y_pred_train))\n",
        "print('Root Mean squared error(train): ', np.sqrt(mean_squared_error(y_train, y_pred_train)))"
      ]
    },
    {
      "cell_type": "code",
      "execution_count": null,
      "id": "15628ab5",
      "metadata": {
        "colab": {
          "base_uri": "https://localhost:8080/",
          "height": 395
        },
        "id": "15628ab5",
        "outputId": "70a1e676-728f-403e-80f2-5df5c9fac9ae"
      },
      "outputs": [
        {
          "output_type": "execute_result",
          "data": {
            "text/plain": [
              "Text(0, 0.5, 'y_pred_test')"
            ]
          },
          "metadata": {},
          "execution_count": 37
        },
        {
          "output_type": "display_data",
          "data": {
            "text/plain": [
              "<Figure size 600x400 with 1 Axes>"
            ],
            "image/png": "[encoded data removed]"
          },
          "metadata": {}
        }
      ],
      "source": [
        "import matplotlib.pyplot as plt\n",
        "plt.scatter(y_test, y_pred_test)\n",
        "plt.xlabel('y_test')\n",
        "plt.ylabel('y_pred_test')"
      ]
    },
    {
      "cell_type": "code",
      "source": [
        "from google.colab import drive\n",
        "drive.mount('/content/drive')"
      ],
      "metadata": {
        "id": "GaNBisMhiOL4",
        "outputId": "d7962ce6-0279-417f-e291-98be6b260166",
        "colab": {
          "base_uri": "https://localhost:8080/"
        }
      },
      "id": "GaNBisMhiOL4",
      "execution_count": null,
      "outputs": [
        {
          "output_type": "stream",
          "name": "stdout",
          "text": [
            "Mounted at /content/drive\n"
          ]
        }
      ]
    },
    {
      "cell_type": "markdown",
      "id": "568ca7a3",
      "metadata": {
        "id": "568ca7a3"
      },
      "source": [
        "* Got a linear shape. I hope this is good fit model"
      ]
    },
    {
      "cell_type": "markdown",
      "id": "83d1298b",
      "metadata": {
        "id": "83d1298b"
      },
      "source": [
        "## Saving the Model"
      ]
    },
    {
      "cell_type": "markdown",
      "id": "0464c320",
      "metadata": {
        "id": "0464c320"
      },
      "source": [
        "### Importing the pickle"
      ]
    },
    {
      "cell_type": "code",
      "execution_count": null,
      "id": "6541b682",
      "metadata": {
        "id": "6541b682"
      },
      "outputs": [],
      "source": [
        "import pickle\n",
        "pickle.dump(exported_pipeline, open('data_model.pkl', 'wb'))"
      ]
    },
    {
      "cell_type": "code",
      "execution_count": null,
      "id": "33460125",
      "metadata": {
        "id": "33460125",
        "outputId": "71ed8da7-98e1-45ea-ea58-5f1f2bef67d2"
      },
      "outputs": [
        {
          "name": "stdout",
          "output_type": "stream",
          "text": [
            "[1190.43666667]\n"
          ]
        },
        {
          "name": "stderr",
          "output_type": "stream",
          "text": [
            "/home/venky/anaconda3/lib/python3.9/site-packages/sklearn/base.py:450: UserWarning: X does not have valid feature names, but ExtraTreesRegressor was fitted with feature names\n",
            "  warnings.warn(\n"
          ]
        }
      ],
      "source": [
        "# Load the model from disk\n",
        "model = pickle.load(open('data_model.pkl', 'rb'))\n",
        "print(model.predict([[9,2,4,1,0,0,1,1,15,162,4,121,655,120,182]]))"
      ]
    },
    {
      "cell_type": "markdown",
      "id": "e2264b02",
      "metadata": {
        "id": "e2264b02"
      },
      "source": [
        "* Model predict the course price correctly  based on features(15)."
      ]
    },
    {
      "cell_type": "code",
      "execution_count": null,
      "id": "4a5f51b7",
      "metadata": {
        "id": "4a5f51b7"
      },
      "outputs": [],
      "source": [
        ""
      ]
    }
  ],
  "metadata": {
    "kernelspec": {
      "display_name": "Python 3 (ipykernel)",
      "language": "python",
      "name": "python3"
    },
    "language_info": {
      "codemirror_mode": {
        "name": "ipython",
        "version": 3
      },
      "file_extension": ".py",
      "mimetype": "text/x-python",
      "name": "python",
      "nbconvert_exporter": "python",
      "pygments_lexer": "ipython3",
      "version": "3.9.12"
    },
    "colab": {
      "name": "Copy of Edtech_course.ipynb",
      "provenance": [],
      "include_colab_link": true
    },
    "widgets": {
      "application/vnd.jupyter.widget-state+json": {
        "1275fb7a0b4e4f03af2cfdbb73f34237": {
          "model_module": "@jupyter-widgets/controls",
          "model_name": "HBoxModel",
          "model_module_version": "1.5.0",
          "state": {
            "_dom_classes": [],
            "_model_module": "@jupyter-widgets/controls",
            "_model_module_version": "1.5.0",
            "_model_name": "HBoxModel",
            "_view_count": null,
            "_view_module": "@jupyter-widgets/controls",
            "_view_module_version": "1.5.0",
            "_view_name": "HBoxView",
            "box_style": "",
            "children": [
              "IPY_MODEL_496c1fba641742fca124243339867ef7",
              "IPY_MODEL_a18344082b974acab428c520c4a551cd",
              "IPY_MODEL_00b8899018e047cbb2b395c975061618"
            ],
            "layout": "IPY_MODEL_6a8c83563b0844789f3f59d51e70a37c"
          }
        },
        "496c1fba641742fca124243339867ef7": {
          "model_module": "@jupyter-widgets/controls",
          "model_name": "HTMLModel",
          "model_module_version": "1.5.0",
          "state": {
            "_dom_classes": [],
            "_model_module": "@jupyter-widgets/controls",
            "_model_module_version": "1.5.0",
            "_model_name": "HTMLModel",
            "_view_count": null,
            "_view_module": "@jupyter-widgets/controls",
            "_view_module_version": "1.5.0",
            "_view_name": "HTMLView",
            "description": "",
            "description_tooltip": null,
            "layout": "IPY_MODEL_9a66696888f34aa9a2cd8ab676dffb62",
            "placeholder": "​",
            "style": "IPY_MODEL_4b91db7f600a49e8b9bb3159085864c4",
            "value": "Summarize dataset: 100%"
          }
        },
        "a18344082b974acab428c520c4a551cd": {
          "model_module": "@jupyter-widgets/controls",
          "model_name": "FloatProgressModel",
          "model_module_version": "1.5.0",
          "state": {
            "_dom_classes": [],
            "_model_module": "@jupyter-widgets/controls",
            "_model_module_version": "1.5.0",
            "_model_name": "FloatProgressModel",
            "_view_count": null,
            "_view_module": "@jupyter-widgets/controls",
            "_view_module_version": "1.5.0",
            "_view_name": "ProgressView",
            "bar_style": "success",
            "description": "",
            "description_tooltip": null,
            "layout": "IPY_MODEL_2f53aea4817c4efaa53df0657b18fa9a",
            "max": 5,
            "min": 0,
            "orientation": "horizontal",
            "style": "IPY_MODEL_860b1941e83f463faeaf52cc15e6e460",
            "value": 5
          }
        },
        "00b8899018e047cbb2b395c975061618": {
          "model_module": "@jupyter-widgets/controls",
          "model_name": "HTMLModel",
          "model_module_version": "1.5.0",
          "state": {
            "_dom_classes": [],
            "_model_module": "@jupyter-widgets/controls",
            "_model_module_version": "1.5.0",
            "_model_name": "HTMLModel",
            "_view_count": null,
            "_view_module": "@jupyter-widgets/controls",
            "_view_module_version": "1.5.0",
            "_view_name": "HTMLView",
            "description": "",
            "description_tooltip": null,
            "layout": "IPY_MODEL_ba2b74954a4d4726b0c42d584f2dd7d4",
            "placeholder": "​",
            "style": "IPY_MODEL_f42daecfb11b4a44b2bcc47a3cbcf1ce",
            "value": " 95/95 [00:15&lt;00:00,  5.03it/s, Completed]"
          }
        },
        "6a8c83563b0844789f3f59d51e70a37c": {
          "model_module": "@jupyter-widgets/base",
          "model_name": "LayoutModel",
          "model_module_version": "1.2.0",
          "state": {
            "_model_module": "@jupyter-widgets/base",
            "_model_module_version": "1.2.0",
            "_model_name": "LayoutModel",
            "_view_count": null,
            "_view_module": "@jupyter-widgets/base",
            "_view_module_version": "1.2.0",
            "_view_name": "LayoutView",
            "align_content": null,
            "align_items": null,
            "align_self": null,
            "border": null,
            "bottom": null,
            "display": null,
            "flex": null,
            "flex_flow": null,
            "grid_area": null,
            "grid_auto_columns": null,
            "grid_auto_flow": null,
            "grid_auto_rows": null,
            "grid_column": null,
            "grid_gap": null,
            "grid_row": null,
            "grid_template_areas": null,
            "grid_template_columns": null,
            "grid_template_rows": null,
            "height": null,
            "justify_content": null,
            "justify_items": null,
            "left": null,
            "margin": null,
            "max_height": null,
            "max_width": null,
            "min_height": null,
            "min_width": null,
            "object_fit": null,
            "object_position": null,
            "order": null,
            "overflow": null,
            "overflow_x": null,
            "overflow_y": null,
            "padding": null,
            "right": null,
            "top": null,
            "visibility": null,
            "width": null
          }
        },
        "9a66696888f34aa9a2cd8ab676dffb62": {
          "model_module": "@jupyter-widgets/base",
          "model_name": "LayoutModel",
          "model_module_version": "1.2.0",
          "state": {
            "_model_module": "@jupyter-widgets/base",
            "_model_module_version": "1.2.0",
            "_model_name": "LayoutModel",
            "_view_count": null,
            "_view_module": "@jupyter-widgets/base",
            "_view_module_version": "1.2.0",
            "_view_name": "LayoutView",
            "align_content": null,
            "align_items": null,
            "align_self": null,
            "border": null,
            "bottom": null,
            "display": null,
            "flex": null,
            "flex_flow": null,
            "grid_area": null,
            "grid_auto_columns": null,
            "grid_auto_flow": null,
            "grid_auto_rows": null,
            "grid_column": null,
            "grid_gap": null,
            "grid_row": null,
            "grid_template_areas": null,
            "grid_template_columns": null,
            "grid_template_rows": null,
            "height": null,
            "justify_content": null,
            "justify_items": null,
            "left": null,
            "margin": null,
            "max_height": null,
            "max_width": null,
            "min_height": null,
            "min_width": null,
            "object_fit": null,
            "object_position": null,
            "order": null,
            "overflow": null,
            "overflow_x": null,
            "overflow_y": null,
            "padding": null,
            "right": null,
            "top": null,
            "visibility": null,
            "width": null
          }
        },
        "4b91db7f600a49e8b9bb3159085864c4": {
          "model_module": "@jupyter-widgets/controls",
          "model_name": "DescriptionStyleModel",
          "model_module_version": "1.5.0",
          "state": {
            "_model_module": "@jupyter-widgets/controls",
            "_model_module_version": "1.5.0",
            "_model_name": "DescriptionStyleModel",
            "_view_count": null,
            "_view_module": "@jupyter-widgets/base",
            "_view_module_version": "1.2.0",
            "_view_name": "StyleView",
            "description_width": ""
          }
        },
        "2f53aea4817c4efaa53df0657b18fa9a": {
          "model_module": "@jupyter-widgets/base",
          "model_name": "LayoutModel",
          "model_module_version": "1.2.0",
          "state": {
            "_model_module": "@jupyter-widgets/base",
            "_model_module_version": "1.2.0",
            "_model_name": "LayoutModel",
            "_view_count": null,
            "_view_module": "@jupyter-widgets/base",
            "_view_module_version": "1.2.0",
            "_view_name": "LayoutView",
            "align_content": null,
            "align_items": null,
            "align_self": null,
            "border": null,
            "bottom": null,
            "display": null,
            "flex": null,
            "flex_flow": null,
            "grid_area": null,
            "grid_auto_columns": null,
            "grid_auto_flow": null,
            "grid_auto_rows": null,
            "grid_column": null,
            "grid_gap": null,
            "grid_row": null,
            "grid_template_areas": null,
            "grid_template_columns": null,
            "grid_template_rows": null,
            "height": null,
            "justify_content": null,
            "justify_items": null,
            "left": null,
            "margin": null,
            "max_height": null,
            "max_width": null,
            "min_height": null,
            "min_width": null,
            "object_fit": null,
            "object_position": null,
            "order": null,
            "overflow": null,
            "overflow_x": null,
            "overflow_y": null,
            "padding": null,
            "right": null,
            "top": null,
            "visibility": null,
            "width": null
          }
        },
        "860b1941e83f463faeaf52cc15e6e460": {
          "model_module": "@jupyter-widgets/controls",
          "model_name": "ProgressStyleModel",
          "model_module_version": "1.5.0",
          "state": {
            "_model_module": "@jupyter-widgets/controls",
            "_model_module_version": "1.5.0",
            "_model_name": "ProgressStyleModel",
            "_view_count": null,
            "_view_module": "@jupyter-widgets/base",
            "_view_module_version": "1.2.0",
            "_view_name": "StyleView",
            "bar_color": null,
            "description_width": ""
          }
        },
        "ba2b74954a4d4726b0c42d584f2dd7d4": {
          "model_module": "@jupyter-widgets/base",
          "model_name": "LayoutModel",
          "model_module_version": "1.2.0",
          "state": {
            "_model_module": "@jupyter-widgets/base",
            "_model_module_version": "1.2.0",
            "_model_name": "LayoutModel",
            "_view_count": null,
            "_view_module": "@jupyter-widgets/base",
            "_view_module_version": "1.2.0",
            "_view_name": "LayoutView",
            "align_content": null,
            "align_items": null,
            "align_self": null,
            "border": null,
            "bottom": null,
            "display": null,
            "flex": null,
            "flex_flow": null,
            "grid_area": null,
            "grid_auto_columns": null,
            "grid_auto_flow": null,
            "grid_auto_rows": null,
            "grid_column": null,
            "grid_gap": null,
            "grid_row": null,
            "grid_template_areas": null,
            "grid_template_columns": null,
            "grid_template_rows": null,
            "height": null,
            "justify_content": null,
            "justify_items": null,
            "left": null,
            "margin": null,
            "max_height": null,
            "max_width": null,
            "min_height": null,
            "min_width": null,
            "object_fit": null,
            "object_position": null,
            "order": null,
            "overflow": null,
            "overflow_x": null,
            "overflow_y": null,
            "padding": null,
            "right": null,
            "top": null,
            "visibility": null,
            "width": null
          }
        },
        "f42daecfb11b4a44b2bcc47a3cbcf1ce": {
          "model_module": "@jupyter-widgets/controls",
          "model_name": "DescriptionStyleModel",
          "model_module_version": "1.5.0",
          "state": {
            "_model_module": "@jupyter-widgets/controls",
            "_model_module_version": "1.5.0",
            "_model_name": "DescriptionStyleModel",
            "_view_count": null,
            "_view_module": "@jupyter-widgets/base",
            "_view_module_version": "1.2.0",
            "_view_name": "StyleView",
            "description_width": ""
          }
        },
        "5f4ed9f6a0104ee98b803a7a43afdc7b": {
          "model_module": "@jupyter-widgets/controls",
          "model_name": "HBoxModel",
          "model_module_version": "1.5.0",
          "state": {
            "_dom_classes": [],
            "_model_module": "@jupyter-widgets/controls",
            "_model_module_version": "1.5.0",
            "_model_name": "HBoxModel",
            "_view_count": null,
            "_view_module": "@jupyter-widgets/controls",
            "_view_module_version": "1.5.0",
            "_view_name": "HBoxView",
            "box_style": "",
            "children": [
              "IPY_MODEL_db4e81e96c284cb99c6648d787698ab1",
              "IPY_MODEL_b394b06303994bb8b3ad5df994f9fc62",
              "IPY_MODEL_03f9de9319f94e1fb276aabbd081d5c2"
            ],
            "layout": "IPY_MODEL_5705c4becc8747db90f2901972aad149"
          }
        },
        "db4e81e96c284cb99c6648d787698ab1": {
          "model_module": "@jupyter-widgets/controls",
          "model_name": "HTMLModel",
          "model_module_version": "1.5.0",
          "state": {
            "_dom_classes": [],
            "_model_module": "@jupyter-widgets/controls",
            "_model_module_version": "1.5.0",
            "_model_name": "HTMLModel",
            "_view_count": null,
            "_view_module": "@jupyter-widgets/controls",
            "_view_module_version": "1.5.0",
            "_view_name": "HTMLView",
            "description": "",
            "description_tooltip": null,
            "layout": "IPY_MODEL_9e8ba7a5cad64cdfbeeb3c1a0ac7f7e2",
            "placeholder": "​",
            "style": "IPY_MODEL_9e7d532af00b40cea89172c05ff755d3",
            "value": "Generate report structure: 100%"
          }
        },
        "b394b06303994bb8b3ad5df994f9fc62": {
          "model_module": "@jupyter-widgets/controls",
          "model_name": "FloatProgressModel",
          "model_module_version": "1.5.0",
          "state": {
            "_dom_classes": [],
            "_model_module": "@jupyter-widgets/controls",
            "_model_module_version": "1.5.0",
            "_model_name": "FloatProgressModel",
            "_view_count": null,
            "_view_module": "@jupyter-widgets/controls",
            "_view_module_version": "1.5.0",
            "_view_name": "ProgressView",
            "bar_style": "success",
            "description": "",
            "description_tooltip": null,
            "layout": "IPY_MODEL_3db7d4aa1b384d0f88f30c0e3a7d93d4",
            "max": 1,
            "min": 0,
            "orientation": "horizontal",
            "style": "IPY_MODEL_96349511212043a596bc0360482fa103",
            "value": 1
          }
        },
        "03f9de9319f94e1fb276aabbd081d5c2": {
          "model_module": "@jupyter-widgets/controls",
          "model_name": "HTMLModel",
          "model_module_version": "1.5.0",
          "state": {
            "_dom_classes": [],
            "_model_module": "@jupyter-widgets/controls",
            "_model_module_version": "1.5.0",
            "_model_name": "HTMLModel",
            "_view_count": null,
            "_view_module": "@jupyter-widgets/controls",
            "_view_module_version": "1.5.0",
            "_view_name": "HTMLView",
            "description": "",
            "description_tooltip": null,
            "layout": "IPY_MODEL_643b5efc43444e5bac31a324434af852",
            "placeholder": "​",
            "style": "IPY_MODEL_dac539e5a299407f95e3a31726e1278b",
            "value": " 1/1 [00:07&lt;00:00,  7.52s/it]"
          }
        },
        "5705c4becc8747db90f2901972aad149": {
          "model_module": "@jupyter-widgets/base",
          "model_name": "LayoutModel",
          "model_module_version": "1.2.0",
          "state": {
            "_model_module": "@jupyter-widgets/base",
            "_model_module_version": "1.2.0",
            "_model_name": "LayoutModel",
            "_view_count": null,
            "_view_module": "@jupyter-widgets/base",
            "_view_module_version": "1.2.0",
            "_view_name": "LayoutView",
            "align_content": null,
            "align_items": null,
            "align_self": null,
            "border": null,
            "bottom": null,
            "display": null,
            "flex": null,
            "flex_flow": null,
            "grid_area": null,
            "grid_auto_columns": null,
            "grid_auto_flow": null,
            "grid_auto_rows": null,
            "grid_column": null,
            "grid_gap": null,
            "grid_row": null,
            "grid_template_areas": null,
            "grid_template_columns": null,
            "grid_template_rows": null,
            "height": null,
            "justify_content": null,
            "justify_items": null,
            "left": null,
            "margin": null,
            "max_height": null,
            "max_width": null,
            "min_height": null,
            "min_width": null,
            "object_fit": null,
            "object_position": null,
            "order": null,
            "overflow": null,
            "overflow_x": null,
            "overflow_y": null,
            "padding": null,
            "right": null,
            "top": null,
            "visibility": null,
            "width": null
          }
        },
        "9e8ba7a5cad64cdfbeeb3c1a0ac7f7e2": {
          "model_module": "@jupyter-widgets/base",
          "model_name": "LayoutModel",
          "model_module_version": "1.2.0",
          "state": {
            "_model_module": "@jupyter-widgets/base",
            "_model_module_version": "1.2.0",
            "_model_name": "LayoutModel",
            "_view_count": null,
            "_view_module": "@jupyter-widgets/base",
            "_view_module_version": "1.2.0",
            "_view_name": "LayoutView",
            "align_content": null,
            "align_items": null,
            "align_self": null,
            "border": null,
            "bottom": null,
            "display": null,
            "flex": null,
            "flex_flow": null,
            "grid_area": null,
            "grid_auto_columns": null,
            "grid_auto_flow": null,
            "grid_auto_rows": null,
            "grid_column": null,
            "grid_gap": null,
            "grid_row": null,
            "grid_template_areas": null,
            "grid_template_columns": null,
            "grid_template_rows": null,
            "height": null,
            "justify_content": null,
            "justify_items": null,
            "left": null,
            "margin": null,
            "max_height": null,
            "max_width": null,
            "min_height": null,
            "min_width": null,
            "object_fit": null,
            "object_position": null,
            "order": null,
            "overflow": null,
            "overflow_x": null,
            "overflow_y": null,
            "padding": null,
            "right": null,
            "top": null,
            "visibility": null,
            "width": null
          }
        },
        "9e7d532af00b40cea89172c05ff755d3": {
          "model_module": "@jupyter-widgets/controls",
          "model_name": "DescriptionStyleModel",
          "model_module_version": "1.5.0",
          "state": {
            "_model_module": "@jupyter-widgets/controls",
            "_model_module_version": "1.5.0",
            "_model_name": "DescriptionStyleModel",
            "_view_count": null,
            "_view_module": "@jupyter-widgets/base",
            "_view_module_version": "1.2.0",
            "_view_name": "StyleView",
            "description_width": ""
          }
        },
        "3db7d4aa1b384d0f88f30c0e3a7d93d4": {
          "model_module": "@jupyter-widgets/base",
          "model_name": "LayoutModel",
          "model_module_version": "1.2.0",
          "state": {
            "_model_module": "@jupyter-widgets/base",
            "_model_module_version": "1.2.0",
            "_model_name": "LayoutModel",
            "_view_count": null,
            "_view_module": "@jupyter-widgets/base",
            "_view_module_version": "1.2.0",
            "_view_name": "LayoutView",
            "align_content": null,
            "align_items": null,
            "align_self": null,
            "border": null,
            "bottom": null,
            "display": null,
            "flex": null,
            "flex_flow": null,
            "grid_area": null,
            "grid_auto_columns": null,
            "grid_auto_flow": null,
            "grid_auto_rows": null,
            "grid_column": null,
            "grid_gap": null,
            "grid_row": null,
            "grid_template_areas": null,
            "grid_template_columns": null,
            "grid_template_rows": null,
            "height": null,
            "justify_content": null,
            "justify_items": null,
            "left": null,
            "margin": null,
            "max_height": null,
            "max_width": null,
            "min_height": null,
            "min_width": null,
            "object_fit": null,
            "object_position": null,
            "order": null,
            "overflow": null,
            "overflow_x": null,
            "overflow_y": null,
            "padding": null,
            "right": null,
            "top": null,
            "visibility": null,
            "width": null
          }
        },
        "96349511212043a596bc0360482fa103": {
          "model_module": "@jupyter-widgets/controls",
          "model_name": "ProgressStyleModel",
          "model_module_version": "1.5.0",
          "state": {
            "_model_module": "@jupyter-widgets/controls",
            "_model_module_version": "1.5.0",
            "_model_name": "ProgressStyleModel",
            "_view_count": null,
            "_view_module": "@jupyter-widgets/base",
            "_view_module_version": "1.2.0",
            "_view_name": "StyleView",
            "bar_color": null,
            "description_width": ""
          }
        },
        "643b5efc43444e5bac31a324434af852": {
          "model_module": "@jupyter-widgets/base",
          "model_name": "LayoutModel",
          "model_module_version": "1.2.0",
          "state": {
            "_model_module": "@jupyter-widgets/base",
            "_model_module_version": "1.2.0",
            "_model_name": "LayoutModel",
            "_view_count": null,
            "_view_module": "@jupyter-widgets/base",
            "_view_module_version": "1.2.0",
            "_view_name": "LayoutView",
            "align_content": null,
            "align_items": null,
            "align_self": null,
            "border": null,
            "bottom": null,
            "display": null,
            "flex": null,
            "flex_flow": null,
            "grid_area": null,
            "grid_auto_columns": null,
            "grid_auto_flow": null,
            "grid_auto_rows": null,
            "grid_column": null,
            "grid_gap": null,
            "grid_row": null,
            "grid_template_areas": null,
            "grid_template_columns": null,
            "grid_template_rows": null,
            "height": null,
            "justify_content": null,
            "justify_items": null,
            "left": null,
            "margin": null,
            "max_height": null,
            "max_width": null,
            "min_height": null,
            "min_width": null,
            "object_fit": null,
            "object_position": null,
            "order": null,
            "overflow": null,
            "overflow_x": null,
            "overflow_y": null,
            "padding": null,
            "right": null,
            "top": null,
            "visibility": null,
            "width": null
          }
        },
        "dac539e5a299407f95e3a31726e1278b": {
          "model_module": "@jupyter-widgets/controls",
          "model_name": "DescriptionStyleModel",
          "model_module_version": "1.5.0",
          "state": {
            "_model_module": "@jupyter-widgets/controls",
            "_model_module_version": "1.5.0",
            "_model_name": "DescriptionStyleModel",
            "_view_count": null,
            "_view_module": "@jupyter-widgets/base",
            "_view_module_version": "1.2.0",
            "_view_name": "StyleView",
            "description_width": ""
          }
        },
        "65cd9ba295f64815be425942b40c3c95": {
          "model_module": "@jupyter-widgets/controls",
          "model_name": "HBoxModel",
          "model_module_version": "1.5.0",
          "state": {
            "_dom_classes": [],
            "_model_module": "@jupyter-widgets/controls",
            "_model_module_version": "1.5.0",
            "_model_name": "HBoxModel",
            "_view_count": null,
            "_view_module": "@jupyter-widgets/controls",
            "_view_module_version": "1.5.0",
            "_view_name": "HBoxView",
            "box_style": "",
            "children": [
              "IPY_MODEL_d65b15e822b14e31bf10bba8f4564bc8",
              "IPY_MODEL_8692d7edcec5429ab81df10643af89df",
              "IPY_MODEL_01472793920b48958a6ecba84da9f6df"
            ],
            "layout": "IPY_MODEL_eb1aeba1d83e4e4eb4cd736e1fa9baed"
          }
        },
        "d65b15e822b14e31bf10bba8f4564bc8": {
          "model_module": "@jupyter-widgets/controls",
          "model_name": "HTMLModel",
          "model_module_version": "1.5.0",
          "state": {
            "_dom_classes": [],
            "_model_module": "@jupyter-widgets/controls",
            "_model_module_version": "1.5.0",
            "_model_name": "HTMLModel",
            "_view_count": null,
            "_view_module": "@jupyter-widgets/controls",
            "_view_module_version": "1.5.0",
            "_view_name": "HTMLView",
            "description": "",
            "description_tooltip": null,
            "layout": "IPY_MODEL_77422ca7a1204061b1d29fe038996c55",
            "placeholder": "​",
            "style": "IPY_MODEL_b6f6463daa6446e79e3dd62570766c72",
            "value": "Render HTML: 100%"
          }
        },
        "8692d7edcec5429ab81df10643af89df": {
          "model_module": "@jupyter-widgets/controls",
          "model_name": "FloatProgressModel",
          "model_module_version": "1.5.0",
          "state": {
            "_dom_classes": [],
            "_model_module": "@jupyter-widgets/controls",
            "_model_module_version": "1.5.0",
            "_model_name": "FloatProgressModel",
            "_view_count": null,
            "_view_module": "@jupyter-widgets/controls",
            "_view_module_version": "1.5.0",
            "_view_name": "ProgressView",
            "bar_style": "success",
            "description": "",
            "description_tooltip": null,
            "layout": "IPY_MODEL_f6d9fc55d3844a4f9ab44b582a75813c",
            "max": 1,
            "min": 0,
            "orientation": "horizontal",
            "style": "IPY_MODEL_0d5f61d21ed141848df0d061ee6bc1aa",
            "value": 1
          }
        },
        "01472793920b48958a6ecba84da9f6df": {
          "model_module": "@jupyter-widgets/controls",
          "model_name": "HTMLModel",
          "model_module_version": "1.5.0",
          "state": {
            "_dom_classes": [],
            "_model_module": "@jupyter-widgets/controls",
            "_model_module_version": "1.5.0",
            "_model_name": "HTMLModel",
            "_view_count": null,
            "_view_module": "@jupyter-widgets/controls",
            "_view_module_version": "1.5.0",
            "_view_name": "HTMLView",
            "description": "",
            "description_tooltip": null,
            "layout": "IPY_MODEL_6a8499e4c65044869fe0080f69e59598",
            "placeholder": "​",
            "style": "IPY_MODEL_94c2d23061164b7d841ccbf003be3e33",
            "value": " 1/1 [00:03&lt;00:00,  3.13s/it]"
          }
        },
        "eb1aeba1d83e4e4eb4cd736e1fa9baed": {
          "model_module": "@jupyter-widgets/base",
          "model_name": "LayoutModel",
          "model_module_version": "1.2.0",
          "state": {
            "_model_module": "@jupyter-widgets/base",
            "_model_module_version": "1.2.0",
            "_model_name": "LayoutModel",
            "_view_count": null,
            "_view_module": "@jupyter-widgets/base",
            "_view_module_version": "1.2.0",
            "_view_name": "LayoutView",
            "align_content": null,
            "align_items": null,
            "align_self": null,
            "border": null,
            "bottom": null,
            "display": null,
            "flex": null,
            "flex_flow": null,
            "grid_area": null,
            "grid_auto_columns": null,
            "grid_auto_flow": null,
            "grid_auto_rows": null,
            "grid_column": null,
            "grid_gap": null,
            "grid_row": null,
            "grid_template_areas": null,
            "grid_template_columns": null,
            "grid_template_rows": null,
            "height": null,
            "justify_content": null,
            "justify_items": null,
            "left": null,
            "margin": null,
            "max_height": null,
            "max_width": null,
            "min_height": null,
            "min_width": null,
            "object_fit": null,
            "object_position": null,
            "order": null,
            "overflow": null,
            "overflow_x": null,
            "overflow_y": null,
            "padding": null,
            "right": null,
            "top": null,
            "visibility": null,
            "width": null
          }
        },
        "77422ca7a1204061b1d29fe038996c55": {
          "model_module": "@jupyter-widgets/base",
          "model_name": "LayoutModel",
          "model_module_version": "1.2.0",
          "state": {
            "_model_module": "@jupyter-widgets/base",
            "_model_module_version": "1.2.0",
            "_model_name": "LayoutModel",
            "_view_count": null,
            "_view_module": "@jupyter-widgets/base",
            "_view_module_version": "1.2.0",
            "_view_name": "LayoutView",
            "align_content": null,
            "align_items": null,
            "align_self": null,
            "border": null,
            "bottom": null,
            "display": null,
            "flex": null,
            "flex_flow": null,
            "grid_area": null,
            "grid_auto_columns": null,
            "grid_auto_flow": null,
            "grid_auto_rows": null,
            "grid_column": null,
            "grid_gap": null,
            "grid_row": null,
            "grid_template_areas": null,
            "grid_template_columns": null,
            "grid_template_rows": null,
            "height": null,
            "justify_content": null,
            "justify_items": null,
            "left": null,
            "margin": null,
            "max_height": null,
            "max_width": null,
            "min_height": null,
            "min_width": null,
            "object_fit": null,
            "object_position": null,
            "order": null,
            "overflow": null,
            "overflow_x": null,
            "overflow_y": null,
            "padding": null,
            "right": null,
            "top": null,
            "visibility": null,
            "width": null
          }
        },
        "b6f6463daa6446e79e3dd62570766c72": {
          "model_module": "@jupyter-widgets/controls",
          "model_name": "DescriptionStyleModel",
          "model_module_version": "1.5.0",
          "state": {
            "_model_module": "@jupyter-widgets/controls",
            "_model_module_version": "1.5.0",
            "_model_name": "DescriptionStyleModel",
            "_view_count": null,
            "_view_module": "@jupyter-widgets/base",
            "_view_module_version": "1.2.0",
            "_view_name": "StyleView",
            "description_width": ""
          }
        },
        "f6d9fc55d3844a4f9ab44b582a75813c": {
          "model_module": "@jupyter-widgets/base",
          "model_name": "LayoutModel",
          "model_module_version": "1.2.0",
          "state": {
            "_model_module": "@jupyter-widgets/base",
            "_model_module_version": "1.2.0",
            "_model_name": "LayoutModel",
            "_view_count": null,
            "_view_module": "@jupyter-widgets/base",
            "_view_module_version": "1.2.0",
            "_view_name": "LayoutView",
            "align_content": null,
            "align_items": null,
            "align_self": null,
            "border": null,
            "bottom": null,
            "display": null,
            "flex": null,
            "flex_flow": null,
            "grid_area": null,
            "grid_auto_columns": null,
            "grid_auto_flow": null,
            "grid_auto_rows": null,
            "grid_column": null,
            "grid_gap": null,
            "grid_row": null,
            "grid_template_areas": null,
            "grid_template_columns": null,
            "grid_template_rows": null,
            "height": null,
            "justify_content": null,
            "justify_items": null,
            "left": null,
            "margin": null,
            "max_height": null,
            "max_width": null,
            "min_height": null,
            "min_width": null,
            "object_fit": null,
            "object_position": null,
            "order": null,
            "overflow": null,
            "overflow_x": null,
            "overflow_y": null,
            "padding": null,
            "right": null,
            "top": null,
            "visibility": null,
            "width": null
          }
        },
        "0d5f61d21ed141848df0d061ee6bc1aa": {
          "model_module": "@jupyter-widgets/controls",
          "model_name": "ProgressStyleModel",
          "model_module_version": "1.5.0",
          "state": {
            "_model_module": "@jupyter-widgets/controls",
            "_model_module_version": "1.5.0",
            "_model_name": "ProgressStyleModel",
            "_view_count": null,
            "_view_module": "@jupyter-widgets/base",
            "_view_module_version": "1.2.0",
            "_view_name": "StyleView",
            "bar_color": null,
            "description_width": ""
          }
        },
        "6a8499e4c65044869fe0080f69e59598": {
          "model_module": "@jupyter-widgets/base",
          "model_name": "LayoutModel",
          "model_module_version": "1.2.0",
          "state": {
            "_model_module": "@jupyter-widgets/base",
            "_model_module_version": "1.2.0",
            "_model_name": "LayoutModel",
            "_view_count": null,
            "_view_module": "@jupyter-widgets/base",
            "_view_module_version": "1.2.0",
            "_view_name": "LayoutView",
            "align_content": null,
            "align_items": null,
            "align_self": null,
            "border": null,
            "bottom": null,
            "display": null,
            "flex": null,
            "flex_flow": null,
            "grid_area": null,
            "grid_auto_columns": null,
            "grid_auto_flow": null,
            "grid_auto_rows": null,
            "grid_column": null,
            "grid_gap": null,
            "grid_row": null,
            "grid_template_areas": null,
            "grid_template_columns": null,
            "grid_template_rows": null,
            "height": null,
            "justify_content": null,
            "justify_items": null,
            "left": null,
            "margin": null,
            "max_height": null,
            "max_width": null,
            "min_height": null,
            "min_width": null,
            "object_fit": null,
            "object_position": null,
            "order": null,
            "overflow": null,
            "overflow_x": null,
            "overflow_y": null,
            "padding": null,
            "right": null,
            "top": null,
            "visibility": null,
            "width": null
          }
        },
        "94c2d23061164b7d841ccbf003be3e33": {
          "model_module": "@jupyter-widgets/controls",
          "model_name": "DescriptionStyleModel",
          "model_module_version": "1.5.0",
          "state": {
            "_model_module": "@jupyter-widgets/controls",
            "_model_module_version": "1.5.0",
            "_model_name": "DescriptionStyleModel",
            "_view_count": null,
            "_view_module": "@jupyter-widgets/base",
            "_view_module_version": "1.2.0",
            "_view_name": "StyleView",
            "description_width": ""
          }
        },
        "8cd1208c098d42468605396aad8ced18": {
          "model_module": "@jupyter-widgets/controls",
          "model_name": "HBoxModel",
          "model_module_version": "1.5.0",
          "state": {
            "_dom_classes": [],
            "_model_module": "@jupyter-widgets/controls",
            "_model_module_version": "1.5.0",
            "_model_name": "HBoxModel",
            "_view_count": null,
            "_view_module": "@jupyter-widgets/controls",
            "_view_module_version": "1.5.0",
            "_view_name": "HBoxView",
            "box_style": "",
            "children": [
              "IPY_MODEL_52ebd4bb17754a01bc79beeaf92e0b5d",
              "IPY_MODEL_d63203e39b4d4788b2861a819c59ee6e",
              "IPY_MODEL_146ad9676b4d452b8b4172e43702abab"
            ],
            "layout": "IPY_MODEL_32caa4e7a7954b129bf313889687030b"
          }
        },
        "52ebd4bb17754a01bc79beeaf92e0b5d": {
          "model_module": "@jupyter-widgets/controls",
          "model_name": "HTMLModel",
          "model_module_version": "1.5.0",
          "state": {
            "_dom_classes": [],
            "_model_module": "@jupyter-widgets/controls",
            "_model_module_version": "1.5.0",
            "_model_name": "HTMLModel",
            "_view_count": null,
            "_view_module": "@jupyter-widgets/controls",
            "_view_module_version": "1.5.0",
            "_view_name": "HTMLView",
            "description": "",
            "description_tooltip": null,
            "layout": "IPY_MODEL_a6b4e60c0cd441bb99d8cc8c0080b125",
            "placeholder": "​",
            "style": "IPY_MODEL_108fd9ff184b4a78bddf16a1291e0e3e",
            "value": "Export report to file: 100%"
          }
        },
        "d63203e39b4d4788b2861a819c59ee6e": {
          "model_module": "@jupyter-widgets/controls",
          "model_name": "FloatProgressModel",
          "model_module_version": "1.5.0",
          "state": {
            "_dom_classes": [],
            "_model_module": "@jupyter-widgets/controls",
            "_model_module_version": "1.5.0",
            "_model_name": "FloatProgressModel",
            "_view_count": null,
            "_view_module": "@jupyter-widgets/controls",
            "_view_module_version": "1.5.0",
            "_view_name": "ProgressView",
            "bar_style": "success",
            "description": "",
            "description_tooltip": null,
            "layout": "IPY_MODEL_1dc64c422da74aa387deb82302cd3170",
            "max": 1,
            "min": 0,
            "orientation": "horizontal",
            "style": "IPY_MODEL_ec9fc5ba0744444283591c67b2793c7f",
            "value": 1
          }
        },
        "146ad9676b4d452b8b4172e43702abab": {
          "model_module": "@jupyter-widgets/controls",
          "model_name": "HTMLModel",
          "model_module_version": "1.5.0",
          "state": {
            "_dom_classes": [],
            "_model_module": "@jupyter-widgets/controls",
            "_model_module_version": "1.5.0",
            "_model_name": "HTMLModel",
            "_view_count": null,
            "_view_module": "@jupyter-widgets/controls",
            "_view_module_version": "1.5.0",
            "_view_name": "HTMLView",
            "description": "",
            "description_tooltip": null,
            "layout": "IPY_MODEL_d4dd935abed949359ff94970ca934cef",
            "placeholder": "​",
            "style": "IPY_MODEL_9fbe0799c35e44f9a213e584538c3b12",
            "value": " 1/1 [00:00&lt;00:00, 12.56it/s]"
          }
        },
        "32caa4e7a7954b129bf313889687030b": {
          "model_module": "@jupyter-widgets/base",
          "model_name": "LayoutModel",
          "model_module_version": "1.2.0",
          "state": {
            "_model_module": "@jupyter-widgets/base",
            "_model_module_version": "1.2.0",
            "_model_name": "LayoutModel",
            "_view_count": null,
            "_view_module": "@jupyter-widgets/base",
            "_view_module_version": "1.2.0",
            "_view_name": "LayoutView",
            "align_content": null,
            "align_items": null,
            "align_self": null,
            "border": null,
            "bottom": null,
            "display": null,
            "flex": null,
            "flex_flow": null,
            "grid_area": null,
            "grid_auto_columns": null,
            "grid_auto_flow": null,
            "grid_auto_rows": null,
            "grid_column": null,
            "grid_gap": null,
            "grid_row": null,
            "grid_template_areas": null,
            "grid_template_columns": null,
            "grid_template_rows": null,
            "height": null,
            "justify_content": null,
            "justify_items": null,
            "left": null,
            "margin": null,
            "max_height": null,
            "max_width": null,
            "min_height": null,
            "min_width": null,
            "object_fit": null,
            "object_position": null,
            "order": null,
            "overflow": null,
            "overflow_x": null,
            "overflow_y": null,
            "padding": null,
            "right": null,
            "top": null,
            "visibility": null,
            "width": null
          }
        },
        "a6b4e60c0cd441bb99d8cc8c0080b125": {
          "model_module": "@jupyter-widgets/base",
          "model_name": "LayoutModel",
          "model_module_version": "1.2.0",
          "state": {
            "_model_module": "@jupyter-widgets/base",
            "_model_module_version": "1.2.0",
            "_model_name": "LayoutModel",
            "_view_count": null,
            "_view_module": "@jupyter-widgets/base",
            "_view_module_version": "1.2.0",
            "_view_name": "LayoutView",
            "align_content": null,
            "align_items": null,
            "align_self": null,
            "border": null,
            "bottom": null,
            "display": null,
            "flex": null,
            "flex_flow": null,
            "grid_area": null,
            "grid_auto_columns": null,
            "grid_auto_flow": null,
            "grid_auto_rows": null,
            "grid_column": null,
            "grid_gap": null,
            "grid_row": null,
            "grid_template_areas": null,
            "grid_template_columns": null,
            "grid_template_rows": null,
            "height": null,
            "justify_content": null,
            "justify_items": null,
            "left": null,
            "margin": null,
            "max_height": null,
            "max_width": null,
            "min_height": null,
            "min_width": null,
            "object_fit": null,
            "object_position": null,
            "order": null,
            "overflow": null,
            "overflow_x": null,
            "overflow_y": null,
            "padding": null,
            "right": null,
            "top": null,
            "visibility": null,
            "width": null
          }
        },
        "108fd9ff184b4a78bddf16a1291e0e3e": {
          "model_module": "@jupyter-widgets/controls",
          "model_name": "DescriptionStyleModel",
          "model_module_version": "1.5.0",
          "state": {
            "_model_module": "@jupyter-widgets/controls",
            "_model_module_version": "1.5.0",
            "_model_name": "DescriptionStyleModel",
            "_view_count": null,
            "_view_module": "@jupyter-widgets/base",
            "_view_module_version": "1.2.0",
            "_view_name": "StyleView",
            "description_width": ""
          }
        },
        "1dc64c422da74aa387deb82302cd3170": {
          "model_module": "@jupyter-widgets/base",
          "model_name": "LayoutModel",
          "model_module_version": "1.2.0",
          "state": {
            "_model_module": "@jupyter-widgets/base",
            "_model_module_version": "1.2.0",
            "_model_name": "LayoutModel",
            "_view_count": null,
            "_view_module": "@jupyter-widgets/base",
            "_view_module_version": "1.2.0",
            "_view_name": "LayoutView",
            "align_content": null,
            "align_items": null,
            "align_self": null,
            "border": null,
            "bottom": null,
            "display": null,
            "flex": null,
            "flex_flow": null,
            "grid_area": null,
            "grid_auto_columns": null,
            "grid_auto_flow": null,
            "grid_auto_rows": null,
            "grid_column": null,
            "grid_gap": null,
            "grid_row": null,
            "grid_template_areas": null,
            "grid_template_columns": null,
            "grid_template_rows": null,
            "height": null,
            "justify_content": null,
            "justify_items": null,
            "left": null,
            "margin": null,
            "max_height": null,
            "max_width": null,
            "min_height": null,
            "min_width": null,
            "object_fit": null,
            "object_position": null,
            "order": null,
            "overflow": null,
            "overflow_x": null,
            "overflow_y": null,
            "padding": null,
            "right": null,
            "top": null,
            "visibility": null,
            "width": null
          }
        },
        "ec9fc5ba0744444283591c67b2793c7f": {
          "model_module": "@jupyter-widgets/controls",
          "model_name": "ProgressStyleModel",
          "model_module_version": "1.5.0",
          "state": {
            "_model_module": "@jupyter-widgets/controls",
            "_model_module_version": "1.5.0",
            "_model_name": "ProgressStyleModel",
            "_view_count": null,
            "_view_module": "@jupyter-widgets/base",
            "_view_module_version": "1.2.0",
            "_view_name": "StyleView",
            "bar_color": null,
            "description_width": ""
          }
        },
        "d4dd935abed949359ff94970ca934cef": {
          "model_module": "@jupyter-widgets/base",
          "model_name": "LayoutModel",
          "model_module_version": "1.2.0",
          "state": {
            "_model_module": "@jupyter-widgets/base",
            "_model_module_version": "1.2.0",
            "_model_name": "LayoutModel",
            "_view_count": null,
            "_view_module": "@jupyter-widgets/base",
            "_view_module_version": "1.2.0",
            "_view_name": "LayoutView",
            "align_content": null,
            "align_items": null,
            "align_self": null,
            "border": null,
            "bottom": null,
            "display": null,
            "flex": null,
            "flex_flow": null,
            "grid_area": null,
            "grid_auto_columns": null,
            "grid_auto_flow": null,
            "grid_auto_rows": null,
            "grid_column": null,
            "grid_gap": null,
            "grid_row": null,
            "grid_template_areas": null,
            "grid_template_columns": null,
            "grid_template_rows": null,
            "height": null,
            "justify_content": null,
            "justify_items": null,
            "left": null,
            "margin": null,
            "max_height": null,
            "max_width": null,
            "min_height": null,
            "min_width": null,
            "object_fit": null,
            "object_position": null,
            "order": null,
            "overflow": null,
            "overflow_x": null,
            "overflow_y": null,
            "padding": null,
            "right": null,
            "top": null,
            "visibility": null,
            "width": null
          }
        },
        "9fbe0799c35e44f9a213e584538c3b12": {
          "model_module": "@jupyter-widgets/controls",
          "model_name": "DescriptionStyleModel",
          "model_module_version": "1.5.0",
          "state": {
            "_model_module": "@jupyter-widgets/controls",
            "_model_module_version": "1.5.0",
            "_model_name": "DescriptionStyleModel",
            "_view_count": null,
            "_view_module": "@jupyter-widgets/base",
            "_view_module_version": "1.2.0",
            "_view_name": "StyleView",
            "description_width": ""
          }
        },
        "5d54610722dd4b4b8df1c25477356dc6": {
          "model_module": "@jupyter-widgets/controls",
          "model_name": "HBoxModel",
          "model_module_version": "1.5.0",
          "state": {
            "_dom_classes": [],
            "_model_module": "@jupyter-widgets/controls",
            "_model_module_version": "1.5.0",
            "_model_name": "HBoxModel",
            "_view_count": null,
            "_view_module": "@jupyter-widgets/controls",
            "_view_module_version": "1.5.0",
            "_view_name": "HBoxView",
            "box_style": "",
            "children": [
              "IPY_MODEL_3c45da0ae2514ea18c9c6503edd93a49",
              "IPY_MODEL_61968ea7393c4c7598df976ee645bb3f",
              "IPY_MODEL_8dc028644bf64bd78d97375b554fc751"
            ],
            "layout": "IPY_MODEL_600e0330a1eb48f49359a9441871d534"
          }
        },
        "3c45da0ae2514ea18c9c6503edd93a49": {
          "model_module": "@jupyter-widgets/controls",
          "model_name": "HTMLModel",
          "model_module_version": "1.5.0",
          "state": {
            "_dom_classes": [],
            "_model_module": "@jupyter-widgets/controls",
            "_model_module_version": "1.5.0",
            "_model_name": "HTMLModel",
            "_view_count": null,
            "_view_module": "@jupyter-widgets/controls",
            "_view_module_version": "1.5.0",
            "_view_name": "HTMLView",
            "description": "",
            "description_tooltip": null,
            "layout": "IPY_MODEL_d5ec1ee1d40249e3b4b2b6d80d096c27",
            "placeholder": "​",
            "style": "IPY_MODEL_0b7fccec3f684c39ac5d8d667e83b4e1",
            "value": "Done! Use &#x27;show&#x27; commands to display/save.   "
          }
        },
        "61968ea7393c4c7598df976ee645bb3f": {
          "model_module": "@jupyter-widgets/controls",
          "model_name": "FloatProgressModel",
          "model_module_version": "1.5.0",
          "state": {
            "_dom_classes": [],
            "_model_module": "@jupyter-widgets/controls",
            "_model_module_version": "1.5.0",
            "_model_name": "FloatProgressModel",
            "_view_count": null,
            "_view_module": "@jupyter-widgets/controls",
            "_view_module_version": "1.5.0",
            "_view_name": "ProgressView",
            "bar_style": "success",
            "description": "",
            "description_tooltip": null,
            "layout": "IPY_MODEL_77a8e37d04354189a20b9f06ca4bfb86",
            "max": 1,
            "min": 0,
            "orientation": "horizontal",
            "style": "IPY_MODEL_8c3f4ec3f4974e0d9d7cfb4544285637",
            "value": 1
          }
        },
        "8dc028644bf64bd78d97375b554fc751": {
          "model_module": "@jupyter-widgets/controls",
          "model_name": "HTMLModel",
          "model_module_version": "1.5.0",
          "state": {
            "_dom_classes": [],
            "_model_module": "@jupyter-widgets/controls",
            "_model_module_version": "1.5.0",
            "_model_name": "HTMLModel",
            "_view_count": null,
            "_view_module": "@jupyter-widgets/controls",
            "_view_module_version": "1.5.0",
            "_view_name": "HTMLView",
            "description": "",
            "description_tooltip": null,
            "layout": "IPY_MODEL_241f282d461c431d96e817c7d2f3c1aa",
            "placeholder": "​",
            "style": "IPY_MODEL_e66ea467dd6c4efea2144a7e02743634",
            "value": " [100%]   00:02 -&gt; (00:00 left)"
          }
        },
        "600e0330a1eb48f49359a9441871d534": {
          "model_module": "@jupyter-widgets/base",
          "model_name": "LayoutModel",
          "model_module_version": "1.2.0",
          "state": {
            "_model_module": "@jupyter-widgets/base",
            "_model_module_version": "1.2.0",
            "_model_name": "LayoutModel",
            "_view_count": null,
            "_view_module": "@jupyter-widgets/base",
            "_view_module_version": "1.2.0",
            "_view_name": "LayoutView",
            "align_content": null,
            "align_items": null,
            "align_self": null,
            "border": null,
            "bottom": null,
            "display": "inline-flex",
            "flex": null,
            "flex_flow": "row wrap",
            "grid_area": null,
            "grid_auto_columns": null,
            "grid_auto_flow": null,
            "grid_auto_rows": null,
            "grid_column": null,
            "grid_gap": null,
            "grid_row": null,
            "grid_template_areas": null,
            "grid_template_columns": null,
            "grid_template_rows": null,
            "height": null,
            "justify_content": null,
            "justify_items": null,
            "left": null,
            "margin": null,
            "max_height": null,
            "max_width": null,
            "min_height": null,
            "min_width": null,
            "object_fit": null,
            "object_position": null,
            "order": null,
            "overflow": null,
            "overflow_x": null,
            "overflow_y": null,
            "padding": null,
            "right": null,
            "top": null,
            "visibility": null,
            "width": "100%"
          }
        },
        "d5ec1ee1d40249e3b4b2b6d80d096c27": {
          "model_module": "@jupyter-widgets/base",
          "model_name": "LayoutModel",
          "model_module_version": "1.2.0",
          "state": {
            "_model_module": "@jupyter-widgets/base",
            "_model_module_version": "1.2.0",
            "_model_name": "LayoutModel",
            "_view_count": null,
            "_view_module": "@jupyter-widgets/base",
            "_view_module_version": "1.2.0",
            "_view_name": "LayoutView",
            "align_content": null,
            "align_items": null,
            "align_self": null,
            "border": null,
            "bottom": null,
            "display": null,
            "flex": null,
            "flex_flow": null,
            "grid_area": null,
            "grid_auto_columns": null,
            "grid_auto_flow": null,
            "grid_auto_rows": null,
            "grid_column": null,
            "grid_gap": null,
            "grid_row": null,
            "grid_template_areas": null,
            "grid_template_columns": null,
            "grid_template_rows": null,
            "height": null,
            "justify_content": null,
            "justify_items": null,
            "left": null,
            "margin": null,
            "max_height": null,
            "max_width": null,
            "min_height": null,
            "min_width": null,
            "object_fit": null,
            "object_position": null,
            "order": null,
            "overflow": null,
            "overflow_x": null,
            "overflow_y": null,
            "padding": null,
            "right": null,
            "top": null,
            "visibility": null,
            "width": null
          }
        },
        "0b7fccec3f684c39ac5d8d667e83b4e1": {
          "model_module": "@jupyter-widgets/controls",
          "model_name": "DescriptionStyleModel",
          "model_module_version": "1.5.0",
          "state": {
            "_model_module": "@jupyter-widgets/controls",
            "_model_module_version": "1.5.0",
            "_model_name": "DescriptionStyleModel",
            "_view_count": null,
            "_view_module": "@jupyter-widgets/base",
            "_view_module_version": "1.2.0",
            "_view_name": "StyleView",
            "description_width": ""
          }
        },
        "77a8e37d04354189a20b9f06ca4bfb86": {
          "model_module": "@jupyter-widgets/base",
          "model_name": "LayoutModel",
          "model_module_version": "1.2.0",
          "state": {
            "_model_module": "@jupyter-widgets/base",
            "_model_module_version": "1.2.0",
            "_model_name": "LayoutModel",
            "_view_count": null,
            "_view_module": "@jupyter-widgets/base",
            "_view_module_version": "1.2.0",
            "_view_name": "LayoutView",
            "align_content": null,
            "align_items": null,
            "align_self": null,
            "border": null,
            "bottom": null,
            "display": null,
            "flex": "2",
            "flex_flow": null,
            "grid_area": null,
            "grid_auto_columns": null,
            "grid_auto_flow": null,
            "grid_auto_rows": null,
            "grid_column": null,
            "grid_gap": null,
            "grid_row": null,
            "grid_template_areas": null,
            "grid_template_columns": null,
            "grid_template_rows": null,
            "height": null,
            "justify_content": null,
            "justify_items": null,
            "left": null,
            "margin": null,
            "max_height": null,
            "max_width": null,
            "min_height": null,
            "min_width": null,
            "object_fit": null,
            "object_position": null,
            "order": null,
            "overflow": null,
            "overflow_x": null,
            "overflow_y": null,
            "padding": null,
            "right": null,
            "top": null,
            "visibility": null,
            "width": null
          }
        },
        "8c3f4ec3f4974e0d9d7cfb4544285637": {
          "model_module": "@jupyter-widgets/controls",
          "model_name": "ProgressStyleModel",
          "model_module_version": "1.5.0",
          "state": {
            "_model_module": "@jupyter-widgets/controls",
            "_model_module_version": "1.5.0",
            "_model_name": "ProgressStyleModel",
            "_view_count": null,
            "_view_module": "@jupyter-widgets/base",
            "_view_module_version": "1.2.0",
            "_view_name": "StyleView",
            "bar_color": null,
            "description_width": ""
          }
        },
        "241f282d461c431d96e817c7d2f3c1aa": {
          "model_module": "@jupyter-widgets/base",
          "model_name": "LayoutModel",
          "model_module_version": "1.2.0",
          "state": {
            "_model_module": "@jupyter-widgets/base",
            "_model_module_version": "1.2.0",
            "_model_name": "LayoutModel",
            "_view_count": null,
            "_view_module": "@jupyter-widgets/base",
            "_view_module_version": "1.2.0",
            "_view_name": "LayoutView",
            "align_content": null,
            "align_items": null,
            "align_self": null,
            "border": null,
            "bottom": null,
            "display": null,
            "flex": null,
            "flex_flow": null,
            "grid_area": null,
            "grid_auto_columns": null,
            "grid_auto_flow": null,
            "grid_auto_rows": null,
            "grid_column": null,
            "grid_gap": null,
            "grid_row": null,
            "grid_template_areas": null,
            "grid_template_columns": null,
            "grid_template_rows": null,
            "height": null,
            "justify_content": null,
            "justify_items": null,
            "left": null,
            "margin": null,
            "max_height": null,
            "max_width": null,
            "min_height": null,
            "min_width": null,
            "object_fit": null,
            "object_position": null,
            "order": null,
            "overflow": null,
            "overflow_x": null,
            "overflow_y": null,
            "padding": null,
            "right": null,
            "top": null,
            "visibility": null,
            "width": null
          }
        },
        "e66ea467dd6c4efea2144a7e02743634": {
          "model_module": "@jupyter-widgets/controls",
          "model_name": "DescriptionStyleModel",
          "model_module_version": "1.5.0",
          "state": {
            "_model_module": "@jupyter-widgets/controls",
            "_model_module_version": "1.5.0",
            "_model_name": "DescriptionStyleModel",
            "_view_count": null,
            "_view_module": "@jupyter-widgets/base",
            "_view_module_version": "1.2.0",
            "_view_name": "StyleView",
            "description_width": ""
          }
        }
      }
    }
  },
  "nbformat": 4,
  "nbformat_minor": 5
}